{
 "cells": [
  {
   "cell_type": "code",
   "execution_count": null,
   "metadata": {},
   "outputs": [],
   "source": []
  },
  {
   "cell_type": "code",
   "execution_count": 1,
   "metadata": {},
   "outputs": [],
   "source": [
    "import os\n",
    "import json\n",
    "import shutil\n",
    "import pandas as pd"
   ]
  },
  {
   "cell_type": "code",
   "execution_count": 2,
   "metadata": {},
   "outputs": [],
   "source": [
    "def checkIntegrity(start_path, files, end_path):\n",
    "    good = len(files)\n",
    "    for file in files:\n",
    "        path = start_path + file + end_path\n",
    "        statinfo = os.stat(path)\n",
    "        if statinfo.st_size < 1:\n",
    "            print(\"Problem with file: \" + file)\n",
    "            good = good - 1\n",
    "            shutil.rmtree(start_path + file + \"/\")\n",
    "            print(\"Delete file : \" + file)\n",
    "        else:\n",
    "            try:\n",
    "                with open(path) as data_file:    \n",
    "                    data = json.load(data_file)\n",
    "            except:\n",
    "                print(\"Error not json file: \" + file)\n",
    "                good = good -1\n",
    "                shutil.rmtree(start_path + file + \"/\")\n",
    "                print(\"Delete file : \" + file)\n",
    "    print(\"Good: \" + str(good))"
   ]
  },
  {
   "cell_type": "code",
   "execution_count": 3,
   "metadata": {
    "collapsed": true
   },
   "outputs": [],
   "source": [
    "def getWrongEmptyPhotos(start_path, files, end_path):\n",
    "    empty = []\n",
    "    for file in files:\n",
    "        path = start_path + file + end_path\n",
    "        statinfo = os.stat(path)\n",
    "        if statinfo.st_size == 2:\n",
    "            with open(start_path + file + \"/data.json\") as data_file:    \n",
    "                data = json.load(data_file)\n",
    "                if data[\"photos_count\"] != \"0\":\n",
    "                    empty.append(file)\n",
    "                    shutil.rmtree(start_path + file + \"/\")\n",
    "                    print(\"Delete file : \" + file)\n",
    "    return empty"
   ]
  },
  {
   "cell_type": "code",
   "execution_count": 6,
   "metadata": {},
   "outputs": [
    {
     "name": "stdout",
     "output_type": "stream",
     "text": [
      "['229804', '245348', '25093', '14930', '257743', '255991', '236394', '13148', '18454', '215435']\n",
      "Nb of recipes: 44069\n"
     ]
    }
   ],
   "source": [
    "recipes = [f.path.split(\"/\")[1] for f in os.scandir(\"recipe_data/\") if f.is_dir() ]    \n",
    "print(recipes[:10])\n",
    "print(\"Nb of recipes: \" + str(len(recipes)))"
   ]
  },
  {
   "cell_type": "code",
   "execution_count": 7,
   "metadata": {},
   "outputs": [
    {
     "name": "stdout",
     "output_type": "stream",
     "text": [
      "Good: 44069\n"
     ]
    }
   ],
   "source": [
    "checkIntegrity(\"recipe_data/\", recipes, \"/photos.json\")"
   ]
  },
  {
   "cell_type": "code",
   "execution_count": 8,
   "metadata": {},
   "outputs": [
    {
     "name": "stdout",
     "output_type": "stream",
     "text": [
      "Good: 44069\n"
     ]
    }
   ],
   "source": [
    "checkIntegrity(\"recipe_data/\", recipes, \"/reviews.json\")"
   ]
  },
  {
   "cell_type": "code",
   "execution_count": 6,
   "metadata": {},
   "outputs": [
    {
     "ename": "FileNotFoundError",
     "evalue": "[Errno 2] No such file or directory: 'data/13045/photos.json'",
     "output_type": "error",
     "traceback": [
      "\u001b[1;31m---------------------------------------------------------------------------\u001b[0m",
      "\u001b[1;31mFileNotFoundError\u001b[0m                         Traceback (most recent call last)",
      "\u001b[1;32m<ipython-input-6-2213ac39d6ee>\u001b[0m in \u001b[0;36m<module>\u001b[1;34m()\u001b[0m\n\u001b[1;32m----> 1\u001b[1;33m \u001b[0mempties\u001b[0m \u001b[1;33m=\u001b[0m \u001b[0mgetWrongEmptyPhotos\u001b[0m\u001b[1;33m(\u001b[0m\u001b[1;34m\"data/\"\u001b[0m\u001b[1;33m,\u001b[0m \u001b[0mrecipes\u001b[0m\u001b[1;33m,\u001b[0m \u001b[1;34m\"/photos.json\"\u001b[0m\u001b[1;33m)\u001b[0m\u001b[1;33m\u001b[0m\u001b[0m\n\u001b[0m",
      "\u001b[1;32m<ipython-input-3-c90748fc3c03>\u001b[0m in \u001b[0;36mgetWrongEmptyPhotos\u001b[1;34m(start_path, files, end_path)\u001b[0m\n\u001b[0;32m      3\u001b[0m     \u001b[1;32mfor\u001b[0m \u001b[0mfile\u001b[0m \u001b[1;32min\u001b[0m \u001b[0mfiles\u001b[0m\u001b[1;33m:\u001b[0m\u001b[1;33m\u001b[0m\u001b[0m\n\u001b[0;32m      4\u001b[0m         \u001b[0mpath\u001b[0m \u001b[1;33m=\u001b[0m \u001b[0mstart_path\u001b[0m \u001b[1;33m+\u001b[0m \u001b[0mfile\u001b[0m \u001b[1;33m+\u001b[0m \u001b[0mend_path\u001b[0m\u001b[1;33m\u001b[0m\u001b[0m\n\u001b[1;32m----> 5\u001b[1;33m         \u001b[0mstatinfo\u001b[0m \u001b[1;33m=\u001b[0m \u001b[0mos\u001b[0m\u001b[1;33m.\u001b[0m\u001b[0mstat\u001b[0m\u001b[1;33m(\u001b[0m\u001b[0mpath\u001b[0m\u001b[1;33m)\u001b[0m\u001b[1;33m\u001b[0m\u001b[0m\n\u001b[0m\u001b[0;32m      6\u001b[0m         \u001b[1;32mif\u001b[0m \u001b[0mstatinfo\u001b[0m\u001b[1;33m.\u001b[0m\u001b[0mst_size\u001b[0m \u001b[1;33m==\u001b[0m \u001b[1;36m2\u001b[0m\u001b[1;33m:\u001b[0m\u001b[1;33m\u001b[0m\u001b[0m\n\u001b[0;32m      7\u001b[0m             \u001b[1;32mwith\u001b[0m \u001b[0mopen\u001b[0m\u001b[1;33m(\u001b[0m\u001b[0mstart_path\u001b[0m \u001b[1;33m+\u001b[0m \u001b[0mfile\u001b[0m \u001b[1;33m+\u001b[0m \u001b[1;34m\"/data.json\"\u001b[0m\u001b[1;33m)\u001b[0m \u001b[1;32mas\u001b[0m \u001b[0mdata_file\u001b[0m\u001b[1;33m:\u001b[0m\u001b[1;33m\u001b[0m\u001b[0m\n",
      "\u001b[1;31mFileNotFoundError\u001b[0m: [Errno 2] No such file or directory: 'data/13045/photos.json'"
     ]
    }
   ],
   "source": [
    "empties = getWrongEmptyPhotos(\"recipe_data/\", recipes, \"/photos.json\")"
   ]
  },
  {
   "cell_type": "code",
   "execution_count": 29,
   "metadata": {},
   "outputs": [
    {
     "data": {
      "text/plain": [
       "0"
      ]
     },
     "execution_count": 29,
     "metadata": {},
     "output_type": "execute_result"
    }
   ],
   "source": [
    "len(empties)"
   ]
  },
  {
   "cell_type": "code",
   "execution_count": 9,
   "metadata": {
    "collapsed": true
   },
   "outputs": [],
   "source": [
    "def getAllUsersWithReviews(start_path, files):\n",
    "    users = set()\n",
    "    for file in files:\n",
    "        try:\n",
    "            with open(start_path + file + \"/reviews.json\") as data_file:    \n",
    "                reviews = json.load(data_file)\n",
    "                for review in reviews:\n",
    "                    users.add(review[\"submitter\"][\"userID\"])\n",
    "        except: \n",
    "            print(\"Problem with file: \" + file)\n",
    "    return users"
   ]
  },
  {
   "cell_type": "code",
   "execution_count": 10,
   "metadata": {},
   "outputs": [],
   "source": [
    "users = getAllUsersWithReviews(\"recipe_data/\", recipes)"
   ]
  },
  {
   "cell_type": "code",
   "execution_count": 11,
   "metadata": {},
   "outputs": [
    {
     "data": {
      "text/plain": [
       "1017178"
      ]
     },
     "execution_count": 11,
     "metadata": {},
     "output_type": "execute_result"
    }
   ],
   "source": [
    "len(users)"
   ]
  },
  {
   "cell_type": "code",
   "execution_count": 18,
   "metadata": {},
   "outputs": [],
   "source": [
    "dfUsers = pd.DataFrame(list(users))\n",
    "dfUsers.columns = [\"user_id\"]\n",
    "dfUsers.to_csv(\"users.csv\")"
   ]
  },
  {
   "cell_type": "code",
   "execution_count": 45,
   "metadata": {},
   "outputs": [],
   "source": [
    "dfRecipe = pd.DataFrame(recipes)\n",
    "dfUsers = pd.DataFrame(list(users))"
   ]
  },
  {
   "cell_type": "code",
   "execution_count": 47,
   "metadata": {},
   "outputs": [],
   "source": [
    "dictRecipes = {k: v for v, k in enumerate(recipes)}\n",
    "dictUsers = {k: v for v, k in enumerate(users)}"
   ]
  },
  {
   "cell_type": "code",
   "execution_count": 50,
   "metadata": {},
   "outputs": [],
   "source": [
    "import numpy as np\n",
    "from scipy.sparse import dok_matrix\n",
    "M = dok_matrix((len(users), len(recipes)), dtype=np.float32)\n",
    "for recipe in recipes:\n",
    "    with open(\"data/\" + recipe + \"/reviews.json\") as data_file:    \n",
    "        reviews = json.load(data_file)\n",
    "        for review in reviews:\n",
    "            user = review[\"submitter\"][\"userID\"]\n",
    "            M[dictUsers[user], dictRecipes[recipe]] = review[\"rating\"]"
   ]
  },
  {
   "cell_type": "code",
   "execution_count": 51,
   "metadata": {},
   "outputs": [
    {
     "data": {
      "text/plain": [
       "(1015449, 33696)"
      ]
     },
     "execution_count": 51,
     "metadata": {},
     "output_type": "execute_result"
    }
   ],
   "source": [
    "M.shape"
   ]
  },
  {
   "cell_type": "code",
   "execution_count": 59,
   "metadata": {},
   "outputs": [],
   "source": [
    "nonz = M.nonzero()"
   ]
  },
  {
   "cell_type": "code",
   "execution_count": 61,
   "metadata": {},
   "outputs": [
    {
     "data": {
      "text/plain": [
       "3149810"
      ]
     },
     "execution_count": 61,
     "metadata": {},
     "output_type": "execute_result"
    }
   ],
   "source": [
    "len(nonz[0])"
   ]
  },
  {
   "cell_type": "code",
   "execution_count": 104,
   "metadata": {},
   "outputs": [
    {
     "data": {
      "text/html": [
       "<div>\n",
       "<table border=\"1\" class=\"dataframe\">\n",
       "  <thead>\n",
       "    <tr style=\"text-align: right;\">\n",
       "      <th></th>\n",
       "      <th>rating</th>\n",
       "    </tr>\n",
       "  </thead>\n",
       "  <tbody>\n",
       "    <tr>\n",
       "      <th>count</th>\n",
       "      <td>88.000000</td>\n",
       "    </tr>\n",
       "    <tr>\n",
       "      <th>mean</th>\n",
       "      <td>4.488636</td>\n",
       "    </tr>\n",
       "    <tr>\n",
       "      <th>std</th>\n",
       "      <td>0.625039</td>\n",
       "    </tr>\n",
       "    <tr>\n",
       "      <th>min</th>\n",
       "      <td>2.000000</td>\n",
       "    </tr>\n",
       "    <tr>\n",
       "      <th>25%</th>\n",
       "      <td>4.000000</td>\n",
       "    </tr>\n",
       "    <tr>\n",
       "      <th>50%</th>\n",
       "      <td>5.000000</td>\n",
       "    </tr>\n",
       "    <tr>\n",
       "      <th>75%</th>\n",
       "      <td>5.000000</td>\n",
       "    </tr>\n",
       "    <tr>\n",
       "      <th>max</th>\n",
       "      <td>5.000000</td>\n",
       "    </tr>\n",
       "  </tbody>\n",
       "</table>\n",
       "</div>"
      ],
      "text/plain": [
       "          rating\n",
       "count  88.000000\n",
       "mean    4.488636\n",
       "std     0.625039\n",
       "min     2.000000\n",
       "25%     4.000000\n",
       "50%     5.000000\n",
       "75%     5.000000\n",
       "max     5.000000"
      ]
     },
     "execution_count": 104,
     "metadata": {},
     "output_type": "execute_result"
    }
   ],
   "source": [
    "temp = pd.DataFrame(np.array(M[dictUsers[337534]].todense()).transpose())\n",
    "temp.columns = [\"rating\"]\n",
    "temp[temp[\"rating\"] > 0].describe()"
   ]
  },
  {
   "cell_type": "code",
   "execution_count": 102,
   "metadata": {},
   "outputs": [
    {
     "data": {
      "text/plain": [
       "'7211'"
      ]
     },
     "execution_count": 102,
     "metadata": {},
     "output_type": "execute_result"
    }
   ],
   "source": [
    "recipes[33606]"
   ]
  },
  {
   "cell_type": "code",
   "execution_count": 3,
   "metadata": {},
   "outputs": [
    {
     "data": {
      "text/plain": [
       "246299"
      ]
     },
     "execution_count": 3,
     "metadata": {},
     "output_type": "execute_result"
    }
   ],
   "source": [
    "users = [f.path.split(\"/\")[1] for f in os.scandir(\"user_data/\") if f.is_dir() ]    \n",
    "len(users)"
   ]
  },
  {
   "cell_type": "code",
   "execution_count": null,
   "metadata": {
    "collapsed": true
   },
   "outputs": [],
   "source": []
  }
 ],
 "metadata": {
  "anaconda-cloud": {},
  "kernelspec": {
   "display_name": "Python 3",
   "language": "python",
   "name": "python3"
  },
  "language_info": {
   "codemirror_mode": {
    "name": "ipython",
    "version": 3
   },
   "file_extension": ".py",
   "mimetype": "text/x-python",
   "name": "python",
   "nbconvert_exporter": "python",
   "pygments_lexer": "ipython3",
   "version": "3.5.4"
  }
 },
 "nbformat": 4,
 "nbformat_minor": 1
}
