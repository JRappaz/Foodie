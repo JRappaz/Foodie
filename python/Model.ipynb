{
 "cells": [
  {
   "cell_type": "markdown",
   "metadata": {},
   "source": [
    "# Recipe Recommender System Model\n",
    "\n",
    "This notebook presents the python code used to build a recipe recommender system based on BPR."
   ]
  },
  {
   "cell_type": "code",
   "execution_count": 1,
   "metadata": {},
   "outputs": [],
   "source": [
    "import os\n",
    "import json\n",
    "import matplotlib.pyplot as plt\n",
    "import matplotlib\n",
    "import pandas as pd\n",
    "import numpy as np\n",
    "import pylab as pl\n",
    "%matplotlib inline"
   ]
  },
  {
   "cell_type": "code",
   "execution_count": 2,
   "metadata": {},
   "outputs": [
    {
     "name": "stdout",
     "output_type": "stream",
     "text": [
      "['229804', '245348', '25093', '14930', '257743', '255991', '236394', '13148', '18454', '215435']\n",
      "Nb of recipes: 44069\n"
     ]
    }
   ],
   "source": [
    "recipes = [f.path.split(\"/\")[1] for f in os.scandir(\"recipe_data/\") if f.is_dir() ]    \n",
    "print(recipes[:10])\n",
    "print(\"Nb of recipes: \" + str(len(recipes)))"
   ]
  },
  {
   "cell_type": "code",
   "execution_count": 3,
   "metadata": {},
   "outputs": [],
   "source": [
    "def getAllUsersWithReviews(start_path, files):\n",
    "    users = set()\n",
    "    for file in files:\n",
    "        try:\n",
    "            with open(start_path + file + \"/reviews.json\") as data_file:    \n",
    "                reviews = json.load(data_file)\n",
    "                for review in reviews:\n",
    "                    users.add(review[\"submitter\"][\"userID\"])\n",
    "        except: \n",
    "            print(\"Problem with file: \" + file)\n",
    "    return users"
   ]
  },
  {
   "cell_type": "code",
   "execution_count": 9,
   "metadata": {},
   "outputs": [],
   "source": [
    "users = getAllUsersWithReviews(\"recipe_data/\", recipes)"
   ]
  },
  {
   "cell_type": "code",
   "execution_count": 10,
   "metadata": {},
   "outputs": [
    {
     "data": {
      "text/plain": [
       "1017178"
      ]
     },
     "execution_count": 10,
     "metadata": {},
     "output_type": "execute_result"
    }
   ],
   "source": [
    "len(users)"
   ]
  },
  {
   "cell_type": "code",
   "execution_count": 11,
   "metadata": {},
   "outputs": [],
   "source": [
    "userRecipes = {}\n",
    "recipeUsers = {}\n",
    "\n",
    "for user in users:\n",
    "    userRecipes[user] = []\n",
    "\n",
    "for recipe in recipes:\n",
    "    recipeUsers[recipe] = []\n",
    "\n",
    "for recipe in recipes:\n",
    "    with open(\"recipe_data/\" + recipe + \"/reviews.json\") as data_file:\n",
    "        reviews = json.load(data_file)\n",
    "        for review in reviews:\n",
    "            user = review[\"submitter\"][\"userID\"]\n",
    "            userRecipes[user].append(recipe)\n",
    "            recipeUsers[recipe].append(user)"
   ]
  },
  {
   "cell_type": "code",
   "execution_count": 12,
   "metadata": {},
   "outputs": [],
   "source": [
    "with open(\"data/userRecipes.json\", \"w\") as file:\n",
    "    file.write(json.dumps(userRecipes))\n",
    "\n",
    "with open(\"data/recipeUsers.json\", \"w\") as file:\n",
    "    file.write(json.dumps(recipeUsers))"
   ]
  },
  {
   "cell_type": "code",
   "execution_count": 3,
   "metadata": {},
   "outputs": [],
   "source": [
    "with open(\"data/userRecipes.json\", \"r\") as file:\n",
    "    userRecipes = json.loads(file.read())\n",
    "\n",
    "with open(\"data/recipeUsers.json\", \"r\") as file:\n",
    "    recipeUsers = json.loads(file.read())"
   ]
  },
  {
   "cell_type": "code",
   "execution_count": 4,
   "metadata": {},
   "outputs": [],
   "source": [
    "users = list(userRecipes.keys())\n",
    "recipes = list(recipeUsers.keys())"
   ]
  },
  {
   "cell_type": "code",
   "execution_count": 5,
   "metadata": {},
   "outputs": [
    {
     "data": {
      "image/png": "[encoded data removed]",
      "text/plain": [
       "<matplotlib.figure.Figure at 0x7f10154b3fd0>"
      ]
     },
     "metadata": {},
     "output_type": "display_data"
    }
   ],
   "source": [
    "userDistrib = list(map(lambda x: len(userRecipes[x]), users))\n",
    "fig = pl.gcf()\n",
    "fig.set_size_inches(14, 8)\n",
    "plt.hist(userDistrib, bins=35,log=True)\n",
    "pl.title('Distribution of #reviews amongst users')\n",
    "pl.xlabel('Reviews')\n",
    "pl.ylabel('#Users')\n",
    "font = {'family' : 'sans-serif',\n",
    "        'size'   : 16}\n",
    "\n",
    "axes = plt.gca()\n",
    "axes.set_ylim([0.9,10**7])\n",
    "matplotlib.rc('font', **font)\n",
    "plt.show()"
   ]
  },
  {
   "cell_type": "code",
   "execution_count": 6,
   "metadata": {},
   "outputs": [
    {
     "data": {
      "image/png": "[encoded data removed]",
      "text/plain": [
       "<matplotlib.figure.Figure at 0x7f10152a1048>"
      ]
     },
     "metadata": {},
     "output_type": "display_data"
    }
   ],
   "source": [
    "plt.hist(userDistrib, log=True, bins=np.sqrt(3)**(np.arange(0,15)))\n",
    "fig = pl.gcf()\n",
    "fig.set_size_inches(14, 8)\n",
    "plt.xscale('log')\n",
    "\n",
    "pl.title('Distribution of #reviews amongst users - LogLog scale')\n",
    "pl.xlabel('Reviews')\n",
    "pl.ylabel('#Users')\n",
    "\n",
    "axes = plt.gca()\n",
    "axes.set_ylim([0.9,10**7])\n",
    "matplotlib.rc('font', **font)\n",
    "plt.show()"
   ]
  },
  {
   "cell_type": "code",
   "execution_count": 7,
   "metadata": {},
   "outputs": [
    {
     "data": {
      "text/html": [
       "<div>\n",
       "<style scoped>\n",
       "    .dataframe tbody tr th:only-of-type {\n",
       "        vertical-align: middle;\n",
       "    }\n",
       "\n",
       "    .dataframe tbody tr th {\n",
       "        vertical-align: top;\n",
       "    }\n",
       "\n",
       "    .dataframe thead th {\n",
       "        text-align: right;\n",
       "    }\n",
       "</style>\n",
       "<table border=\"1\" class=\"dataframe\">\n",
       "  <thead>\n",
       "    <tr style=\"text-align: right;\">\n",
       "      <th></th>\n",
       "      <th>nb reviews</th>\n",
       "    </tr>\n",
       "  </thead>\n",
       "  <tbody>\n",
       "    <tr>\n",
       "      <th>count</th>\n",
       "      <td>1.017178e+06</td>\n",
       "    </tr>\n",
       "    <tr>\n",
       "      <th>mean</th>\n",
       "      <td>3.306215e+00</td>\n",
       "    </tr>\n",
       "    <tr>\n",
       "      <th>std</th>\n",
       "      <td>1.245852e+01</td>\n",
       "    </tr>\n",
       "    <tr>\n",
       "      <th>min</th>\n",
       "      <td>1.000000e+00</td>\n",
       "    </tr>\n",
       "    <tr>\n",
       "      <th>25%</th>\n",
       "      <td>1.000000e+00</td>\n",
       "    </tr>\n",
       "    <tr>\n",
       "      <th>50%</th>\n",
       "      <td>1.000000e+00</td>\n",
       "    </tr>\n",
       "    <tr>\n",
       "      <th>75%</th>\n",
       "      <td>2.000000e+00</td>\n",
       "    </tr>\n",
       "    <tr>\n",
       "      <th>max</th>\n",
       "      <td>3.327000e+03</td>\n",
       "    </tr>\n",
       "  </tbody>\n",
       "</table>\n",
       "</div>"
      ],
      "text/plain": [
       "         nb reviews\n",
       "count  1.017178e+06\n",
       "mean   3.306215e+00\n",
       "std    1.245852e+01\n",
       "min    1.000000e+00\n",
       "25%    1.000000e+00\n",
       "50%    1.000000e+00\n",
       "75%    2.000000e+00\n",
       "max    3.327000e+03"
      ]
     },
     "execution_count": 7,
     "metadata": {},
     "output_type": "execute_result"
    }
   ],
   "source": [
    "pdUserDistrib = pd.DataFrame(userDistrib)\n",
    "pdUserDistrib.columns = [\"nb reviews\"]\n",
    "pdUserDistrib.describe()"
   ]
  },
  {
   "cell_type": "code",
   "execution_count": 8,
   "metadata": {},
   "outputs": [
    {
     "name": "stdout",
     "output_type": "stream",
     "text": [
      "249586 users with at least than 3 reviews\n",
      "135320 users with at least than 5 reviews\n",
      "58247 users with at least than 10 reviews\n",
      "22805 users with at least than 20 reviews\n",
      "5104 users with at least than 50 reviews\n",
      "1523 users with at least than 100 reviews\n"
     ]
    }
   ],
   "source": [
    "for i in [3, 5, 10, 20, 50, 100]:\n",
    "    print(str(len(pdUserDistrib[pdUserDistrib[\"nb reviews\"] >= i])) + \" users with at least than \" + str(i) + \" reviews\")"
   ]
  },
  {
   "cell_type": "code",
   "execution_count": 9,
   "metadata": {},
   "outputs": [
    {
     "data": {
      "image/png": "[encoded data removed]",
      "text/plain": [
       "<matplotlib.figure.Figure at 0x7f10026f1198>"
      ]
     },
     "metadata": {},
     "output_type": "display_data"
    }
   ],
   "source": [
    "recipeDistrib = list(map(lambda x: len(recipeUsers[x]), recipes))\n",
    "fig = pl.gcf()\n",
    "fig.set_size_inches(14, 8)\n",
    "plt.hist(recipeDistrib,  log=True)\n",
    "plt.show()"
   ]
  },
  {
   "cell_type": "code",
   "execution_count": 10,
   "metadata": {},
   "outputs": [
    {
     "data": {
      "image/png": "[encoded data removed]",
      "text/plain": [
       "<matplotlib.figure.Figure at 0x7f10025ceac8>"
      ]
     },
     "metadata": {},
     "output_type": "display_data"
    }
   ],
   "source": [
    "plt.hist(recipeDistrib, log=True, bins=np.sqrt(3)**(np.arange(0,15)))\n",
    "fig = pl.gcf()\n",
    "fig.set_size_inches(14, 8)\n",
    "plt.xscale('log')\n",
    "\n",
    "pl.xlabel('Reviews')\n",
    "pl.ylabel('#Recipes')\n",
    "\n",
    "axes = plt.gca()\n",
    "matplotlib.rc('font', **font)\n",
    "plt.show()"
   ]
  },
  {
   "cell_type": "code",
   "execution_count": 11,
   "metadata": {},
   "outputs": [
    {
     "data": {
      "text/html": [
       "<div>\n",
       "<style scoped>\n",
       "    .dataframe tbody tr th:only-of-type {\n",
       "        vertical-align: middle;\n",
       "    }\n",
       "\n",
       "    .dataframe tbody tr th {\n",
       "        vertical-align: top;\n",
       "    }\n",
       "\n",
       "    .dataframe thead th {\n",
       "        text-align: right;\n",
       "    }\n",
       "</style>\n",
       "<table border=\"1\" class=\"dataframe\">\n",
       "  <thead>\n",
       "    <tr style=\"text-align: right;\">\n",
       "      <th></th>\n",
       "      <th>nb reviews</th>\n",
       "    </tr>\n",
       "  </thead>\n",
       "  <tbody>\n",
       "    <tr>\n",
       "      <th>count</th>\n",
       "      <td>44069.000000</td>\n",
       "    </tr>\n",
       "    <tr>\n",
       "      <th>mean</th>\n",
       "      <td>76.312351</td>\n",
       "    </tr>\n",
       "    <tr>\n",
       "      <th>std</th>\n",
       "      <td>293.079980</td>\n",
       "    </tr>\n",
       "    <tr>\n",
       "      <th>min</th>\n",
       "      <td>0.000000</td>\n",
       "    </tr>\n",
       "    <tr>\n",
       "      <th>25%</th>\n",
       "      <td>3.000000</td>\n",
       "    </tr>\n",
       "    <tr>\n",
       "      <th>50%</th>\n",
       "      <td>12.000000</td>\n",
       "    </tr>\n",
       "    <tr>\n",
       "      <th>75%</th>\n",
       "      <td>47.000000</td>\n",
       "    </tr>\n",
       "    <tr>\n",
       "      <th>max</th>\n",
       "      <td>10835.000000</td>\n",
       "    </tr>\n",
       "  </tbody>\n",
       "</table>\n",
       "</div>"
      ],
      "text/plain": [
       "         nb reviews\n",
       "count  44069.000000\n",
       "mean      76.312351\n",
       "std      293.079980\n",
       "min        0.000000\n",
       "25%        3.000000\n",
       "50%       12.000000\n",
       "75%       47.000000\n",
       "max    10835.000000"
      ]
     },
     "execution_count": 11,
     "metadata": {},
     "output_type": "execute_result"
    }
   ],
   "source": [
    "pdrecipeDistrib = pd.DataFrame(recipeDistrib)\n",
    "pdrecipeDistrib.columns = [\"nb reviews\"]\n",
    "pdrecipeDistrib.describe()"
   ]
  },
  {
   "cell_type": "code",
   "execution_count": null,
   "metadata": {},
   "outputs": [],
   "source": []
  },
  {
   "cell_type": "markdown",
   "metadata": {},
   "source": [
    "## Cleaning data\n"
   ]
  },
  {
   "cell_type": "code",
   "execution_count": 12,
   "metadata": {},
   "outputs": [],
   "source": [
    "cleanedUserRecipes = {}\n",
    "cleanedRecipeUsers = {}\n",
    "\n",
    "for user, recipes in userRecipes.items():\n",
    "    if len(recipes) >= 10 and len(recipes) < 200:\n",
    "        cleanedUserRecipes[user] = recipes\n",
    "        for recipe in recipes:\n",
    "            if recipe in cleanedRecipeUsers.keys():\n",
    "                cleanedRecipeUsers[recipe].extend([user])\n",
    "            else:\n",
    "                cleanedRecipeUsers[recipe] = [user]\n",
    "        \n"
   ]
  },
  {
   "cell_type": "code",
   "execution_count": 13,
   "metadata": {},
   "outputs": [],
   "source": [
    "def cleanSmall(UserRecipes, RecipeUsers, threshold):\n",
    "    \n",
    "    cleaned = False\n",
    "    while cleaned == False:\n",
    "    \n",
    "        nbUsers = len(UserRecipes.keys())\n",
    "        nbRecipes = len(RecipeUsers.keys())\n",
    "\n",
    "        print(\"Cleaning users and recipes with less than \" + str(threshold) + \" reviews\")\n",
    "        print(\"Number of users: \"  + str(nbUsers))\n",
    "        print(\"Number of recipes: \"  + str(nbRecipes))\n",
    "\n",
    "        toRemove = []\n",
    "        for recipe, users in RecipeUsers.items():\n",
    "            if len(users) < threshold:\n",
    "                toRemove.extend([recipe])\n",
    "\n",
    "        for recipe in toRemove:\n",
    "            RecipeUsers.pop(recipe)\n",
    "\n",
    "        UserRecipes = {}\n",
    "        for recipe, users in RecipeUsers.items():\n",
    "            for user in users:\n",
    "                if user in UserRecipes.keys():\n",
    "                    UserRecipes[user].extend([recipe])\n",
    "                else:\n",
    "                    UserRecipes[user] = [recipe]\n",
    "\n",
    "        toRemove= []\n",
    "        for user, recipes in UserRecipes.items():\n",
    "            if len(recipes) < threshold:\n",
    "                toRemove.extend([user])\n",
    "\n",
    "        for user in toRemove:\n",
    "            UserRecipes.pop(user) \n",
    "\n",
    "        RecipeUsers = {}\n",
    "        for user, recipes in UserRecipes.items():\n",
    "            for recipe in recipes:\n",
    "                if recipe in RecipeUsers.keys():\n",
    "                    RecipeUsers[recipe].extend([user])\n",
    "                else:\n",
    "                    RecipeUsers[recipe] = [user]   \n",
    "\n",
    "        if len(UserRecipes.keys()) == nbUsers and len(RecipeUsers.keys()) == nbRecipes:\n",
    "            cleaned = True\n",
    "    return UserRecipes, RecipeUsers"
   ]
  },
  {
   "cell_type": "code",
   "execution_count": 14,
   "metadata": {},
   "outputs": [
    {
     "name": "stdout",
     "output_type": "stream",
     "text": [
      "Cleaning users and recipes with less than 10 reviews\n",
      "Number of users: 57802\n",
      "Number of recipes: 32986\n",
      "Cleaning users and recipes with less than 10 reviews\n",
      "Number of users: 54716\n",
      "Number of recipes: 15120\n",
      "Cleaning users and recipes with less than 10 reviews\n",
      "Number of users: 54590\n",
      "Number of recipes: 14864\n",
      "Cleaning users and recipes with less than 10 reviews\n",
      "Number of users: 54584\n",
      "Number of recipes: 14854\n"
     ]
    }
   ],
   "source": [
    "userRecipes, recipeUsers = cleanSmall(cleanedUserRecipes, cleanedRecipeUsers, 10)"
   ]
  },
  {
   "cell_type": "code",
   "execution_count": 15,
   "metadata": {},
   "outputs": [],
   "source": [
    "users = list(userRecipes.keys())\n",
    "recipes = list(recipeUsers.keys())"
   ]
  },
  {
   "cell_type": "code",
   "execution_count": 16,
   "metadata": {},
   "outputs": [
    {
     "data": {
      "text/plain": [
       "10"
      ]
     },
     "execution_count": 16,
     "metadata": {},
     "output_type": "execute_result"
    }
   ],
   "source": [
    "min(map(lambda x: len(recipeUsers[x]), recipeUsers.keys()))"
   ]
  },
  {
   "cell_type": "code",
   "execution_count": 17,
   "metadata": {},
   "outputs": [
    {
     "data": {
      "text/plain": [
       "10"
      ]
     },
     "execution_count": 17,
     "metadata": {},
     "output_type": "execute_result"
    }
   ],
   "source": [
    "min(map(lambda x: len(userRecipes[x]), userRecipes.keys()))"
   ]
  },
  {
   "cell_type": "code",
   "execution_count": 18,
   "metadata": {},
   "outputs": [
    {
     "name": "stdout",
     "output_type": "stream",
     "text": [
      "Number of users: 54584\n",
      "Number of recipes: 14854\n"
     ]
    }
   ],
   "source": [
    "nbUsers = len(userRecipes.keys())\n",
    "nbRecipes = len(recipeUsers.keys())\n",
    "print(\"Number of users: \"  + str(nbUsers))\n",
    "print(\"Number of recipes: \"  + str(nbRecipes))"
   ]
  },
  {
   "cell_type": "code",
   "execution_count": 19,
   "metadata": {},
   "outputs": [
    {
     "data": {
      "text/plain": [
       "14854"
      ]
     },
     "execution_count": 19,
     "metadata": {},
     "output_type": "execute_result"
    }
   ],
   "source": [
    "len(recipes)"
   ]
  },
  {
   "cell_type": "code",
   "execution_count": null,
   "metadata": {},
   "outputs": [],
   "source": []
  },
  {
   "cell_type": "markdown",
   "metadata": {},
   "source": [
    "## Building Model"
   ]
  },
  {
   "cell_type": "code",
   "execution_count": 20,
   "metadata": {},
   "outputs": [
    {
     "data": {
      "text/plain": [
       "'# Sample 1000 recipes and 10000 users for test\\nN = 1000\\nM = 10000\\n\\nsampleRecipes = np.random.choice(list(recipes), N)\\nsampleUsers = []\\nwhile len(sampleUsers) < M:\\n    r = np.random.choice(sampleRecipes)\\n    if(len(recipeUsers[r]) > 1):\\n        u = np.random.choice(recipeUsers[r])\\n        if str(u) not in sampleUsers:\\n            sampleUsers.append(str(u))\\n            '"
      ]
     },
     "execution_count": 20,
     "metadata": {},
     "output_type": "execute_result"
    }
   ],
   "source": [
    "'''# Sample 1000 recipes and 10000 users for test\n",
    "N = 1000\n",
    "M = 10000\n",
    "\n",
    "sampleRecipes = np.random.choice(list(recipes), N)\n",
    "sampleUsers = []\n",
    "while len(sampleUsers) < M:\n",
    "    r = np.random.choice(sampleRecipes)\n",
    "    if(len(recipeUsers[r]) > 1):\n",
    "        u = np.random.choice(recipeUsers[r])\n",
    "        if str(u) not in sampleUsers:\n",
    "            sampleUsers.append(str(u))\n",
    "            '''"
   ]
  },
  {
   "cell_type": "code",
   "execution_count": 21,
   "metadata": {},
   "outputs": [
    {
     "data": {
      "text/plain": [
       "'W = np.zeros((N,M))\\nfor i in range(N):\\n  for j in range(M):\\n      if sampleRecipes[i] in userRecipes[sampleUsers[j]]:\\n          W[i,j] = 1  '"
      ]
     },
     "execution_count": 21,
     "metadata": {},
     "output_type": "execute_result"
    }
   ],
   "source": [
    "  '''W = np.zeros((N,M))\n",
    "for i in range(N):\n",
    "    for j in range(M):\n",
    "        if sampleRecipes[i] in userRecipes[sampleUsers[j]]:\n",
    "            W[i,j] = 1  '''"
   ]
  },
  {
   "cell_type": "code",
   "execution_count": 22,
   "metadata": {},
   "outputs": [
    {
     "data": {
      "text/plain": [
       "'sampleInteractions = []\\n\\nfor user in sampleUsers:\\n  for recipe in sampleRecipes:\\n      if recipe in userRecipes[user]:\\n          sampleInteractions.append((recipe, user))  '"
      ]
     },
     "execution_count": 22,
     "metadata": {},
     "output_type": "execute_result"
    }
   ],
   "source": [
    "  '''sampleInteractions = []\n",
    "\n",
    "for user in sampleUsers:\n",
    "    for recipe in sampleRecipes:\n",
    "        if recipe in userRecipes[user]:\n",
    "            sampleInteractions.append((recipe, user))  '''"
   ]
  },
  {
   "cell_type": "code",
   "execution_count": 23,
   "metadata": {},
   "outputs": [],
   "source": [
    "interactions = []\n",
    "for user in users:\n",
    "    for recipe in userRecipes[user]:\n",
    "        interactions.append((recipe, user))\n",
    "\n",
    "#interactions = np.array(sampleInteractions)"
   ]
  },
  {
   "cell_type": "markdown",
   "metadata": {},
   "source": [
    "## Use sample instead of real values\n"
   ]
  },
  {
   "cell_type": "code",
   "execution_count": 24,
   "metadata": {},
   "outputs": [
    {
     "data": {
      "text/plain": [
       "'recipes = sampleRecipes\\nusers = sampleUsers\\ninteractions = sampleInteractions  '"
      ]
     },
     "execution_count": 24,
     "metadata": {},
     "output_type": "execute_result"
    }
   ],
   "source": [
    "'''recipes = sampleRecipes\n",
    "users = sampleUsers\n",
    "interactions = sampleInteractions  '''"
   ]
  },
  {
   "cell_type": "markdown",
   "metadata": {},
   "source": [
    "## Model"
   ]
  },
  {
   "cell_type": "code",
   "execution_count": 25,
   "metadata": {},
   "outputs": [],
   "source": [
    "userDict = {}\n",
    "for i in range(len(users)):\n",
    "    userDict[users[i]] = i\n",
    "    \n",
    "recipeDict = {}\n",
    "for i in range(len(recipes)):\n",
    "    recipeDict[recipes[i]] = i"
   ]
  },
  {
   "cell_type": "code",
   "execution_count": null,
   "metadata": {},
   "outputs": [],
   "source": []
  },
  {
   "cell_type": "code",
   "execution_count": 26,
   "metadata": {},
   "outputs": [],
   "source": [
    "def sample_neg(recipes, user, userRecipes):\n",
    "    recipe  = recipes[np.random.randint(0, len(recipes))]\n",
    "    while recipe in userRecipes[user]:\n",
    "        recipe  = recipes[np.random.randint(0, len(recipes))]\n",
    "    return recipe"
   ]
  },
  {
   "cell_type": "code",
   "execution_count": 27,
   "metadata": {},
   "outputs": [],
   "source": [
    "# Split test-train \n",
    "\n",
    "userRecipes_tr = {}\n",
    "for interaction in interactions:\n",
    "    r = interaction[0]\n",
    "    u = interaction[1]\n",
    "    if u not in userRecipes_tr.keys():\n",
    "        userRecipes_tr[u] = [r]\n",
    "    else:\n",
    "        userRecipes_tr[u].append(r)\n",
    "\n",
    "interactions_te = []\n",
    "userRecipes_te = {}\n",
    "for user in userRecipes_tr.keys():\n",
    "    test_recipe = np.random.choice(userRecipes_tr[user])\n",
    "    userRecipes_tr[user].remove(test_recipe)\n",
    "    userRecipes_te[user] = test_recipe\n",
    "    interactions_te.append((test_recipe, user))\n",
    "\n",
    "interactions_tr = []\n",
    "for user in userRecipes_tr.keys():\n",
    "    for recipe in userRecipes_tr[user]:\n",
    "        interactions_tr.append((recipe, user))"
   ]
  },
  {
   "cell_type": "markdown",
   "metadata": {},
   "source": [
    "### Weight interactions inversely to popularity"
   ]
  },
  {
   "cell_type": "code",
   "execution_count": 150,
   "metadata": {},
   "outputs": [],
   "source": [
    "# Returns an array with interactions replicated according to the inverse frequency of the recipe\n",
    "# An interaction with the most popular recipe will be present only once in the array.\n",
    "# This way, selecting a random interaction in the array will select recipes uniformly\n",
    "def probWeightedInteractions(interactions, recipeUsers, power = 0):\n",
    "    apps = np.zeros((len(interactions)))\n",
    "    for i in range(len(interactions)):\n",
    "        apps[i] = (len(recipeUsers[interactions[i][0]]))\n",
    "    factor = max(apps)**(1 - power)\n",
    "    weighted_inter =np.zeros((len(interactions)))\n",
    "    for i in range(len(apps)):\n",
    "        weighted_inter[i] = 1 / apps[i] * (apps[i]**power) * factor\n",
    "        \n",
    "    interactions_array = []\n",
    "    for i in range(int(len(interactions))):\n",
    "        for j in range(int(round(weighted_inter[i]))):\n",
    "            interactions_array.append(interactions[i])\n",
    "    return interactions_array"
   ]
  },
  {
   "cell_type": "markdown",
   "metadata": {},
   "source": [
    "Let's check the effect of the method"
   ]
  },
  {
   "cell_type": "code",
   "execution_count": 134,
   "metadata": {},
   "outputs": [],
   "source": [
    "from collections import Counter\n",
    "\n",
    "def plotInteractionDistrib(interactions_list, legends = None):\n",
    "    for i in range(len(interactions_list)): \n",
    "        interactions = interactions_list[i]\n",
    "        recipes = list(map(lambda x: x[0], interactions))\n",
    "        c = Counter(recipes)\n",
    "        count = list(map(lambda x: c[x], c.keys()))\n",
    "        count = sorted(count)\n",
    "        if legends:\n",
    "            plt.plot(count, label=\"x = \" + str(legends[i]))\n",
    "            plt.legend(bbox_to_anchor=(1.05, 1), loc=2, borderaxespad=0.)\n",
    "        else:\n",
    "            plt.plot(count)\n",
    "    plt.show()"
   ]
  },
  {
   "cell_type": "code",
   "execution_count": 135,
   "metadata": {},
   "outputs": [
    {
     "data": {
      "image/png": "[encoded data removed]",
      "text/plain": [
       "<matplotlib.figure.Figure at 0x7f10085ed1d0>"
      ]
     },
     "metadata": {},
     "output_type": "display_data"
    }
   ],
   "source": [
    "plotInteractionDistrib([interactions_tr])"
   ]
  },
  {
   "cell_type": "code",
   "execution_count": 154,
   "metadata": {},
   "outputs": [
    {
     "data": {
      "image/png": "[encoded data removed]",
      "text/plain": [
       "<matplotlib.figure.Figure at 0x7f100a2bd978>"
      ]
     },
     "metadata": {},
     "output_type": "display_data"
    }
   ],
   "source": [
    "powers = [1, 3/4, 1/2, 1/4, 0]\n",
    "plotInteractionDistrib(list(map(lambda x: probWeightedInteractions(interactions_tr, recipeUsers, x), powers)), powers)"
   ]
  },
  {
   "cell_type": "code",
   "execution_count": 151,
   "metadata": {},
   "outputs": [],
   "source": [
    "test = probWeightedInteractions(interactions_tr, recipeUsers, 1)"
   ]
  },
  {
   "cell_type": "code",
   "execution_count": 152,
   "metadata": {},
   "outputs": [
    {
     "data": {
      "text/plain": [
       "1224997"
      ]
     },
     "execution_count": 152,
     "metadata": {},
     "output_type": "execute_result"
    }
   ],
   "source": [
    "len(test)"
   ]
  },
  {
   "cell_type": "code",
   "execution_count": 153,
   "metadata": {},
   "outputs": [
    {
     "data": {
      "text/plain": [
       "1224997"
      ]
     },
     "execution_count": 153,
     "metadata": {},
     "output_type": "execute_result"
    }
   ],
   "source": [
    "len(interactions_tr)"
   ]
  },
  {
   "cell_type": "markdown",
   "metadata": {},
   "source": [
    "## Run Bayesian Personalized Ranking"
   ]
  },
  {
   "cell_type": "code",
   "execution_count": 76,
   "metadata": {},
   "outputs": [],
   "source": [
    "def BPR(interactions_tr, interactions_te, bias, alpha = 0.01, K = 30, P = None, Q = None, prob = False):\n",
    "        \n",
    "    print(\"BPR with K: \" + str(K))\n",
    "    aucs = []\n",
    "\n",
    "    _iter = 25*10**6; # number of iterations\n",
    "    _lambda = 0.01; # regularizer\n",
    "\n",
    "    # Initialize low-rank matrices with random values\n",
    "    if P is None or Q is None:\n",
    "        sigma = 0.1; # std for random initialization\n",
    "        mu = 0.0; # mean for random initialization\n",
    "        N = len(users)\n",
    "        M = len(recipes)\n",
    "        P = ((np.random.rand(N,K) * 4) - 2) * sigma # Users\n",
    "        Q = ((np.random.rand(K,M) * 4) - 2) * sigma # Recipes\n",
    "    \n",
    "    b = np.zeros(len(recipes))\n",
    "    \n",
    "    if(prob):\n",
    "        interactions_tr = probWeightedInteractions(interactions_tr, recipeUsers)\n",
    "        print(\"done\")\n",
    "\n",
    "    for step in range(_iter + 1):\n",
    "\n",
    "        # Select a random positive example\n",
    "        i  = interactions_tr[np.random.randint(0, len(interactions_tr))]\n",
    "        recipe = i[0]\n",
    "        user = i[1]\n",
    "        ir = recipeDict[recipe]\n",
    "        iu = userDict[user]\n",
    "\n",
    "        # Sample a negative example\n",
    "        ji = recipeDict[sample_neg(recipes, user, userRecipes_tr)]\n",
    "\n",
    "        # See BPR paper for details\n",
    "        px = np.dot(P[iu,:], (Q[:,ir]-Q[:,ji]))\n",
    "        if bias:\n",
    "            px += (b[ir]-b[ji]) \n",
    "        z = 1 / (1 + np.exp(px))\n",
    "\n",
    "        # update P\n",
    "        d = (Q[:,ir]-Q[:,ji])*z - _lambda*P[iu,:].T\n",
    "        P[iu,:] = P[iu,:] + alpha*d.T\n",
    "\n",
    "        # update Q positive \n",
    "        d = P[iu,:]*z - _lambda*Q[:,ir].T\n",
    "        Q[:,ir] = Q[:,ir] + alpha*d.T\n",
    "\n",
    "        # update Q negative\n",
    "        d = -P[iu,:]*z - _lambda*Q[:,ji].T\n",
    "        Q[:,ji] = Q[:,ji] + alpha*d.T\n",
    "\n",
    "        if bias:\n",
    "            # neg\n",
    "            d = -z - _lambda*b[ji]\n",
    "            b[ji] = b[ji] + alpha*d\n",
    "\n",
    "            # pos\n",
    "            d = z - _lambda*b[ir]\n",
    "            b[ir] = b[ir] + alpha*d\n",
    "\n",
    "        if step % 500000 == 0:\n",
    "            print(\"Computing AUC...\")\n",
    "            # Compute the Area Under the Curve (AUC)\n",
    "            auc = 0;\n",
    "            for interaction in interactions_te:\n",
    "                recipe = interaction[0]\n",
    "                user = interaction[1]\n",
    "                n_recipe = sample_neg(recipes, user, userRecipes)\n",
    "                \n",
    "                ir = recipeDict[recipe]\n",
    "                iu = userDict[user]\n",
    "                ji = recipeDict[n_recipe]\n",
    "\n",
    "                sp = np.dot(P[iu,:],Q[:,ir])\n",
    "                sn = np.dot(P[iu,:],Q[:,ji])\n",
    "                \n",
    "                if bias:\n",
    "                    sp += b[ir]\n",
    "                    sn += b[ji]\n",
    "\n",
    "                if sp > sn:\n",
    "                    auc = auc+1\n",
    "                else:\n",
    "                    if sp == sn:\n",
    "                        auc = auc+0.5\n",
    "\n",
    "            auc = auc / len(userRecipes_te.keys())\n",
    "            print(\"AUC test: \" + str(auc))\n",
    "            aucs.append(auc)\n",
    "            \n",
    "    return aucs"
   ]
  },
  {
   "cell_type": "code",
   "execution_count": null,
   "metadata": {},
   "outputs": [],
   "source": []
  },
  {
   "cell_type": "code",
   "execution_count": null,
   "metadata": {},
   "outputs": [],
   "source": [
    "sigma = 0.1; # std for random initialization\n",
    "mu = 0.0; # mean for random initialization\n",
    "K = 30\n",
    "N = len(users)\n",
    "M = len(recipes)\n",
    "P = ((np.random.rand(N,K) * 4) - 2) * sigma # Users\n",
    "Q = ((np.random.rand(K,M) * 4) - 2) * sigma # Recipes"
   ]
  },
  {
   "cell_type": "code",
   "execution_count": null,
   "metadata": {},
   "outputs": [],
   "source": [
    "k_range = np.linspace(K, K, 1)\n",
    "perf = []\n",
    "for k in k_range:\n",
    "    perf.append(BPR(interactions_tr, interactions_te, True, 0.01, int(k), P, Q, prob=False))"
   ]
  },
  {
   "cell_type": "code",
   "execution_count": null,
   "metadata": {},
   "outputs": [],
   "source": []
  },
  {
   "cell_type": "code",
   "execution_count": 70,
   "metadata": {},
   "outputs": [],
   "source": [
    "sigma = 0.1; # std for random initialization\n",
    "mu = 0.0; # mean for random initialization\n",
    "K = 30\n",
    "N = len(users)\n",
    "M = len(recipes)\n",
    "P = ((np.random.rand(N,K) * 4) - 2) * sigma # Users\n",
    "Q = ((np.random.rand(K,M) * 4) - 2) * sigma # Recipes"
   ]
  },
  {
   "cell_type": "code",
   "execution_count": 78,
   "metadata": {},
   "outputs": [
    {
     "name": "stdout",
     "output_type": "stream",
     "text": [
      "BPR with K: 30\n",
      "Computing AUC...\n",
      "AUC test: 0.5164700278469881\n",
      "Computing AUC...\n",
      "AUC test: 0.5206653964531731\n",
      "Computing AUC...\n",
      "AUC test: 0.5219844643118863\n",
      "Computing AUC...\n",
      "AUC test: 0.5227722409497289\n",
      "Computing AUC...\n",
      "AUC test: 0.5247142019639455\n",
      "Computing AUC...\n",
      "AUC test: 0.5250622893155503\n",
      "Computing AUC...\n",
      "AUC test: 0.5290194928916899\n",
      "Computing AUC...\n",
      "AUC test: 0.5343507254873223\n",
      "Computing AUC...\n",
      "AUC test: 0.5390224241535981\n",
      "Computing AUC...\n",
      "AUC test: 0.5416055987102447\n",
      "Computing AUC...\n",
      "AUC test: 0.5463139381503738\n",
      "Computing AUC...\n",
      "AUC test: 0.559871024476037\n",
      "Computing AUC...\n",
      "AUC test: 0.5685915286530852\n",
      "Computing AUC...\n",
      "AUC test: 0.5806097024769163\n",
      "Computing AUC...\n",
      "AUC test: 0.5988201670819288\n",
      "Computing AUC...\n",
      "AUC test: 0.61212076799062\n",
      "Computing AUC...\n",
      "AUC test: 0.6272167668181152\n",
      "Computing AUC...\n",
      "AUC test: 0.6448409790414773\n",
      "Computing AUC...\n",
      "AUC test: 0.6629415213249303\n",
      "Computing AUC...\n",
      "AUC test: 0.6773230250622894\n",
      "Computing AUC...\n",
      "AUC test: 0.6913564414480434\n",
      "Computing AUC...\n",
      "AUC test: 0.7078631100688847\n",
      "Computing AUC...\n",
      "AUC test: 0.7161988861204749\n",
      "Computing AUC...\n",
      "AUC test: 0.7295727685768724\n",
      "Computing AUC...\n",
      "AUC test: 0.7401436318335043\n",
      "Computing AUC...\n",
      "AUC test: 0.7495419903268357\n",
      "Computing AUC...\n",
      "AUC test: 0.7586289022424154\n",
      "Computing AUC...\n",
      "AUC test: 0.7623845815623626\n",
      "Computing AUC...\n",
      "AUC test: 0.768100542283453\n",
      "Computing AUC...\n",
      "AUC test: 0.7750622893155503\n",
      "Computing AUC...\n",
      "AUC test: 0.7784515608969661\n",
      "Computing AUC...\n",
      "AUC test: 0.7829034149201232\n",
      "Computing AUC...\n",
      "AUC test: 0.7899201231130002\n",
      "Computing AUC...\n",
      "AUC test: 0.7909460647808881\n",
      "Computing AUC...\n",
      "AUC test: 0.793309394694416\n",
      "Computing AUC...\n",
      "AUC test: 0.7955628022863843\n",
      "Computing AUC...\n",
      "AUC test: 0.797926132199912\n",
      "Computing AUC...\n",
      "AUC test: 0.8000146563095413\n",
      "Computing AUC...\n",
      "AUC test: 0.8009856368166496\n",
      "Computing AUC...\n",
      "AUC test: 0.803788656016415\n",
      "Computing AUC...\n",
      "AUC test: 0.8034405686648102\n",
      "Computing AUC...\n",
      "AUC test: 0.8051443646489814\n",
      "Computing AUC...\n",
      "AUC test: 0.8066649567638868\n",
      "Computing AUC...\n",
      "AUC test: 0.8071596072109043\n",
      "Computing AUC...\n",
      "AUC test: 0.8068664810200792\n",
      "Computing AUC...\n",
      "AUC test: 0.8084420342957643\n",
      "Computing AUC...\n",
      "AUC test: 0.811409936977869\n",
      "Computing AUC...\n",
      "AUC test: 0.8118679466510332\n",
      "Computing AUC...\n",
      "AUC test: 0.8122709951634178\n",
      "Computing AUC...\n",
      "AUC test: 0.8097794225414041\n",
      "Computing AUC...\n",
      "AUC test: 0.8142312765645611\n"
     ]
    }
   ],
   "source": [
    "k_range = np.linspace(K, K, 1)\n",
    "perf = []\n",
    "for k in k_range:\n",
    "    perf.append(BPR(interactions_tr, interactions_te, False, 0.01, int(k), P, Q, prob=False))"
   ]
  },
  {
   "cell_type": "code",
   "execution_count": null,
   "metadata": {},
   "outputs": [],
   "source": []
  },
  {
   "cell_type": "code",
   "execution_count": 81,
   "metadata": {},
   "outputs": [
    {
     "data": {
      "text/plain": [
       "1"
      ]
     },
     "execution_count": 81,
     "metadata": {},
     "output_type": "execute_result"
    }
   ],
   "source": []
  },
  {
   "cell_type": "code",
   "execution_count": 93,
   "metadata": {},
   "outputs": [],
   "source": []
  },
  {
   "cell_type": "code",
   "execution_count": null,
   "metadata": {},
   "outputs": [],
   "source": []
  },
  {
   "cell_type": "code",
   "execution_count": null,
   "metadata": {},
   "outputs": [],
   "source": []
  },
  {
   "cell_type": "markdown",
   "metadata": {
    "collapsed": true
   },
   "source": [
    "## Dummy Ranker\n",
    "\n",
    "Evaluating the performance of a dummy ranker in order to compare it to the performance of our model. The dummy ranker simply rank recipes according to the number of reviews they have."
   ]
  },
  {
   "cell_type": "code",
   "execution_count": 32,
   "metadata": {},
   "outputs": [
    {
     "data": {
      "text/plain": [
       "14854"
      ]
     },
     "execution_count": 32,
     "metadata": {},
     "output_type": "execute_result"
    }
   ],
   "source": [
    "len(recipes)"
   ]
  },
  {
   "cell_type": "code",
   "execution_count": 41,
   "metadata": {},
   "outputs": [
    {
     "name": "stdout",
     "output_type": "stream",
     "text": [
      "Computing AUC of dummy ranker...\n",
      "AUC test: 0.8256540378132786\n"
     ]
    }
   ],
   "source": [
    "print(\"Computing AUC of dummy ranker...\")\n",
    "# Compute the Area Under the Curve (AUC)\n",
    "auc = 0;\n",
    "for interaction in interactions_te:\n",
    "    recipe = interaction[0]\n",
    "    user = interaction[1]\n",
    "    n_recipe = sample_neg(recipes, user, userRecipes)\n",
    "\n",
    "    sp = len(recipeUsers[recipe])\n",
    "    sn = len(recipeUsers[n_recipe])\n",
    "\n",
    "    if sp > sn:\n",
    "        auc = auc+1\n",
    "    else:\n",
    "        if sp == sn:\n",
    "            auc = auc+0.5\n",
    "\n",
    "auc = auc / len(userRecipes_te.keys())\n",
    "print(\"AUC test: \" + str(auc))"
   ]
  },
  {
   "cell_type": "code",
   "execution_count": null,
   "metadata": {},
   "outputs": [],
   "source": []
  },
  {
   "cell_type": "code",
   "execution_count": null,
   "metadata": {
    "collapsed": true
   },
   "outputs": [],
   "source": []
  }
 ],
 "metadata": {
  "anaconda-cloud": {},
  "kernelspec": {
   "display_name": "Python 3",
   "language": "python",
   "name": "python3"
  },
  "language_info": {
   "codemirror_mode": {
    "name": "ipython",
    "version": 3
   },
   "file_extension": ".py",
   "mimetype": "text/x-python",
   "name": "python",
   "nbconvert_exporter": "python",
   "pygments_lexer": "ipython3",
   "version": "3.5.4"
  }
 },
 "nbformat": 4,
 "nbformat_minor": 1
}
