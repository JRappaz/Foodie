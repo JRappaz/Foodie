{
 "cells": [
  {
   "cell_type": "markdown",
   "metadata": {},
   "source": [
    "# Recipe Recommender System Model\n",
    "\n",
    "This notebook presents the python code used to build a recipe recommender system based on BPR."
   ]
  },
  {
   "cell_type": "code",
   "execution_count": 1,
   "metadata": {
    "collapsed": false
   },
   "outputs": [],
   "source": [
    "import os\n",
    "import json\n",
    "import matplotlib.pyplot as plt\n",
    "import matplotlib\n",
    "import pandas as pd\n",
    "import numpy as np\n",
    "import pylab as pl\n",
    "%matplotlib inline"
   ]
  },
  {
   "cell_type": "code",
   "execution_count": 4,
   "metadata": {
    "collapsed": false
   },
   "outputs": [
    {
     "name": "stdout",
     "output_type": "stream",
     "text": [
      "['229804', '245348', '25093', '14930', '257743', '255991', '236394', '13148', '18454', '215435']\n",
      "Nb of recipes: 44069\n"
     ]
    }
   ],
   "source": [
    "recipes = [f.path.split(\"/\")[1] for f in os.scandir(\"recipe_data/\") if f.is_dir() ]    \n",
    "print(recipes[:10])\n",
    "print(\"Nb of recipes: \" + str(len(recipes)))"
   ]
  },
  {
   "cell_type": "code",
   "execution_count": 5,
   "metadata": {
    "collapsed": false
   },
   "outputs": [],
   "source": [
    "def getAllUsersWithReviews(start_path, files):\n",
    "    users = set()\n",
    "    for file in files:\n",
    "        try:\n",
    "            with open(start_path + file + \"/reviews.json\") as data_file:    \n",
    "                reviews = json.load(data_file)\n",
    "                for review in reviews:\n",
    "                    users.add(review[\"submitter\"][\"userID\"])\n",
    "        except: \n",
    "            print(\"Problem with file: \" + file)\n",
    "    return users"
   ]
  },
  {
   "cell_type": "code",
   "execution_count": null,
   "metadata": {
    "collapsed": false
   },
   "outputs": [],
   "source": [
    "users = getAllUsersWithReviews(\"recipe_data/\", recipes)"
   ]
  },
  {
   "cell_type": "code",
   "execution_count": null,
   "metadata": {
    "collapsed": false
   },
   "outputs": [],
   "source": [
    "len(users)"
   ]
  },
  {
   "cell_type": "code",
   "execution_count": null,
   "metadata": {
    "collapsed": true
   },
   "outputs": [],
   "source": [
    "userRecipes = {}\n",
    "recipeUsers = {}\n",
    "\n",
    "for user in users:\n",
    "    userRecipes[user] = []\n",
    "\n",
    "for recipe in recipes:\n",
    "    recipeUsers[recipe] = []\n",
    "\n",
    "for recipe in recipes:\n",
    "    with open(\"recipe_data/\" + recipe + \"/reviews.json\") as data_file:\n",
    "        reviews = json.load(data_file)\n",
    "        for review in reviews:\n",
    "            user = review[\"submitter\"][\"userID\"]\n",
    "            userRecipes[user].append(recipe)\n",
    "            recipeUsers[recipe].append(user)"
   ]
  },
  {
   "cell_type": "code",
   "execution_count": null,
   "metadata": {
    "collapsed": false
   },
   "outputs": [],
   "source": [
    "with open(\"data/userRecipes.json\", \"w\") as file:\n",
    "    file.write(json.dumps(userRecipes))\n",
    "\n",
    "with open(\"data/recipeUsers.json\", \"w\") as file:\n",
    "    file.write(json.dumps(recipeUsers))"
   ]
  },
  {
   "cell_type": "code",
   "execution_count": 13,
   "metadata": {
    "collapsed": true
   },
   "outputs": [],
   "source": [
    "with open(\"data/userRecipes.json\", \"r\") as file:\n",
    "    userRecipes = json.loads(file.read())\n",
    "\n",
    "with open(\"data/recipeUsers.json\", \"r\") as file:\n",
    "    recipeUsers = json.loads(file.read())"
   ]
  },
  {
   "cell_type": "code",
   "execution_count": 14,
   "metadata": {
    "collapsed": true
   },
   "outputs": [],
   "source": [
    "users = list(userRecipes.keys())\n",
    "recipes = list(recipeUsers.keys())"
   ]
  },
  {
   "cell_type": "code",
   "execution_count": 15,
   "metadata": {
    "collapsed": false
   },
   "outputs": [
    {
     "data": {
      "image/png": "[encoded data removed]",
      "text/plain": [
       "<matplotlib.figure.Figure at 0x7fd099568550>"
      ]
     },
     "metadata": {},
     "output_type": "display_data"
    }
   ],
   "source": [
    "userDistrib = list(map(lambda x: len(userRecipes[x]), users))\n",
    "fig = pl.gcf()\n",
    "fig.set_size_inches(14, 8)\n",
    "plt.hist(userDistrib, bins=35,log=True)\n",
    "pl.title('Distribution of #reviews amongst users')\n",
    "pl.xlabel('Reviews')\n",
    "pl.ylabel('#Users')\n",
    "font = {'family' : 'sans-serif',\n",
    "        'size'   : 16}\n",
    "\n",
    "axes = plt.gca()\n",
    "axes.set_ylim([0.9,10**7])\n",
    "matplotlib.rc('font', **font)\n",
    "plt.show()"
   ]
  },
  {
   "cell_type": "code",
   "execution_count": 16,
   "metadata": {
    "collapsed": false
   },
   "outputs": [
    {
     "data": {
      "image/png": "[encoded data removed]",
      "text/plain": [
       "<matplotlib.figure.Figure at 0x7fd0a7f89550>"
      ]
     },
     "metadata": {},
     "output_type": "display_data"
    }
   ],
   "source": [
    "plt.hist(userDistrib, log=True, bins=np.sqrt(3)**(np.arange(0,15)))\n",
    "fig = pl.gcf()\n",
    "fig.set_size_inches(14, 8)\n",
    "plt.xscale('log')\n",
    "\n",
    "pl.title('Distribution of #reviews amongst users - LogLog scale')\n",
    "pl.xlabel('Reviews')\n",
    "pl.ylabel('#Users')\n",
    "\n",
    "axes = plt.gca()\n",
    "axes.set_ylim([0.9,10**7])\n",
    "matplotlib.rc('font', **font)\n",
    "plt.show()"
   ]
  },
  {
   "cell_type": "code",
   "execution_count": 17,
   "metadata": {
    "collapsed": false
   },
   "outputs": [
    {
     "data": {
      "text/html": [
       "<div>\n",
       "<table border=\"1\" class=\"dataframe\">\n",
       "  <thead>\n",
       "    <tr style=\"text-align: right;\">\n",
       "      <th></th>\n",
       "      <th>nb reviews</th>\n",
       "    </tr>\n",
       "  </thead>\n",
       "  <tbody>\n",
       "    <tr>\n",
       "      <th>count</th>\n",
       "      <td>1.017178e+06</td>\n",
       "    </tr>\n",
       "    <tr>\n",
       "      <th>mean</th>\n",
       "      <td>3.306215e+00</td>\n",
       "    </tr>\n",
       "    <tr>\n",
       "      <th>std</th>\n",
       "      <td>1.245852e+01</td>\n",
       "    </tr>\n",
       "    <tr>\n",
       "      <th>min</th>\n",
       "      <td>1.000000e+00</td>\n",
       "    </tr>\n",
       "    <tr>\n",
       "      <th>25%</th>\n",
       "      <td>1.000000e+00</td>\n",
       "    </tr>\n",
       "    <tr>\n",
       "      <th>50%</th>\n",
       "      <td>1.000000e+00</td>\n",
       "    </tr>\n",
       "    <tr>\n",
       "      <th>75%</th>\n",
       "      <td>2.000000e+00</td>\n",
       "    </tr>\n",
       "    <tr>\n",
       "      <th>max</th>\n",
       "      <td>3.327000e+03</td>\n",
       "    </tr>\n",
       "  </tbody>\n",
       "</table>\n",
       "</div>"
      ],
      "text/plain": [
       "         nb reviews\n",
       "count  1.017178e+06\n",
       "mean   3.306215e+00\n",
       "std    1.245852e+01\n",
       "min    1.000000e+00\n",
       "25%    1.000000e+00\n",
       "50%    1.000000e+00\n",
       "75%    2.000000e+00\n",
       "max    3.327000e+03"
      ]
     },
     "execution_count": 17,
     "metadata": {},
     "output_type": "execute_result"
    }
   ],
   "source": [
    "pdUserDistrib = pd.DataFrame(userDistrib)\n",
    "pdUserDistrib.columns = [\"nb reviews\"]\n",
    "pdUserDistrib.describe()"
   ]
  },
  {
   "cell_type": "code",
   "execution_count": 18,
   "metadata": {
    "collapsed": false
   },
   "outputs": [
    {
     "name": "stdout",
     "output_type": "stream",
     "text": [
      "249586 users with at least than 3 reviews\n",
      "135320 users with at least than 5 reviews\n",
      "58247 users with at least than 10 reviews\n",
      "22805 users with at least than 20 reviews\n",
      "5104 users with at least than 50 reviews\n",
      "1523 users with at least than 100 reviews\n"
     ]
    }
   ],
   "source": [
    "for i in [3, 5, 10, 20, 50, 100]:\n",
    "    print(str(len(pdUserDistrib[pdUserDistrib[\"nb reviews\"] >= i])) + \" users with at least than \" + str(i) + \" reviews\")"
   ]
  },
  {
   "cell_type": "code",
   "execution_count": 19,
   "metadata": {
    "collapsed": false
   },
   "outputs": [
    {
     "data": {
      "image/png": "[encoded data removed]",
      "text/plain": [
       "<matplotlib.figure.Figure at 0x7fd0987aa6a0>"
      ]
     },
     "metadata": {},
     "output_type": "display_data"
    }
   ],
   "source": [
    "recipeDistrib = list(map(lambda x: len(recipeUsers[x]), recipes))\n",
    "fig = pl.gcf()\n",
    "fig.set_size_inches(14, 8)\n",
    "plt.hist(recipeDistrib,  log=True)\n",
    "plt.show()"
   ]
  },
  {
   "cell_type": "code",
   "execution_count": 20,
   "metadata": {
    "collapsed": false
   },
   "outputs": [
    {
     "data": {
      "image/png": "[encoded data removed]",
      "text/plain": [
       "<matplotlib.figure.Figure at 0x7fd09bf02550>"
      ]
     },
     "metadata": {},
     "output_type": "display_data"
    }
   ],
   "source": [
    "plt.hist(recipeDistrib, log=True, bins=np.sqrt(3)**(np.arange(0,15)))\n",
    "fig = pl.gcf()\n",
    "fig.set_size_inches(14, 8)\n",
    "plt.xscale('log')\n",
    "\n",
    "pl.xlabel('Reviews')\n",
    "pl.ylabel('#Recipes')\n",
    "\n",
    "axes = plt.gca()\n",
    "matplotlib.rc('font', **font)\n",
    "plt.show()"
   ]
  },
  {
   "cell_type": "code",
   "execution_count": 21,
   "metadata": {
    "collapsed": false
   },
   "outputs": [
    {
     "data": {
      "text/html": [
       "<div>\n",
       "<table border=\"1\" class=\"dataframe\">\n",
       "  <thead>\n",
       "    <tr style=\"text-align: right;\">\n",
       "      <th></th>\n",
       "      <th>nb reviews</th>\n",
       "    </tr>\n",
       "  </thead>\n",
       "  <tbody>\n",
       "    <tr>\n",
       "      <th>count</th>\n",
       "      <td>44069.000000</td>\n",
       "    </tr>\n",
       "    <tr>\n",
       "      <th>mean</th>\n",
       "      <td>76.312351</td>\n",
       "    </tr>\n",
       "    <tr>\n",
       "      <th>std</th>\n",
       "      <td>293.079980</td>\n",
       "    </tr>\n",
       "    <tr>\n",
       "      <th>min</th>\n",
       "      <td>0.000000</td>\n",
       "    </tr>\n",
       "    <tr>\n",
       "      <th>25%</th>\n",
       "      <td>3.000000</td>\n",
       "    </tr>\n",
       "    <tr>\n",
       "      <th>50%</th>\n",
       "      <td>12.000000</td>\n",
       "    </tr>\n",
       "    <tr>\n",
       "      <th>75%</th>\n",
       "      <td>47.000000</td>\n",
       "    </tr>\n",
       "    <tr>\n",
       "      <th>max</th>\n",
       "      <td>10835.000000</td>\n",
       "    </tr>\n",
       "  </tbody>\n",
       "</table>\n",
       "</div>"
      ],
      "text/plain": [
       "         nb reviews\n",
       "count  44069.000000\n",
       "mean      76.312351\n",
       "std      293.079980\n",
       "min        0.000000\n",
       "25%        3.000000\n",
       "50%       12.000000\n",
       "75%       47.000000\n",
       "max    10835.000000"
      ]
     },
     "execution_count": 21,
     "metadata": {},
     "output_type": "execute_result"
    }
   ],
   "source": [
    "pdrecipeDistrib = pd.DataFrame(recipeDistrib)\n",
    "pdrecipeDistrib.columns = [\"nb reviews\"]\n",
    "pdrecipeDistrib.describe()"
   ]
  },
  {
   "cell_type": "code",
   "execution_count": null,
   "metadata": {
    "collapsed": false
   },
   "outputs": [],
   "source": []
  },
  {
   "cell_type": "markdown",
   "metadata": {},
   "source": [
    "## Building Model"
   ]
  },
  {
   "cell_type": "code",
   "execution_count": 11,
   "metadata": {
    "collapsed": false
   },
   "outputs": [],
   "source": [
    "'''# Sample 1000 recipes and 10000 users for test\n",
    "N = 1000\n",
    "M = 10000\n",
    "\n",
    "sampleRecipes = np.random.choice(list(recipes), N)\n",
    "sampleUsers = []\n",
    "while len(sampleUsers) < M:\n",
    "    r = np.random.choice(sampleRecipes)\n",
    "    if(len(recipeUsers[r]) > 1):\n",
    "        u = np.random.choice(recipeUsers[r])\n",
    "        if str(u) not in sampleUsers:\n",
    "            sampleUsers.append(str(u))\n",
    "            '''"
   ]
  },
  {
   "cell_type": "code",
   "execution_count": 12,
   "metadata": {
    "collapsed": false
   },
   "outputs": [],
   "source": [
    "  '''W = np.zeros((N,M))\n",
    "for i in range(N):\n",
    "    for j in range(M):\n",
    "        if sampleRecipes[i] in userRecipes[sampleUsers[j]]:\n",
    "            W[i,j] = 1  '''"
   ]
  },
  {
   "cell_type": "code",
   "execution_count": 21,
   "metadata": {
    "collapsed": false
   },
   "outputs": [],
   "source": [
    "  '''sampleInteractions = []\n",
    "\n",
    "for user in sampleUsers:\n",
    "    for recipe in sampleRecipes:\n",
    "        if recipe in userRecipes[user]:\n",
    "            sampleInteractions.append((recipe, user))  '''"
   ]
  },
  {
   "cell_type": "code",
   "execution_count": 134,
   "metadata": {
    "collapsed": false
   },
   "outputs": [],
   "source": [
    "interactions = []\n",
    "for user in users:\n",
    "    if len(userRecipes[user]) >= 5:\n",
    "        for recipe in userRecipes[user]:\n",
    "            interactions.append((recipe, user))\n",
    "\n",
    "#interactions = np.array(sampleInteractions)"
   ]
  },
  {
   "cell_type": "code",
   "execution_count": null,
   "metadata": {
    "collapsed": false
   },
   "outputs": [],
   "source": []
  },
  {
   "cell_type": "code",
   "execution_count": 135,
   "metadata": {
    "collapsed": false
   },
   "outputs": [],
   "source": [
    "_iter = 10**7; # number of iterations\n",
    "alpha = 0.05; # learning rate\n",
    "_lambda = 0.01; # regularizer\n",
    "sigma = 0.1; # std for random initialization\n",
    "mu = 0.0; # mean for random initialization\n",
    "K = 10; # number of latent factors \n",
    "N = len(users)\n",
    "M = len(recipes)\n",
    "\n",
    "# Split test-train \n",
    "\n",
    "userRecipes_tr = {}\n",
    "for interaction in interactions:\n",
    "    r = interaction[0]\n",
    "    u = interaction[1]\n",
    "    if u not in userRecipes_tr.keys():\n",
    "        userRecipes_tr[u] = [r]\n",
    "    else:\n",
    "        userRecipes_tr[u].append(r)\n",
    "\n",
    "interactions_te = []\n",
    "userRecipes_te = {}\n",
    "for user in userRecipes_tr.keys():\n",
    "    test_recipe = np.random.choice(userRecipes_tr[user])\n",
    "    userRecipes_tr[user].remove(test_recipe)\n",
    "    userRecipes_te[user] = test_recipe\n",
    "    interactions_te.append((test_recipe, user))\n",
    "    \n",
    "interactions_tr = []\n",
    "for user in userRecipes_tr.keys():\n",
    "    for recipe in userRecipes_tr[user]:\n",
    "        interactions_tr.append((recipe, user))\n",
    "\n",
    "# Initialize low-rank matrices with random values\n",
    "P = ((np.random.rand(N,K) * 4) - 2) * sigma # Users\n",
    "Q = ((np.random.rand(K,M) * 4) - 2) * sigma # Recipes"
   ]
  },
  {
   "cell_type": "code",
   "execution_count": 136,
   "metadata": {
    "collapsed": false
   },
   "outputs": [
    {
     "data": {
      "text/plain": [
       "135320"
      ]
     },
     "execution_count": 136,
     "metadata": {},
     "output_type": "execute_result"
    }
   ],
   "source": [
    "len(userRecipes_te.keys())"
   ]
  },
  {
   "cell_type": "code",
   "execution_count": null,
   "metadata": {
    "collapsed": false
   },
   "outputs": [],
   "source": []
  },
  {
   "cell_type": "markdown",
   "metadata": {
    "collapsed": false
   },
   "source": [
    "## Use sample instead of real values\n"
   ]
  },
  {
   "cell_type": "code",
   "execution_count": 137,
   "metadata": {
    "collapsed": false
   },
   "outputs": [
    {
     "data": {
      "text/plain": [
       "'recipes = sampleRecipes\\nusers = sampleUsers\\ninteractions = sampleInteractions  '"
      ]
     },
     "execution_count": 137,
     "metadata": {},
     "output_type": "execute_result"
    }
   ],
   "source": [
    "'''recipes = sampleRecipes\n",
    "users = sampleUsers\n",
    "interactions = sampleInteractions  '''"
   ]
  },
  {
   "cell_type": "markdown",
   "metadata": {
    "collapsed": false
   },
   "source": [
    "## Model"
   ]
  },
  {
   "cell_type": "code",
   "execution_count": 138,
   "metadata": {
    "collapsed": false
   },
   "outputs": [],
   "source": [
    "userDict = {}\n",
    "for i in range(len(users)):\n",
    "    userDict[users[i]] = i\n",
    "    \n",
    "recipeDict = {}\n",
    "for i in range(len(recipes)):\n",
    "    recipeDict[recipes[i]] = i"
   ]
  },
  {
   "cell_type": "code",
   "execution_count": 139,
   "metadata": {
    "collapsed": true
   },
   "outputs": [],
   "source": [
    "def sample_neg(recipes, user, userRecipes):\n",
    "    recipe  = recipes[np.random.randint(0, len(recipes))]\n",
    "    while recipe in userRecipes[user]:\n",
    "        recipe = np.random.choice(recipes)\n",
    "    return recipe"
   ]
  },
  {
   "cell_type": "code",
   "execution_count": 140,
   "metadata": {
    "collapsed": true
   },
   "outputs": [],
   "source": [
    "import time"
   ]
  },
  {
   "cell_type": "code",
   "execution_count": 141,
   "metadata": {
    "collapsed": false
   },
   "outputs": [
    {
     "name": "stdout",
     "output_type": "stream",
     "text": [
      "Computing AUC...\n",
      "AUC test: 0.49801211942063256\n",
      "Computing AUC...\n",
      "AUC test: 0.4983372746083358\n",
      "Computing AUC...\n",
      "AUC test: 0.5005468519065918\n",
      "Computing AUC...\n",
      "AUC test: 0.5011749926101093\n",
      "Computing AUC...\n",
      "AUC test: 0.501840082766775\n",
      "Computing AUC...\n",
      "AUC test: 0.4996083357966302\n",
      "Computing AUC...\n",
      "AUC test: 0.5018031333136269\n",
      "Computing AUC...\n",
      "AUC test: 0.503953591486846\n",
      "Computing AUC...\n",
      "AUC test: 0.5073159917233225\n",
      "Computing AUC...\n",
      "AUC test: 0.5087570203960982\n",
      "Computing AUC...\n",
      "AUC test: 0.5127992905704996\n",
      "Computing AUC...\n",
      "AUC test: 0.5268622524386639\n",
      "Computing AUC...\n",
      "AUC test: 0.5413020987289389\n",
      "Computing AUC...\n",
      "AUC test: 0.5665090156665681\n",
      "Computing AUC...\n",
      "AUC test: 0.5952039609813775\n",
      "Computing AUC...\n",
      "AUC test: 0.6286653857522909\n",
      "Computing AUC...\n",
      "AUC test: 0.6593334318652084\n",
      "Computing AUC...\n",
      "AUC test: 0.6910138929943836\n",
      "Computing AUC...\n",
      "AUC test: 0.7195832101684895\n",
      "Computing AUC...\n",
      "AUC test: 0.7467780076854863\n",
      "Computing AUC...\n",
      "AUC test: 0.7696644989654153\n",
      "Computing AUC...\n",
      "AUC test: 0.7872228791013893\n",
      "Computing AUC...\n",
      "AUC test: 0.8053281111439551\n",
      "Computing AUC...\n",
      "AUC test: 0.8196940585279338\n",
      "Computing AUC...\n",
      "AUC test: 0.8317986993792492\n",
      "Computing AUC...\n",
      "AUC test: 0.8434599467927875\n",
      "Computing AUC...\n",
      "AUC test: 0.8519509311262193\n",
      "Computing AUC...\n",
      "AUC test: 0.8599394028968371\n",
      "Computing AUC...\n",
      "AUC test: 0.8661912503694945\n",
      "Computing AUC...\n",
      "AUC test: 0.8722657404670411\n",
      "Computing AUC...\n",
      "AUC test: 0.8777859887673662\n",
      "Computing AUC...\n",
      "AUC test: 0.8805571977534733\n",
      "Computing AUC...\n",
      "AUC test: 0.8858409695536507\n",
      "Computing AUC...\n",
      "AUC test: 0.8887156370085723\n",
      "Computing AUC...\n",
      "AUC test: 0.8914868459946793\n",
      "Computing AUC...\n",
      "AUC test: 0.8940289683712681\n",
      "Computing AUC...\n",
      "AUC test: 0.8954921667159326\n",
      "Computing AUC...\n",
      "AUC test: 0.896046408513154\n",
      "Computing AUC...\n",
      "AUC test: 0.8993940289683713\n",
      "Computing AUC...\n",
      "AUC test: 0.9005025125628141\n",
      "Computing AUC...\n",
      "AUC test: 0.9020839491575525\n",
      "Computing AUC...\n",
      "AUC test: 0.9017292344073308\n",
      "Computing AUC...\n",
      "AUC test: 0.9031037540644399\n",
      "Computing AUC...\n",
      "AUC test: 0.9046999704404375\n",
      "Computing AUC...\n",
      "AUC test: 0.9057049955660657\n",
      "Computing AUC...\n",
      "AUC test: 0.9056754360035472\n",
      "Computing AUC...\n",
      "AUC test: 0.9066509015666568\n",
      "Computing AUC...\n",
      "AUC test: 0.9061262193319539\n",
      "Computing AUC...\n",
      "AUC test: 0.9081288796925806\n",
      "Computing AUC...\n",
      "AUC test: 0.908624002364765\n"
     ]
    }
   ],
   "source": [
    "for step in range(_iter):\n",
    "    \n",
    "    # Select a random positive example\n",
    "    i  = interactions_tr[np.random.randint(0, len(interactions_tr))]\n",
    "    recipe = i[0]\n",
    "    user = i[1]\n",
    "    ir = recipeDict[recipe]\n",
    "    iu = userDict[user]\n",
    "    \n",
    "    # Sample a negative example\n",
    "    \n",
    "    ji = recipeDict[sample_neg(recipes, user, userRecipes)]\n",
    "    \n",
    "    # See BPR paper for details\n",
    "    px = np.dot(P[iu,:], (Q[:,ir]-Q[:,ji]))\n",
    "    z = 1 / (1 + np.exp(px));\n",
    "    \n",
    "    # update P\n",
    "    d = (Q[:,ir]-Q[:,ji])*z - _lambda*P[iu,:].T\n",
    "    P[iu,:] = P[iu,:] + alpha*d.T\n",
    "    \n",
    "    # update Q positive\n",
    "    d = P[iu,:]*z - _lambda*Q[:,ir].T\n",
    "    Q[:,ir] = Q[:,ir] + alpha*d.T\n",
    "    \n",
    "    # update Q negative\n",
    "    d = -P[iu,:]*z - _lambda*Q[:,ji].T\n",
    "    Q[:,ji] = Q[:,ji] + alpha*d.T\n",
    "    \n",
    "    \n",
    "    if step % 200000 == 0:\n",
    "        print(\"Computing AUC...\")\n",
    "        # Compute the Area Under the Curve (AUC)\n",
    "        auc = 0;\n",
    "        for interaction in interactions_te:\n",
    "            recipe = interaction[0]\n",
    "            user = interaction[1]\n",
    "            n_recipe = sample_neg(recipes, user, userRecipes)\n",
    "            \n",
    "            sp = np.dot(P[userDict[user],:],Q[:,recipeDict[recipe]])\n",
    "            sn = np.dot(P[userDict[user],:],Q[:,recipeDict[n_recipe]])\n",
    "            \n",
    "            if sp > sn:\n",
    "                auc = auc+1\n",
    "            else:\n",
    "                if sp == sn:\n",
    "                    auc = auc+0.5\n",
    "                \n",
    "        auc = auc / len(userRecipes_te.keys())\n",
    "        print(\"AUC test: \" + str(auc))"
   ]
  },
  {
   "cell_type": "code",
   "execution_count": 124,
   "metadata": {
    "collapsed": false
   },
   "outputs": [
    {
     "data": {
      "text/plain": [
       "1050340"
      ]
     },
     "execution_count": 124,
     "metadata": {},
     "output_type": "execute_result"
    }
   ],
   "source": [
    "len(interactions_tr)"
   ]
  },
  {
   "cell_type": "code",
   "execution_count": 130,
   "metadata": {
    "collapsed": false
   },
   "outputs": [
    {
     "data": {
      "text/plain": [
       "22805"
      ]
     },
     "execution_count": 130,
     "metadata": {},
     "output_type": "execute_result"
    }
   ],
   "source": [
    "len(interactions_te)"
   ]
  },
  {
   "cell_type": "code",
   "execution_count": 132,
   "metadata": {
    "collapsed": false
   },
   "outputs": [
    {
     "data": {
      "text/plain": [
       "True"
      ]
     },
     "execution_count": 132,
     "metadata": {},
     "output_type": "execute_result"
    }
   ],
   "source": [
    "len(interactions) == len(interactions_te) + len(interactions_tr)"
   ]
  },
  {
   "cell_type": "code",
   "execution_count": null,
   "metadata": {
    "collapsed": true
   },
   "outputs": [],
   "source": []
  }
 ],
 "metadata": {
  "anaconda-cloud": {},
  "kernelspec": {
   "display_name": "Python [Root]",
   "language": "python",
   "name": "Python [Root]"
  },
  "language_info": {
   "codemirror_mode": {
    "name": "ipython",
    "version": 3
   },
   "file_extension": ".py",
   "mimetype": "text/x-python",
   "name": "python",
   "nbconvert_exporter": "python",
   "pygments_lexer": "ipython3",
   "version": "3.5.2"
  }
 },
 "nbformat": 4,
 "nbformat_minor": 0
}
