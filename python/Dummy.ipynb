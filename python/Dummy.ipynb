{
 "cells": [
  {
   "cell_type": "code",
   "execution_count": 9,
   "metadata": {
    "collapsed": false
   },
   "outputs": [],
   "source": [
    "import json\n",
    "import numpy as np"
   ]
  },
  {
   "cell_type": "code",
   "execution_count": 10,
   "metadata": {
    "collapsed": true
   },
   "outputs": [],
   "source": [
    "with open(\"data/filteredUserRecipes.json\", \"r\") as file:\n",
    "    userRecipes = json.loads(file.read())\n",
    "\n",
    "with open(\"data/filteredRecipeUsers.json\", \"r\") as file:\n",
    "    recipeUsers = json.loads(file.read())"
   ]
  },
  {
   "cell_type": "code",
   "execution_count": 11,
   "metadata": {
    "collapsed": true
   },
   "outputs": [],
   "source": [
    "interactions = []\n",
    "for user in users:\n",
    "    for recipe in userRecipes[user]:\n",
    "        interactions.append((recipe, user))\n",
    "\n",
    "#interactions = np.array(sampleInteractions)"
   ]
  },
  {
   "cell_type": "code",
   "execution_count": 12,
   "metadata": {
    "collapsed": true
   },
   "outputs": [],
   "source": [
    "users = list(userRecipes.keys())\n",
    "recipes = list(recipeUsers.keys())"
   ]
  },
  {
   "cell_type": "code",
   "execution_count": 13,
   "metadata": {
    "collapsed": false
   },
   "outputs": [],
   "source": [
    "# Split test-train \n",
    "\n",
    "userRecipes_tr = {}\n",
    "for interaction in interactions:\n",
    "    r = interaction[0]\n",
    "    u = interaction[1]\n",
    "    if u not in userRecipes_tr.keys():\n",
    "        userRecipes_tr[u] = [r]\n",
    "    else:\n",
    "        userRecipes_tr[u].append(r)\n",
    "\n",
    "interactions_te = []\n",
    "userRecipes_te = {}\n",
    "for user in userRecipes_tr.keys():\n",
    "    test_recipe = np.random.choice(userRecipes_tr[user])\n",
    "    userRecipes_tr[user].remove(test_recipe)\n",
    "    userRecipes_te[user] = test_recipe\n",
    "    interactions_te.append((test_recipe, user))\n",
    "\n",
    "interactions_tr = []\n",
    "for user in userRecipes_tr.keys():\n",
    "    for recipe in userRecipes_tr[user]:\n",
    "        interactions_tr.append((recipe, user))"
   ]
  },
  {
   "cell_type": "code",
   "execution_count": 15,
   "metadata": {
    "collapsed": true
   },
   "outputs": [],
   "source": [
    "def sample_neg(recipes, user, userRecipes):\n",
    "    recipe  = recipes[np.random.randint(0, len(recipes))]\n",
    "    while recipe in userRecipes[user]:\n",
    "        recipe  = recipes[np.random.randint(0, len(recipes))]\n",
    "    return recipe"
   ]
  },
  {
   "cell_type": "code",
   "execution_count": 16,
   "metadata": {
    "collapsed": false
   },
   "outputs": [
    {
     "name": "stdout",
     "output_type": "stream",
     "text": [
      "Computing AUC of dummy ranker...\n",
      "AUC test: 0.8254891543309395\n"
     ]
    }
   ],
   "source": [
    "print(\"Computing AUC of dummy ranker...\")\n",
    "# Compute the Area Under the Curve (AUC)\n",
    "auc = 0;\n",
    "for interaction in interactions_te:\n",
    "    recipe = interaction[0]\n",
    "    user = interaction[1]\n",
    "    n_recipe = sample_neg(recipes, user, userRecipes)\n",
    "\n",
    "    sp = len(recipeUsers[recipe])\n",
    "    sn = len(recipeUsers[n_recipe])\n",
    "\n",
    "    if sp > sn:\n",
    "        auc = auc+1\n",
    "    else:\n",
    "        if sp == sn:\n",
    "            auc = auc+0.5\n",
    "\n",
    "auc = auc / len(userRecipes_te.keys())\n",
    "print(\"AUC test: \" + str(auc))"
   ]
  },
  {
   "cell_type": "code",
   "execution_count": null,
   "metadata": {
    "collapsed": true
   },
   "outputs": [],
   "source": []
  }
 ],
 "metadata": {
  "kernelspec": {
   "display_name": "Python [Root]",
   "language": "python",
   "name": "Python [Root]"
  },
  "language_info": {
   "codemirror_mode": {
    "name": "ipython",
    "version": 3
   },
   "file_extension": ".py",
   "mimetype": "text/x-python",
   "name": "python",
   "nbconvert_exporter": "python",
   "pygments_lexer": "ipython3",
   "version": "3.5.2"
  }
 },
 "nbformat": 4,
 "nbformat_minor": 0
}
