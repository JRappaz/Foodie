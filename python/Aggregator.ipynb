{
 "cells": [
  {
   "cell_type": "code",
   "execution_count": 1,
   "metadata": {},
   "outputs": [],
   "source": [
    "import os\n",
    "import json\n",
    "import shutil\n",
    "import pandas as pd"
   ]
  },
  {
   "cell_type": "code",
   "execution_count": 2,
   "metadata": {},
   "outputs": [
    {
     "name": "stdout",
     "output_type": "stream",
     "text": [
      "['12006977', '7766372', '11364301', '2986563', '14057827', '18236666', '5696287', '1480004', '854882', '5659005']\n",
      "Nb of users: 79242\n"
     ]
    }
   ],
   "source": [
    "users = [f.path.split(\"/\")[1] for f in os.scandir(\"user_data/\") if f.is_dir() ]    \n",
    "print(users[:10])\n",
    "print(\"Nb of users: \" + str(len(users)))"
   ]
  },
  {
   "cell_type": "code",
   "execution_count": 3,
   "metadata": {},
   "outputs": [],
   "source": [
    "users_data = {}"
   ]
  },
  {
   "cell_type": "code",
   "execution_count": 4,
   "metadata": {},
   "outputs": [
    {
     "name": "stdout",
     "output_type": "stream",
     "text": [
      "problem with 4626564\n",
      "problem with user_data\n",
      "problem with 13009848\n",
      "problem with 535921\n",
      "problem with 6723722\n",
      "problem with 432260\n"
     ]
    }
   ],
   "source": [
    "for user in users:\n",
    "    users_data[user] = {}\n",
    "    users_data[user][\"made\"] = []\n",
    "    try:\n",
    "        with open(\"user_data/\" + user + \"/recipes.json\", \"r\") as recipe_file:\n",
    "            recipes = json.load(recipe_file)\n",
    "            for recipe in recipes:\n",
    "                users_data[user][\"made\"].append(recipe[\"recipeID\"])\n",
    "        with open(\"user_data/\" + user + \"/data.json\", \"r\") as data_file:\n",
    "            users_data[user][\"infos\"] = json.load(data_file)\n",
    "    except:\n",
    "        del users_data[user]\n",
    "        print(\"problem with \" + user)"
   ]
  },
  {
   "cell_type": "code",
   "execution_count": 17,
   "metadata": {},
   "outputs": [],
   "source": [
    "with open(\"data/user_data.json\", \"w\") as out_file:\n",
    "    json.dump(users_data, out_file)"
   ]
  },
  {
   "cell_type": "code",
   "execution_count": 4,
   "metadata": {},
   "outputs": [],
   "source": [
    "with open(\"data/user_data.json\", \"r\") as in_file:\n",
    "    users_data = json.load(in_file)"
   ]
  },
  {
   "cell_type": "code",
   "execution_count": 14,
   "metadata": {},
   "outputs": [],
   "source": [
    "users = list(users_data.keys())"
   ]
  },
  {
   "cell_type": "code",
   "execution_count": 15,
   "metadata": {},
   "outputs": [
    {
     "data": {
      "text/plain": [
       "1017178"
      ]
     },
     "execution_count": 15,
     "metadata": {},
     "output_type": "execute_result"
    }
   ],
   "source": [
    "all_users = list(pd.read_csv(\"users.csv\")[\"user_id\"].map(lambda x: str(x)))\n",
    "len(all_users)"
   ]
  },
  {
   "cell_type": "code",
   "execution_count": 16,
   "metadata": {},
   "outputs": [
    {
     "data": {
      "text/plain": [
       "1017178"
      ]
     },
     "execution_count": 16,
     "metadata": {},
     "output_type": "execute_result"
    }
   ],
   "source": [
    "len(users)"
   ]
  },
  {
   "cell_type": "code",
   "execution_count": null,
   "metadata": {},
   "outputs": [],
   "source": []
  },
  {
   "cell_type": "code",
   "execution_count": 9,
   "metadata": {},
   "outputs": [],
   "source": [
    "missing_users = list(set(all_users) - set(users))"
   ]
  },
  {
   "cell_type": "code",
   "execution_count": 10,
   "metadata": {},
   "outputs": [],
   "source": [
    "with open(\"data/missing_users.json\", \"w\") as out_file:\n",
    "    json.dump(missing_users, out_file)\n"
   ]
  },
  {
   "cell_type": "code",
   "execution_count": 11,
   "metadata": {},
   "outputs": [
    {
     "data": {
      "text/plain": [
       "229392"
      ]
     },
     "execution_count": 11,
     "metadata": {},
     "output_type": "execute_result"
    }
   ],
   "source": [
    "len(missing_users)"
   ]
  },
  {
   "cell_type": "code",
   "execution_count": 10,
   "metadata": {},
   "outputs": [],
   "source": [
    "for user in users:\n",
    "    try:\n",
    "        shutil.rmtree(\"user_data/\" + user + \"/\")\n",
    "    except:\n",
    "        None"
   ]
  },
  {
   "cell_type": "code",
   "execution_count": 12,
   "metadata": {},
   "outputs": [],
   "source": [
    "with open(\"missing_data.json\", \"r\") as in_file:\n",
    "    missing_data = json.load(in_file)"
   ]
  },
  {
   "cell_type": "code",
   "execution_count": 13,
   "metadata": {},
   "outputs": [],
   "source": [
    "for user in missing_data.keys():\n",
    "    users_data[user] = missing_data[user]"
   ]
  },
  {
   "cell_type": "code",
   "execution_count": null,
   "metadata": {
    "collapsed": true
   },
   "outputs": [],
   "source": []
  }
 ],
 "metadata": {
  "anaconda-cloud": {},
  "kernelspec": {
   "display_name": "Python 3",
   "language": "python",
   "name": "python3"
  },
  "language_info": {
   "codemirror_mode": {
    "name": "ipython",
    "version": 3
   },
   "file_extension": ".py",
   "mimetype": "text/x-python",
   "name": "python",
   "nbconvert_exporter": "python",
   "pygments_lexer": "ipython3",
   "version": "3.5.4"
  }
 },
 "nbformat": 4,
 "nbformat_minor": 1
}
