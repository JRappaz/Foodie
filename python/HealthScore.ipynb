{
 "cells": [
  {
   "cell_type": "code",
   "execution_count": 1,
   "metadata": {},
   "outputs": [],
   "source": [
    "import os\n",
    "import json\n",
    "import matplotlib.pyplot as plt\n",
    "import matplotlib\n",
    "import pandas as pd\n",
    "import numpy as np\n",
    "import pylab as pl\n",
    "from scipy.sparse import lil_matrix\n",
    "%matplotlib inline"
   ]
  },
  {
   "cell_type": "code",
   "execution_count": 2,
   "metadata": {},
   "outputs": [
    {
     "name": "stdout",
     "output_type": "stream",
     "text": [
      "['229804', '245348', '25093', '14930', '257743', '255991', '236394', '13148', '18454', '215435']\n",
      "Nb of recipes: 44069\n"
     ]
    }
   ],
   "source": [
    "recipes = [f.path.split(\"/\")[1] for f in os.scandir(\"recipe_data/\") if f.is_dir() ]    \n",
    "print(recipes[:10])\n",
    "print(\"Nb of recipes: \" + str(len(recipes)))"
   ]
  },
  {
   "cell_type": "code",
   "execution_count": 29,
   "metadata": {},
   "outputs": [],
   "source": [
    "def getRecipeNutrition(recipe_id):\n",
    "    directory = 'recipe_data/' + recipe_id + \"/\"\n",
    "    fname = directory + \"nutrition.json\"\n",
    "    if os.path.isfile(fname) == False :\n",
    "        return False\n",
    "    \n",
    "    with open('recipe_data/' + recipe_id + \"/nutrition.json\", 'r') as infile:\n",
    "        nutrition = json.load(infile)['nutrition']\n",
    "        \n",
    "    return nutrition"
   ]
  },
  {
   "cell_type": "code",
   "execution_count": 32,
   "metadata": {},
   "outputs": [],
   "source": [
    "def getRecipeFacts(recipe_id):\n",
    "    nutrition = getRecipeNutrition(recipe_id)\n",
    "    facts_list = ['sodium', 'saturatedFat', 'fat', 'sugars']\n",
    "    facts = {}\n",
    "    for fact in facts_list:\n",
    "        if nutrition[fact][\"unit\"] == 'g':\n",
    "            facts[fact] = nutrition[fact][\"amount\"]\n",
    "        else:\n",
    "            if nutrition[fact][\"unit\"] == 'mg':\n",
    "                facts[fact] = nutrition[fact][\"amount\"] / 1000\n",
    "            else:\n",
    "                print(\"Can't get\")\n",
    "    return facts"
   ]
  },
  {
   "cell_type": "code",
   "execution_count": 43,
   "metadata": {},
   "outputs": [],
   "source": [
    "def getRecipeHealthScore(recipe_id):\n",
    "    facts = getRecipeFacts(recipe_id)\n",
    "    servingWeight = 300\n",
    "    score = 0\n",
    "    \n",
    "    if facts['fat'] < servingWeight/100 * 3:\n",
    "        score += 1\n",
    "    else:\n",
    "        if facts['fat'] < servingWeight/100 * 17.5:\n",
    "            score += 2\n",
    "        else:\n",
    "            score += 3\n",
    "            \n",
    "    if facts['saturatedFat'] < servingWeight/100 * 1.5:\n",
    "        score += 1\n",
    "    else:\n",
    "        if facts['saturatedFat'] < servingWeight/100 * 5:\n",
    "            score += 2\n",
    "        else:\n",
    "            score += 3    \n",
    "            \n",
    "    if facts['sugars'] < servingWeight/100 * 5:\n",
    "        score += 1\n",
    "    else:\n",
    "        if facts['sugars'] < servingWeight/100 * 22.5:\n",
    "            score += 2\n",
    "        else:\n",
    "            score += 3\n",
    "            \n",
    "    if facts['sodium'] < servingWeight/100 * 0.3:\n",
    "        score += 1\n",
    "    else:\n",
    "        if facts['sodium'] < servingWeight/100 * 1.5:\n",
    "            score += 2\n",
    "        else:\n",
    "            score += 3\n",
    "    \n",
    "    return score"
   ]
  },
  {
   "cell_type": "code",
   "execution_count": 44,
   "metadata": {},
   "outputs": [
    {
     "data": {
      "text/plain": [
       "5"
      ]
     },
     "execution_count": 44,
     "metadata": {},
     "output_type": "execute_result"
    }
   ],
   "source": [
    "getRecipeHealthScore(\"15184\")"
   ]
  },
  {
   "cell_type": "code",
   "execution_count": null,
   "metadata": {},
   "outputs": [],
   "source": []
  }
 ],
 "metadata": {
  "kernelspec": {
   "display_name": "Python 3",
   "language": "python",
   "name": "python3"
  },
  "language_info": {
   "codemirror_mode": {
    "name": "ipython",
    "version": 3
   },
   "file_extension": ".py",
   "mimetype": "text/x-python",
   "name": "python",
   "nbconvert_exporter": "python",
   "pygments_lexer": "ipython3",
   "version": "3.5.4"
  }
 },
 "nbformat": 4,
 "nbformat_minor": 2
}
