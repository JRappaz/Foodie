{
 "cells": [
  {
   "cell_type": "code",
   "execution_count": 17,
   "metadata": {},
   "outputs": [],
   "source": [
    "from sklearn.metrics.pairwise import pairwise_distances\n",
    "from sklearn.neighbors import BallTree\n",
    "from sklearn.neighbors import KDTree\n",
    "from sklearn.neighbors import DistanceMetric\n",
    "import pandas as pd\n",
    "import numpy as np\n",
    "from tqdm import tqdm\n",
    "seed = 1"
   ]
  },
  {
   "cell_type": "markdown",
   "metadata": {},
   "source": [
    "## Jaccard index"
   ]
  },
  {
   "cell_type": "code",
   "execution_count": 1,
   "metadata": {},
   "outputs": [
    {
     "name": "stdout",
     "output_type": "stream",
     "text": [
      "0.375\n"
     ]
    }
   ],
   "source": [
    "from math import*\n",
    "  \n",
    "def jaccard_similarity(x,y):\n",
    "    \n",
    "    intersection_cardinality = len(set.intersection(*[set(x), set(y)]))\n",
    "    union_cardinality = len(set.union(*[set(x), set(y)]))\n",
    "    return intersection_cardinality/float(union_cardinality)\n",
    "  \n",
    "print (jaccard_similarity([0,1,2,5,6],[0,2,3,5,7,9]))"
   ]
  },
  {
   "cell_type": "code",
   "execution_count": 8,
   "metadata": {},
   "outputs": [],
   "source": [
    "quantity_map = pd.read_csv('ingredients_quantity_map.csv', ',',  index_col='id')"
   ]
  },
  {
   "cell_type": "code",
   "execution_count": 9,
   "metadata": {},
   "outputs": [],
   "source": [
    "bitmap = pd.read_csv('../data/clean_ingredients_bitmap.csv', ',',  index_col='id')"
   ]
  },
  {
   "cell_type": "code",
   "execution_count": null,
   "metadata": {},
   "outputs": [],
   "source": [
    "pairwise_distances(bitmap[:10,:], metric='jaccard', n_jobs=-1)"
   ]
  },
  {
   "cell_type": "code",
   "execution_count": 131,
   "metadata": {},
   "outputs": [],
   "source": [
    "bitmap_matrix = bitmap.as_matrix()\n",
    "bitmap_matrix = bitmap_matrix.astype(np.float16)"
   ]
  },
  {
   "cell_type": "code",
   "execution_count": 10,
   "metadata": {},
   "outputs": [],
   "source": [
    "recipe_ids = list(quantity_map.index)"
   ]
  },
  {
   "cell_type": "markdown",
   "metadata": {},
   "source": [
    "## Get jaccard recipe pairs"
   ]
  },
  {
   "cell_type": "code",
   "execution_count": 136,
   "metadata": {},
   "outputs": [],
   "source": [
    "ingredients_dict={}\n",
    "for id in recipes_data.index:\n",
    "    for ingredient in recipes_data.at[id, 'ingredients']:\n",
    "        ingredients_dict.update({int(ingredient['id']):ingredient['text']})\n"
   ]
  },
  {
   "cell_type": "code",
   "execution_count": null,
   "metadata": {},
   "outputs": [],
   "source": [
    "from sklearn.neighbors import BallTree\n"
   ]
  },
  {
   "cell_type": "code",
   "execution_count": null,
   "metadata": {},
   "outputs": [],
   "source": [
    "%%time\n",
    "tree = BallTree(bitmap, metric='jaccard')              "
   ]
  },
  {
   "cell_type": "code",
   "execution_count": null,
   "metadata": {},
   "outputs": [],
   "source": [
    "%%time\n",
    "dist, ind = tree.query(bitmap, k=11) \n"
   ]
  },
  {
   "cell_type": "code",
   "execution_count": null,
   "metadata": {},
   "outputs": [],
   "source": [
    "np.save('distances_top_11', dist)\n",
    "np.save('indices_top_11', ind)"
   ]
  },
  {
   "cell_type": "code",
   "execution_count": 14,
   "metadata": {},
   "outputs": [],
   "source": [
    "dist = np.load('distances_top_11.npy')\n",
    "ind = np.load('indices_top_11.npy')"
   ]
  },
  {
   "cell_type": "code",
   "execution_count": 1322,
   "metadata": {},
   "outputs": [],
   "source": [
    "recipes = pd.read_json('../data/recipes_clean.json')"
   ]
  },
  {
   "cell_type": "code",
   "execution_count": 547,
   "metadata": {},
   "outputs": [],
   "source": [
    "ingredients = set([ingredient['id'] for ingredients in recipes['ingredients'] for ingredient in ingredients])"
   ]
  },
  {
   "cell_type": "code",
   "execution_count": null,
   "metadata": {},
   "outputs": [],
   "source": [
    "ingredients_dict={}\n",
    "for id in recipes.index:\n",
    "    for ingredient in recipes.at[id, 'ingredients']:\n",
    "        ingredients_dict.update({int(ingredient['id']):ingredient['text']})\n"
   ]
  },
  {
   "cell_type": "code",
   "execution_count": null,
   "metadata": {},
   "outputs": [],
   "source": [
    "bitmap = pd.read_csv('../data/clean_ingredients_bitmap.csv', ',',  index_col='id')\n",
    "bitmap = bitmap.astype(np.float16)"
   ]
  },
  {
   "cell_type": "code",
   "execution_count": null,
   "metadata": {},
   "outputs": [],
   "source": [
    "quantity_map = pd.read_csv('ingredients_quantity_map.csv', ',',  index_col='id')\n",
    "#quantity_map = quantity_map.astype(np.float16)"
   ]
  },
  {
   "cell_type": "code",
   "execution_count": 1305,
   "metadata": {},
   "outputs": [],
   "source": [
    "quantity_map_normalized = quantity_map.div(quantity_map.sum(axis=1), axis=0)"
   ]
  },
  {
   "cell_type": "code",
   "execution_count": 1282,
   "metadata": {},
   "outputs": [
    {
     "data": {
      "text/plain": [
       "1526     113.333333\n",
       "18752      6.300000\n",
       "18868    340.000000\n",
       "4343     226.400000\n",
       "Name: 100008, dtype: float64"
      ]
     },
     "execution_count": 1282,
     "metadata": {},
     "output_type": "execute_result"
    }
   ],
   "source": [
    "quantity_map_normalized.loc[100008].iloc[quantity_map_normalized.loc[100008].nonzero()]"
   ]
  },
  {
   "cell_type": "code",
   "execution_count": 1268,
   "metadata": {},
   "outputs": [],
   "source": [
    "recipes_pruned = np.load('recipes_pruned.npy')\n",
    "recipes_pruned = [recipe for recipe in recipes_pruned.tolist()]"
   ]
  },
  {
   "cell_type": "code",
   "execution_count": 18,
   "metadata": {},
   "outputs": [],
   "source": [
    "ingredients_pruned = np.load('ingredients_pruned.npy')"
   ]
  },
  {
   "cell_type": "code",
   "execution_count": 1306,
   "metadata": {},
   "outputs": [],
   "source": [
    "remove = [ingredient for ingredient in ingredients if ingredient not in ingredients_pruned]"
   ]
  },
  {
   "cell_type": "code",
   "execution_count": 1358,
   "metadata": {},
   "outputs": [],
   "source": [
    "qmp =  quantity_map.drop(labels=remove, axis='columns')"
   ]
  },
  {
   "cell_type": "code",
   "execution_count": 1307,
   "metadata": {},
   "outputs": [],
   "source": [
    "qmnp = quantity_map.drop(labels=remove, axis='columns')\n",
    "qmnp = qmnp.div(qmnp.sum(axis=1), axis=0)"
   ]
  },
  {
   "cell_type": "code",
   "execution_count": null,
   "metadata": {},
   "outputs": [],
   "source": [
    "dist = np.load('distances_top_11.npy')\n",
    "ind = np.load('indices_top_11.npy')"
   ]
  },
  {
   "cell_type": "code",
   "execution_count": 1323,
   "metadata": {},
   "outputs": [],
   "source": [
    "id2position={}\n",
    "for i, id_ in enumerate(recipes.index):\n",
    "    id2position[id_]=i\n",
    "\n",
    "position2id = {v: k for k, v in id2position.items()}"
   ]
  },
  {
   "cell_type": "code",
   "execution_count": 1313,
   "metadata": {},
   "outputs": [],
   "source": [
    "## with recipe_id\n",
    "def get_ingredients(recipe_id):\n",
    "    return qmnp.loc[recipe_id][qmnp.loc[recipe_id]!=0].index.tolist()\n"
   ]
  },
  {
   "cell_type": "code",
   "execution_count": null,
   "metadata": {},
   "outputs": [],
   "source": [
    "## with recipe_position\n",
    "def get_ingredients(recipe_ord):\n",
    "    return qmnp.loc[qmnp.index[recipe_ord]][qmnp.loc[qmnp.index[recipe_ord]]!=0].index.tolist()\n"
   ]
  },
  {
   "cell_type": "code",
   "execution_count": 1315,
   "metadata": {},
   "outputs": [],
   "source": [
    "def count_recipe_connections(recipe_1, recipe_2):\n",
    "    vector_1 = set(get_ingredients(recipe_1))\n",
    "    vector_2 = set(get_ingredients(recipe_2))\n",
    "    #vector_1 = set(build_ingredients_vector(recipe_1))\n",
    "    #vector_2 = set(build_ingredients_vector(recipe_2))\n",
    "    mutual_ingredients = vector_1.intersection(vector_2)\n",
    "    in_recipe1 = vector_1-mutual_ingredients\n",
    "    in_recipe2 = vector_2-mutual_ingredients\n",
    "    #print('score 1: {} score 2: {}'.format(get_score(recipe_1), get_score(recipe_2)))\n",
    "    return mutual_ingredients, in_recipe1, in_recipe2"
   ]
  },
  {
   "cell_type": "code",
   "execution_count": 1324,
   "metadata": {},
   "outputs": [],
   "source": [
    "from collections import Counter\n",
    "\n",
    "def find_pairs():\n",
    "    ing2variance = {}\n",
    "    for ingredient in ingredients_pruned:\n",
    "        ing2variance.update({ingredient:[]})\n",
    "    count = 0\n",
    "    pair_dict = {}\n",
    "    to_add = Counter()\n",
    "    to_remove = Counter()\n",
    "    no_change = Counter()\n",
    "    base = Counter()\n",
    "    for i, recipe in tqdm(enumerate(qmnp.index)):#bitmap_matrix.shape[0]):\n",
    "        #build_recipe_vector(bitmap_matrix.index[recipe], unit_converter)\n",
    "        for j, similar_recipe in enumerate(ind[i]):\n",
    "            if recipe != position2id[similar_recipe]:\n",
    "                mutual, in_1, in_2 = count_recipe_connections(recipe, position2id[similar_recipe])\n",
    "                \n",
    "                for ing in mutual:\n",
    "                    ing2variance[ing].append(qmnp.loc[recipe][str(ing)])\n",
    "                if len(in_1) == 0 or len(in_2) == 0:\n",
    "                    count+=1\n",
    "                    \n",
    "                    if len(in_1) != 0:\n",
    "                        tmp_ing =  in_1.copy()\n",
    "                        in_1 =  in_2 \n",
    "                        in_2 = tmp_ing\n",
    "                    \n",
    "                    key = sorted([recipe,position2id[similar_recipe]])\n",
    "                    pair_dict['{}:{}'.format(key[0], key[1])]={'base':mutual, 'extra':in_2, 'distance': dist[i,j]}\n",
    "\n",
    "                    \n",
    "                        #added_score[ingredient].append(hs_1-hs_2)\n",
    "                        #track_recipe_addition.\n",
    "\n",
    "                    #show_recipe_connections(recipe, similar_recipe)\n",
    "\n",
    "                    #print('\\n****\\n')\n",
    "            \n",
    "    return pair_dict, ing2variance"
   ]
  },
  {
   "cell_type": "code",
   "execution_count": 1325,
   "metadata": {},
   "outputs": [
    {
     "name": "stderr",
     "output_type": "stream",
     "text": [
      "41797it [13:58, 49.82it/s]\n"
     ]
    }
   ],
   "source": [
    "pairs, ing2variance = find_pairs()"
   ]
  },
  {
   "cell_type": "code",
   "execution_count": 1328,
   "metadata": {},
   "outputs": [],
   "source": [
    "np.save('pairs', pairs)"
   ]
  },
  {
   "cell_type": "code",
   "execution_count": 1362,
   "metadata": {},
   "outputs": [
    {
     "name": "stderr",
     "output_type": "stream",
     "text": [
      "100%|██████████| 24088/24088 [14:28<00:00, 27.72it/s]\n"
     ]
    }
   ],
   "source": [
    "diff = {}\n",
    "for ing in ingredients_pruned:\n",
    "    diff.update({ing:[]})\n",
    "for item in tqdm(pairs):\n",
    "    r1 = int(item[:item.index(':')])\n",
    "    r2 = int(item[item.index(':')+1:])\n",
    "    \n",
    "    for ing in pairs[item]['base']:\n",
    "        diff[ing].append(np.abs(qmp.loc[r1][str(ing)]-qmp.loc[r2][str(ing)]))\n",
    "    for ing in pairs[item]['extra']:\n",
    "        try: \n",
    "            diff[ing].append(qmp.loc[r1][str(ing)])\n",
    "        except:\n",
    "            diff[ing].append(qmp.loc[r2][str(ing)])\n",
    "    \n"
   ]
  },
  {
   "cell_type": "code",
   "execution_count": 1365,
   "metadata": {},
   "outputs": [],
   "source": [
    "max_diff = 0\n",
    "for ing in diff:\n",
    "    if max([dif for dif in diff[ing]])>max_diff:\n",
    "        max_diff = max([dif for dif in diff[ing]])\n",
    "        ing_max = ing"
   ]
  },
  {
   "cell_type": "code",
   "execution_count": 1378,
   "metadata": {},
   "outputs": [],
   "source": [
    "sum_dict = {}\n",
    "for ing in diff:\n",
    "    sum_dict[ing] = sum([dif for dif in diff[ing]])\n"
   ]
  },
  {
   "cell_type": "code",
   "execution_count": 1383,
   "metadata": {},
   "outputs": [],
   "source": [
    "import operator\n",
    "sorted_x = sorted(sum_dict.items(), key=operator.itemgetter(1), reverse=True)"
   ]
  },
  {
   "cell_type": "code",
   "execution_count": 1390,
   "metadata": {},
   "outputs": [
    {
     "name": "stdout",
     "output_type": "stream",
     "text": [
      "2 1/2 cups all-purpose flour\n",
      "1 cup white sugar\n",
      "2 tablespoons water\n",
      "2 tablespoons milk\n",
      "1 cup butter or margarine, melted\n",
      "2 cups confectioners' sugar\n",
      "1 cup packed brown sugar\n",
      "2 potatoes, chopped\n",
      "3 cups bread flour\n",
      "1 1/2 cups semisweet chocolate chips\n",
      "ice cubes\n",
      "3 tablespoons heavy whipping cream\n",
      "1/2 cup shortening\n",
      "1 medium apple, cored and thinly sliced\n",
      "1 cup chopped walnuts (optional)\n",
      "3/4 cup rolled oats\n",
      "3 cups shredded Cheddar cheese\n",
      "2 cups fresh strawberries\n",
      "2 tablespoons lemon juice\n",
      "2 tablespoons olive oil\n"
     ]
    }
   ],
   "source": [
    "for ing,_ in sorted_x[:20]:\n",
    "    print(ingredients_dict[int(ing)])"
   ]
  }
 ],
 "metadata": {
  "kernelspec": {
   "display_name": "Python [conda env:rankovic]",
   "language": "python",
   "name": "conda-env-rankovic-py"
  },
  "language_info": {
   "codemirror_mode": {
    "name": "ipython",
    "version": 3
   },
   "file_extension": ".py",
   "mimetype": "text/x-python",
   "name": "python",
   "nbconvert_exporter": "python",
   "pygments_lexer": "ipython3",
   "version": "3.6.5"
  }
 },
 "nbformat": 4,
 "nbformat_minor": 2
}
