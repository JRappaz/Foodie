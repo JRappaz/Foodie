{
 "cells": [
  {
   "cell_type": "markdown",
   "metadata": {},
   "source": [
    "## Wasserstein"
   ]
  },
  {
   "cell_type": "code",
   "execution_count": 97,
   "metadata": {},
   "outputs": [],
   "source": [
    "import wasserstein as ws"
   ]
  },
  {
   "cell_type": "code",
   "execution_count": 1282,
   "metadata": {},
   "outputs": [
    {
     "data": {
      "text/plain": [
       "1526     113.333333\n",
       "18752      6.300000\n",
       "18868    340.000000\n",
       "4343     226.400000\n",
       "Name: 100008, dtype: float64"
      ]
     },
     "execution_count": 1282,
     "metadata": {},
     "output_type": "execute_result"
    }
   ],
   "source": [
    "quantity_map_normalized.loc[100008].iloc[quantity_map_normalized.loc[100008].nonzero()]"
   ]
  },
  {
   "cell_type": "code",
   "execution_count": 1268,
   "metadata": {},
   "outputs": [],
   "source": [
    "recipes_pruned = np.load('recipes_pruned.npy')\n",
    "recipes_pruned = [recipe for recipe in recipes_pruned.tolist()]"
   ]
  },
  {
   "cell_type": "code",
   "execution_count": 1261,
   "metadata": {},
   "outputs": [],
   "source": [
    "remove = [ingredient for ingredient in ingredients if ingredient not in ingredients_pruned]"
   ]
  },
  {
   "cell_type": "code",
   "execution_count": 1515,
   "metadata": {},
   "outputs": [],
   "source": [
    "qmnp = quantity_map.drop(labels=remove, axis='columns')\n",
    "qmnp = qmnp.div(qmnp.sum(axis=1), axis=0)"
   ]
  },
  {
   "cell_type": "code",
   "execution_count": null,
   "metadata": {},
   "outputs": [],
   "source": [
    "qmnp.to_csv()"
   ]
  },
  {
   "cell_type": "code",
   "execution_count": 1263,
   "metadata": {},
   "outputs": [
    {
     "data": {
      "text/plain": [
       "(41797, 2406)"
      ]
     },
     "execution_count": 1263,
     "metadata": {},
     "output_type": "execute_result"
    }
   ],
   "source": [
    "quantity_map_pruned = quantity_map.drop(labels=remove, axis='columns')\n",
    "quantity_map_pruned.shape"
   ]
  },
  {
   "cell_type": "code",
   "execution_count": 1269,
   "metadata": {},
   "outputs": [],
   "source": [
    "quantity_map_pruned = quantity_map_pruned.loc[recipes_pruned]"
   ]
  },
  {
   "cell_type": "code",
   "execution_count": 226,
   "metadata": {},
   "outputs": [],
   "source": [
    "quantity_map_normalized_pruned = quantity_map_pruned.div(quantity_map.sum(axis=1), axis=0)\n",
    "quantity_map_normalized_pruned = quantity_map_normalized_pruned.loc[recipes_pruned]"
   ]
  },
  {
   "cell_type": "code",
   "execution_count": 1270,
   "metadata": {},
   "outputs": [
    {
     "data": {
      "text/plain": [
       "(41791, 2406)"
      ]
     },
     "execution_count": 1270,
     "metadata": {},
     "output_type": "execute_result"
    }
   ],
   "source": [
    "quantity_map_pruned.shape"
   ]
  },
  {
   "cell_type": "code",
   "execution_count": 1526,
   "metadata": {},
   "outputs": [],
   "source": [
    "from scipy.stats import wasserstein_distance"
   ]
  },
  {
   "cell_type": "code",
   "execution_count": 1528,
   "metadata": {},
   "outputs": [],
   "source": [
    "recipe_id = 131102\n",
    "recipe = 100008"
   ]
  },
  {
   "cell_type": "code",
   "execution_count": 1529,
   "metadata": {},
   "outputs": [],
   "source": [
    "yi1 = quantity_map_normalized_pruned.loc[recipe_id].iloc[quantity_map_normalized_pruned.loc[recipe_id].nonzero()].index\n",
    "yi2 = quantity_map_normalized_pruned.loc[recipe].iloc[quantity_map_normalized_pruned.loc[recipe].nonzero()].index\n",
    "        "
   ]
  },
  {
   "cell_type": "code",
   "execution_count": 1531,
   "metadata": {},
   "outputs": [],
   "source": [
    "y = X[[corpus.index(i1) for i1 in yi1]]\n",
    "z = X[[corpus.index(i1) for i1 in yi2]]"
   ]
  },
  {
   "cell_type": "code",
   "execution_count": 1634,
   "metadata": {},
   "outputs": [],
   "source": [
    "d1 = quantity_map_normalized_pruned.loc[recipe_id].iloc[quantity_map_normalized_pruned.loc[recipe_id].nonzero()]\n",
    "d2 = quantity_map_normalized_pruned.loc[recipe].iloc[quantity_map_normalized_pruned.loc[recipe].nonzero()]"
   ]
  },
  {
   "cell_type": "code",
   "execution_count": null,
   "metadata": {},
   "outputs": [],
   "source": [
    "dict_wass = {}\n",
    "for recipe in tqdm(quantity_map_normalized_pruned.index):\n",
    "    yi1 = quantity_map_normalized_pruned.loc[recipe_id].iloc[quantity_map_normalized_pruned.loc[recipe_id].nonzero()].index\n",
    "    yi2 = quantity_map_normalized_pruned.loc[recipe].iloc[quantity_map_normalized_pruned.loc[recipe].nonzero()].index\n",
    "    y = X[[corpus.index(i1) for i1 in yi1]]\n",
    "    z = X[[corpus.index(i1) for i1 in yi2]]\n",
    "    d1 = quantity_map_normalized_pruned.loc[recipe_id].iloc[quantity_map_normalized_pruned.loc[recipe_id].nonzero()]\n",
    "    d2 = quantity_map_normalized_pruned.loc[recipe].iloc[quantity_map_normalized_pruned.loc[recipe_id].nonzero()]\n",
    "    wass_dist = wasserstein_distance(y, z, d1, d2)\n",
    "    dict_wass.update({recipe:wass_dist})"
   ]
  },
  {
   "cell_type": "code",
   "execution_count": 2632,
   "metadata": {},
   "outputs": [
    {
     "data": {
      "text/plain": [
       "array([ 1526, 16278, 16317, 16401, 16424])"
      ]
     },
     "execution_count": 2632,
     "metadata": {},
     "output_type": "execute_result"
    }
   ],
   "source": [
    "np.array([int(a) for a in list(d1.index)])"
   ]
  },
  {
   "cell_type": "code",
   "execution_count": 1666,
   "metadata": {},
   "outputs": [],
   "source": [
    "histograms = quantity_map_normalized_pruned.apply(lambda x: x.iloc[x.nonzero()].to_dict(), axis=1)#x.iloc[x.nonzero()], axis=1)"
   ]
  },
  {
   "cell_type": "code",
   "execution_count": 1700,
   "metadata": {},
   "outputs": [],
   "source": [
    "quantity_map_normalized_pruned.to_csv('qmnp.csv')"
   ]
  },
  {
   "cell_type": "code",
   "execution_count": 1894,
   "metadata": {},
   "outputs": [],
   "source": [
    "from itertools import product\n",
    "from collections import defaultdict\n",
    "\n",
    "import numpy as np\n",
    "from scipy.spatial.distance import euclidean\n",
    "import pulp\n",
    "\n",
    "\n",
    "singleindexing = lambda m, i, j: m*i+j\n",
    "unpackindexing = lambda m, k: (k/m, k % m)\n",
    "\n",
    "\n",
    "def tokens_to_fracdict(tokens):\n",
    "    cntdict = defaultdict(lambda : 0)\n",
    "    for token in tokens:\n",
    "        cntdict[token] += 1\n",
    "    totalcnt = sum(cntdict.values())\n",
    "    return {token: float(cnt)/totalcnt for token, cnt in cntdict.items()}\n",
    "\n",
    "\n",
    "# use PuLP\n",
    "def word_mover_distance_probspec(recipe_1, recipe_2, wvmodel, histograms, lpFile=None):\n",
    "    #d1 = quantity_map_normalized_pruned.loc[recipe1].iloc[quantity_map_normalized_pruned.loc[recipe1].nonzero()]\n",
    "    #d2 = quantity_map_normalized_pruned.loc[recipe2].iloc[quantity_map_normalized_pruned.loc[recipe2].nonzero()]\n",
    "    \n",
    "    all_tokens = list(set(list(histograms[recipe_1].keys())+list(histograms[recipe_2].keys())))\n",
    "    wordvecs = {token: wvmodel[token] for token in all_tokens}\n",
    "    \n",
    "    first_sent_buckets = histograms[recipe_1]#tokens_to_fracdict(first_sent_tokens)\n",
    "    second_sent_buckets = histograms[recipe_2]#tokens_to_fracdict(second_sent_tokens)\n",
    "\n",
    "    T = pulp.LpVariable.dicts('T_matrix', list(product(all_tokens, all_tokens)), lowBound=0)\n",
    "    prob = pulp.LpProblem('WMD', sense=pulp.LpMinimize)\n",
    "    prob += pulp.lpSum([T[token1, token2]*euclidean(wordvecs[token1], wordvecs[token2])\n",
    "                        for token1, token2 in product(all_tokens,all_tokens)])\n",
    "    for token2 in second_sent_buckets:\n",
    "        prob += pulp.lpSum([T[token1, token2] for token1 in first_sent_buckets])==second_sent_buckets[token2]\n",
    "    for token1 in first_sent_buckets:\n",
    "        prob += pulp.lpSum([T[token1, token2] for token2 in second_sent_buckets])==first_sent_buckets[token1]\n",
    "\n",
    "    if lpFile!=None:\n",
    "        prob.writeLP(lpFile)\n",
    "\n",
    "    prob.solve()\n",
    "    return prob\n",
    "\n",
    "\n",
    "def word_mover_distance(first_sent_tokens, second_sent_tokens, wvmodel, histograms, lpFile=None):\n",
    "    prob = word_mover_distance_probspec(first_sent_tokens, second_sent_tokens, wvmodel, histograms, lpFile=lpFile)\n",
    "    return pulp.value(prob.objective)"
   ]
  },
  {
   "cell_type": "code",
   "execution_count": 1694,
   "metadata": {},
   "outputs": [],
   "source": [
    "recipe_ids = list(quantity_map_normalized_pruned.index)"
   ]
  },
  {
   "cell_type": "code",
   "execution_count": 1695,
   "metadata": {},
   "outputs": [
    {
     "name": "stdout",
     "output_type": "stream",
     "text": [
      "{'1526': 0.16520091346387442, '18752': 0.009183227248433023, '18868': 0.4956027403916234, '4343': 0.3300131188960692} {'1526': 0.2128836340488589, '16157': 0.2128836340488589, '16317': 0.0006261283354378203, '16421': 0.0006574347522097113, '16424': 0.005259478017677691, '1684': 0.567689690796957}\n"
     ]
    },
    {
     "data": {
      "text/plain": [
       "7.0087552102746615"
      ]
     },
     "execution_count": 1695,
     "metadata": {},
     "output_type": "execute_result"
    }
   ],
   "source": [
    "word_mover_distance(100008, 10011, model)"
   ]
  },
  {
   "cell_type": "code",
   "execution_count": 1696,
   "metadata": {},
   "outputs": [],
   "source": [
    "np.save('wass_dict', dict_wass)"
   ]
  },
  {
   "cell_type": "code",
   "execution_count": null,
   "metadata": {},
   "outputs": [],
   "source": [
    "recipe_id = 100008\n",
    "dict_wass={}\n",
    "for recipe in tqdm(recipe_ids):\n",
    "    dict_wass.update({recipe:word_mover_distance(recipe_id, recipe, model)})"
   ]
  },
  {
   "cell_type": "code",
   "execution_count": 2602,
   "metadata": {},
   "outputs": [],
   "source": [
    "dict_wass = np.load('wass_distances.npy').item()"
   ]
  },
  {
   "cell_type": "code",
   "execution_count": 2603,
   "metadata": {},
   "outputs": [],
   "source": [
    "import operator\n",
    "sorted_x = sorted(dict_wass.items(), key=operator.itemgetter(1))"
   ]
  },
  {
   "cell_type": "code",
   "execution_count": 2613,
   "metadata": {},
   "outputs": [
    {
     "data": {
      "text/plain": [
       "0.39994472670360354"
      ]
     },
     "execution_count": 2613,
     "metadata": {},
     "output_type": "execute_result"
    }
   ],
   "source": [
    "word_mover_distance(79735,218999, model, histograms)"
   ]
  },
  {
   "cell_type": "code",
   "execution_count": 2604,
   "metadata": {},
   "outputs": [
    {
     "data": {
      "text/plain": [
       "[(100008, 0.0),\n",
       " (192623, 1.8203961853853965),\n",
       " (14050, 1.8586213241406908),\n",
       " (79735, 2.402067929167796),\n",
       " (218999, 2.45137191770702),\n",
       " (222931, 2.6085593810067516),\n",
       " (256240, 2.6128663702327115),\n",
       " (238477, 2.6189217097432516),\n",
       " (215117, 2.646089191237682),\n",
       " (258377, 2.67058558927953)]"
      ]
     },
     "execution_count": 2604,
     "metadata": {},
     "output_type": "execute_result"
    }
   ],
   "source": [
    "sorted_x[:10]"
   ]
  },
  {
   "cell_type": "code",
   "execution_count": 2617,
   "metadata": {},
   "outputs": [
    {
     "name": "stdout",
     "output_type": "stream",
     "text": [
      "[{'id': '18868', 'text': '1/2 cup rice vinegar'},\n",
      " {'id': '1526', 'text': '1/2 cup white sugar'},\n",
      " {'id': '4342', 'text': '1 clove garlic, minced'},\n",
      " {'id': '16421', 'text': '1/4 teaspoon salt'},\n",
      " {'id': '20244', 'text': '1 1/2 teaspoons dried red pepper flakes'}]\n",
      "[{'id': '18868', 'text': '1/2 cup rice wine vinegar'},\n",
      " {'id': '1526', 'text': '1/2 cup white sugar'},\n",
      " {'id': '16421', 'text': '2 teaspoons salt'},\n",
      " {'id': '26958',\n",
      "  'text': '1 tablespoon chili garlic sauce (such as Lee Kum Kee®)'}]\n"
     ]
    }
   ],
   "source": [
    "for recipe in lista:\n",
    "    pprint(recipes.loc[recipe]['ingredients'])"
   ]
  },
  {
   "cell_type": "code",
   "execution_count": 249,
   "metadata": {},
   "outputs": [
    {
     "data": {
      "text/plain": [
       "1526     0.887951\n",
       "16278    0.000010\n",
       "16317    0.062679\n",
       "16401    0.005484\n",
       "16424    0.043875\n",
       "Name: 131102, dtype: float64"
      ]
     },
     "execution_count": 249,
     "metadata": {},
     "output_type": "execute_result"
    }
   ],
   "source": [
    "quantity_map_normalized_pruned.loc[131102].iloc[quantity_map_normalized_pruned.loc[131102].nonzero()]"
   ]
  },
  {
   "cell_type": "code",
   "execution_count": 237,
   "metadata": {},
   "outputs": [
    {
     "data": {
      "text/plain": [
       "[{'id': '16317', 'text': '12 eggs'},\n",
       " {'id': '1526', 'text': '1/2 cup white sugar'},\n",
       " {'id': '16278', 'text': '2 quarts milk'},\n",
       " {'id': '16424', 'text': '2 teaspoons vanilla extract'},\n",
       " {'id': '16401', 'text': '1/4 teaspoon ground nutmeg'}]"
      ]
     },
     "execution_count": 237,
     "metadata": {},
     "output_type": "execute_result"
    }
   ],
   "source": [
    "recipes.loc[131102]['ingredients']"
   ]
  },
  {
   "cell_type": "code",
   "execution_count": 238,
   "metadata": {},
   "outputs": [
    {
     "data": {
      "text/plain": [
       "[{'id': '1526', 'text': '1 cup white sugar'},\n",
       " {'id': '34567', 'text': '1 cup prickly pear juice'}]"
      ]
     },
     "execution_count": 238,
     "metadata": {},
     "output_type": "execute_result"
    }
   ],
   "source": [
    "recipes.loc[259907]['ingredients']"
   ]
  },
  {
   "cell_type": "code",
   "execution_count": 239,
   "metadata": {},
   "outputs": [
    {
     "data": {
      "text/plain": [
       "[{'id': '21757', 'text': '1 quart lime sherbet'},\n",
       " {'id': '8855',\n",
       "  'text': '1 (2 liter) bottle diet lemon-lime carbonated beverage'}]"
      ]
     },
     "execution_count": 239,
     "metadata": {},
     "output_type": "execute_result"
    }
   ],
   "source": [
    "recipes.loc[234946]['ingredients']"
   ]
  },
  {
   "cell_type": "code",
   "execution_count": 244,
   "metadata": {},
   "outputs": [
    {
     "data": {
      "text/plain": [
       "[{'text': '1 quart cold milk', 'id': '16278'},\n",
       " {'text': '2 pkg. (4 serving size) JELL-O Vanilla Flavor Instant Pudding & Pie Filling',\n",
       "  'id': '21356'},\n",
       " {'text': '32 NILLA Wafers, finely crushed, divided', 'id': '15993'},\n",
       " {'text': '8 paper or plastic cups (6 to 7 oz.)', 'id': '24575'},\n",
       " {'text': '8 worm-shaped chewy fruit snacks', 'id': '20672'}]"
      ]
     },
     "execution_count": 244,
     "metadata": {},
     "output_type": "execute_result"
    }
   ],
   "source": [
    "recipes.loc[153344]['ingredients']"
   ]
  },
  {
   "cell_type": "code",
   "execution_count": null,
   "metadata": {},
   "outputs": [],
   "source": [
    "sorted_x"
   ]
  },
  {
   "cell_type": "code",
   "execution_count": 344,
   "metadata": {},
   "outputs": [
    {
     "data": {
      "text/plain": [
       "[{'text': '2 tablespoons vegetable oil', 'id': '6305'},\n",
       " {'text': '1 teaspoon minced garlic', 'id': '4342'},\n",
       " {'text': '1 large onion, chopped', 'id': '4397'},\n",
       " {'text': '1 (12 ounce) pork tenderloin, cut into 1/2 inch cubes',\n",
       "  'id': '4175'},\n",
       " {'text': '1 (19 ounce) can black beans, drained and rinsed', 'id': '2779'},\n",
       " {'text': '1/4 cup water', 'id': '2496'},\n",
       " {'text': '1 1/2 cups chicken stock', 'id': '13968'},\n",
       " {'text': '3 chorizo sausages, cut into 1/2 inch thick pieces', 'id': '5821'},\n",
       " {'text': '2 bay leaves', 'id': '16380'},\n",
       " {'text': 'salt and pepper to taste', 'id': '16421'}]"
      ]
     },
     "execution_count": 344,
     "metadata": {},
     "output_type": "execute_result"
    }
   ],
   "source": [
    "recipes.loc[recipes.index[2]]['ingredients']"
   ]
  }
 ],
 "metadata": {
  "kernelspec": {
   "display_name": "Python [conda env:rankovic]",
   "language": "python",
   "name": "conda-env-rankovic-py"
  },
  "language_info": {
   "codemirror_mode": {
    "name": "ipython",
    "version": 3
   },
   "file_extension": ".py",
   "mimetype": "text/x-python",
   "name": "python",
   "nbconvert_exporter": "python",
   "pygments_lexer": "ipython3",
   "version": "3.6.5"
  }
 },
 "nbformat": 4,
 "nbformat_minor": 2
}
