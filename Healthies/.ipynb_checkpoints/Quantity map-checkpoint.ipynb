{
 "cells": [
  {
   "cell_type": "raw",
   "metadata": {},
   "source": [
    "import sys\n",
    "!conda install --yes --prefix {sys.prefix} pandas\n"
   ]
  },
  {
   "cell_type": "code",
   "execution_count": null,
   "metadata": {},
   "outputs": [],
   "source": [
    "import sys\n",
    "!conda install --yes --prefix {sys.prefix} pandas\n"
   ]
  },
  {
   "cell_type": "code",
   "execution_count": 13,
   "metadata": {},
   "outputs": [],
   "source": [
    "import sys\n",
    "sys.path.append('..')\n",
    "import re\n",
    "import nltk\n",
    "import json\n",
    "import warnings\n",
    "from tqdm import tqdm\n",
    "import numpy as np\n",
    "warnings.filterwarnings('ignore')\n",
    "\n",
    "from nltk.corpus import stopwords\n",
    "\n",
    "from utilities.helpers import *"
   ]
  },
  {
   "cell_type": "code",
   "execution_count": 20,
   "metadata": {},
   "outputs": [],
   "source": [
    "import os\n",
    "os.environ['STANFORD_MODELS']='/Users/bojanarankovic/Documents/semestral/stanford-postagger-full-2018-02-27/models'"
   ]
  },
  {
   "cell_type": "code",
   "execution_count": 21,
   "metadata": {},
   "outputs": [],
   "source": [
    "user_data, recipes_users = load_data()"
   ]
  },
  {
   "cell_type": "code",
   "execution_count": 22,
   "metadata": {},
   "outputs": [],
   "source": [
    "recipe_id = 6675"
   ]
  },
  {
   "cell_type": "code",
   "execution_count": 23,
   "metadata": {},
   "outputs": [],
   "source": [
    "recipe_data = load_recipe(recipe_id)"
   ]
  },
  {
   "cell_type": "code",
   "execution_count": 24,
   "metadata": {},
   "outputs": [
    {
     "data": {
      "text/plain": [
       "{'nutri_facts': {'sodiumContent': '772 mg',\n",
       "  'carbohydrateContent': '40.8g',\n",
       "  'fatContent': '15.9 g',\n",
       "  'proteinContent': '6.4 g',\n",
       "  'calories': '328 kcal',\n",
       "  'cholesterolContent': '39 mg'},\n",
       " 'description': '\\r\\n\"A soft, moist cornbread center with a crunchy crust.\"        ',\n",
       " 'cook_time': '30 m',\n",
       " 'stars_rate': ['41', '16', '17', '8', '16'],\n",
       " 'instructions': ['Heat oven to 425 degrees F (220 degrees C). Grease a 9 inch iron skillet.',\n",
       "  'In a large bowl, beat the egg. Add milk, oil, sour cream, cream corn, and cornmeal mix; stir until cornmeal is just dampened. Pour batter into greased skillet.',\n",
       "  'Bake for 25 to 30 minutes, or until knife inserted in center comes out clean.'],\n",
       " 'featured_in_magazine': False,\n",
       " 'photos_count': '4',\n",
       " 'reviews_count': '69',\n",
       " 'ready_time': '35 m',\n",
       " 'ingredients': [{'text': '1 egg', 'id': '16317'},\n",
       "  {'text': '1 1/3 cups milk', 'id': '16278'},\n",
       "  {'text': '1/4 cup vegetable oil', 'id': '6379'},\n",
       "  {'text': '2 cups self-rising corn meal mix', 'id': '166'},\n",
       "  {'text': '1 (8 ounce) can cream-style corn', 'id': '4315'},\n",
       "  {'text': '1 cup sour cream', 'id': '16261'}],\n",
       " 'prep_time': '5 m',\n",
       " 'made_it_count': '19'}"
      ]
     },
     "execution_count": 24,
     "metadata": {},
     "output_type": "execute_result"
    }
   ],
   "source": [
    "recipe_data"
   ]
  },
  {
   "cell_type": "code",
   "execution_count": 25,
   "metadata": {},
   "outputs": [],
   "source": [
    "def recipe_to_pd(recipe_id):\n",
    "    import re\n",
    "    recipe_data = load_recipe(recipe_id)\n",
    "    values = []\n",
    "    units = []\n",
    "    for nutrient in recipe_data['nutri_facts'].keys():\n",
    "        value_unit = recipe_data['nutri_facts'][nutrient]\n",
    "        value = re.findall(r\"[+-]? *(?:\\d+(?:\\.\\d*)?|\\.\\d+)(?:[eE][+-]?\\d+)?\", value_unit)\n",
    "        values.append(value[0])\n",
    "        units.append(value_unit.replace(value[0],'').replace(' ',''))\n",
    "    return pd.DataFrame(data={'Nutrient': list(recipe_data['nutri_facts'].keys()), 'Unit': units, 'Value': values})"
   ]
  },
  {
   "cell_type": "code",
   "execution_count": 26,
   "metadata": {},
   "outputs": [
    {
     "data": {
      "text/html": [
       "<div>\n",
       "<style scoped>\n",
       "    .dataframe tbody tr th:only-of-type {\n",
       "        vertical-align: middle;\n",
       "    }\n",
       "\n",
       "    .dataframe tbody tr th {\n",
       "        vertical-align: top;\n",
       "    }\n",
       "\n",
       "    .dataframe thead th {\n",
       "        text-align: right;\n",
       "    }\n",
       "</style>\n",
       "<table border=\"1\" class=\"dataframe\">\n",
       "  <thead>\n",
       "    <tr style=\"text-align: right;\">\n",
       "      <th></th>\n",
       "      <th>Nutrient</th>\n",
       "      <th>Unit</th>\n",
       "      <th>Value</th>\n",
       "    </tr>\n",
       "  </thead>\n",
       "  <tbody>\n",
       "    <tr>\n",
       "      <th>0</th>\n",
       "      <td>sodiumContent</td>\n",
       "      <td>mg</td>\n",
       "      <td>772</td>\n",
       "    </tr>\n",
       "    <tr>\n",
       "      <th>1</th>\n",
       "      <td>carbohydrateContent</td>\n",
       "      <td>g</td>\n",
       "      <td>40.8</td>\n",
       "    </tr>\n",
       "    <tr>\n",
       "      <th>2</th>\n",
       "      <td>fatContent</td>\n",
       "      <td>g</td>\n",
       "      <td>15.9</td>\n",
       "    </tr>\n",
       "    <tr>\n",
       "      <th>3</th>\n",
       "      <td>proteinContent</td>\n",
       "      <td>g</td>\n",
       "      <td>6.4</td>\n",
       "    </tr>\n",
       "    <tr>\n",
       "      <th>4</th>\n",
       "      <td>calories</td>\n",
       "      <td>kcal</td>\n",
       "      <td>328</td>\n",
       "    </tr>\n",
       "    <tr>\n",
       "      <th>5</th>\n",
       "      <td>cholesterolContent</td>\n",
       "      <td>mg</td>\n",
       "      <td>39</td>\n",
       "    </tr>\n",
       "  </tbody>\n",
       "</table>\n",
       "</div>"
      ],
      "text/plain": [
       "              Nutrient  Unit Value\n",
       "0        sodiumContent    mg   772\n",
       "1  carbohydrateContent     g  40.8\n",
       "2           fatContent     g  15.9\n",
       "3       proteinContent     g   6.4\n",
       "4             calories  kcal   328\n",
       "5   cholesterolContent    mg    39"
      ]
     },
     "execution_count": 26,
     "metadata": {},
     "output_type": "execute_result"
    }
   ],
   "source": [
    "recipe_to_pd(6675)"
   ]
  },
  {
   "cell_type": "code",
   "execution_count": 27,
   "metadata": {},
   "outputs": [
    {
     "name": "stdout",
     "output_type": "stream",
     "text": [
      "{'cook_time': '30 m',\n",
      " 'description': '\\r\\n'\n",
      "                '\"A soft, moist cornbread center with a crunchy '\n",
      "                'crust.\"        ',\n",
      " 'featured_in_magazine': False,\n",
      " 'ingredients': [{'id': '16317', 'text': '1 egg'},\n",
      "                 {'id': '16278', 'text': '1 1/3 cups milk'},\n",
      "                 {'id': '6379', 'text': '1/4 cup vegetable oil'},\n",
      "                 {'id': '166', 'text': '2 cups self-rising corn meal mix'},\n",
      "                 {'id': '4315', 'text': '1 (8 ounce) can cream-style corn'},\n",
      "                 {'id': '16261', 'text': '1 cup sour cream'}],\n",
      " 'instructions': ['Heat oven to 425 degrees F (220 degrees C). Grease a 9 inch '\n",
      "                  'iron skillet.',\n",
      "                  'In a large bowl, beat the egg. Add milk, oil, sour cream, '\n",
      "                  'cream corn, and cornmeal mix; stir until cornmeal is just '\n",
      "                  'dampened. Pour batter into greased skillet.',\n",
      "                  'Bake for 25 to 30 minutes, or until knife inserted in '\n",
      "                  'center comes out clean.'],\n",
      " 'made_it_count': '19',\n",
      " 'nutri_facts': {'calories': '328 kcal',\n",
      "                 'carbohydrateContent': '40.8g',\n",
      "                 'cholesterolContent': '39 mg',\n",
      "                 'fatContent': '15.9 g',\n",
      "                 'proteinContent': '6.4 g',\n",
      "                 'sodiumContent': '772 mg'},\n",
      " 'photos_count': '4',\n",
      " 'prep_time': '5 m',\n",
      " 'ready_time': '35 m',\n",
      " 'reviews_count': '69',\n",
      " 'stars_rate': ['41', '16', '17', '8', '16']}\n"
     ]
    }
   ],
   "source": [
    "pprint(recipe_data)"
   ]
  },
  {
   "cell_type": "code",
   "execution_count": 28,
   "metadata": {},
   "outputs": [],
   "source": [
    "nutrients = ['fatContent',  'cholesterolContent', 'sodiumContent',  'carbohydrateContent', 'proteinContent']\n",
    "units = ['g',  'mg', 'mg', 'g', 'g']\n",
    "values = [65, 300, 2400, 300, 50]"
   ]
  },
  {
   "cell_type": "code",
   "execution_count": 29,
   "metadata": {},
   "outputs": [
    {
     "name": "stdout",
     "output_type": "stream",
     "text": [
      "There are 5 nutrients defining the daily reference.\n"
     ]
    },
    {
     "data": {
      "text/html": [
       "<div>\n",
       "<style scoped>\n",
       "    .dataframe tbody tr th:only-of-type {\n",
       "        vertical-align: middle;\n",
       "    }\n",
       "\n",
       "    .dataframe tbody tr th {\n",
       "        vertical-align: top;\n",
       "    }\n",
       "\n",
       "    .dataframe thead th {\n",
       "        text-align: right;\n",
       "    }\n",
       "</style>\n",
       "<table border=\"1\" class=\"dataframe\">\n",
       "  <thead>\n",
       "    <tr style=\"text-align: right;\">\n",
       "      <th></th>\n",
       "      <th>Nutrient</th>\n",
       "      <th>Unit</th>\n",
       "      <th>Value</th>\n",
       "    </tr>\n",
       "  </thead>\n",
       "  <tbody>\n",
       "    <tr>\n",
       "      <th>0</th>\n",
       "      <td>fatContent</td>\n",
       "      <td>g</td>\n",
       "      <td>65</td>\n",
       "    </tr>\n",
       "    <tr>\n",
       "      <th>1</th>\n",
       "      <td>cholesterolContent</td>\n",
       "      <td>mg</td>\n",
       "      <td>300</td>\n",
       "    </tr>\n",
       "    <tr>\n",
       "      <th>2</th>\n",
       "      <td>sodiumContent</td>\n",
       "      <td>mg</td>\n",
       "      <td>2400</td>\n",
       "    </tr>\n",
       "    <tr>\n",
       "      <th>3</th>\n",
       "      <td>carbohydrateContent</td>\n",
       "      <td>g</td>\n",
       "      <td>300</td>\n",
       "    </tr>\n",
       "    <tr>\n",
       "      <th>4</th>\n",
       "      <td>proteinContent</td>\n",
       "      <td>g</td>\n",
       "      <td>50</td>\n",
       "    </tr>\n",
       "  </tbody>\n",
       "</table>\n",
       "</div>"
      ],
      "text/plain": [
       "              Nutrient Unit  Value\n",
       "0           fatContent    g     65\n",
       "1   cholesterolContent   mg    300\n",
       "2        sodiumContent   mg   2400\n",
       "3  carbohydrateContent    g    300\n",
       "4       proteinContent    g     50"
      ]
     },
     "execution_count": 29,
     "metadata": {},
     "output_type": "execute_result"
    }
   ],
   "source": [
    "dvr = pd.DataFrame(data={'Nutrient': nutrients, 'Unit': units, 'Value': values})\n",
    "print('There are {} nutrients defining the daily reference.'.format(len(dvr)))\n",
    "dvr.head()"
   ]
  },
  {
   "cell_type": "markdown",
   "metadata": {},
   "source": [
    "## Ingredients parser"
   ]
  },
  {
   "cell_type": "code",
   "execution_count": 12,
   "metadata": {},
   "outputs": [],
   "source": [
    "sents = recipe_data['instructions']"
   ]
  },
  {
   "cell_type": "code",
   "execution_count": 22,
   "metadata": {
    "scrolled": true
   },
   "outputs": [
    {
     "data": {
      "text/plain": [
       "['Heat oven to 425 degrees F (220 degrees C). Grease a 9 inch iron skillet.',\n",
       " 'In a large bowl, beat the egg. Add milk, oil, sour cream, cream corn, and cornmeal mix; stir until cornmeal is just dampened. Pour batter into greased skillet.',\n",
       " 'Bake for 25 to 30 minutes, or until knife inserted in center comes out clean.']"
      ]
     },
     "execution_count": 22,
     "metadata": {},
     "output_type": "execute_result"
    }
   ],
   "source": [
    "sents"
   ]
  },
  {
   "cell_type": "code",
   "execution_count": 23,
   "metadata": {},
   "outputs": [],
   "source": [
    "raw_recipe = ' '.join(sents)"
   ]
  },
  {
   "cell_type": "code",
   "execution_count": 15,
   "metadata": {},
   "outputs": [
    {
     "data": {
      "text/plain": [
       "['Heat oven to 425 degrees F (220 degrees C).',\n",
       " 'Grease a 9 inch iron skillet.',\n",
       " 'In a large bowl, beat the egg.',\n",
       " 'Add milk, oil, sour cream, cream corn, and cornmeal mix; stir until cornmeal is just dampened.',\n",
       " 'Pour batter into greased skillet.',\n",
       " 'Bake for 25 to 30 minutes, or until knife inserted in center comes out clean.']"
      ]
     },
     "execution_count": 15,
     "metadata": {},
     "output_type": "execute_result"
    }
   ],
   "source": [
    "sentences = nltk.sent_tokenize(raw_recipe)\n",
    "sentences_with_you = ['Please, ' + sentence.lower() for sentence in sentences]\n",
    "sentences"
   ]
  },
  {
   "cell_type": "code",
   "execution_count": 21,
   "metadata": {},
   "outputs": [
    {
     "data": {
      "text/plain": [
       "['Heat',\n",
       " 'oven',\n",
       " 'to',\n",
       " '425',\n",
       " 'degrees',\n",
       " 'F',\n",
       " '(',\n",
       " '220',\n",
       " 'degrees',\n",
       " 'C',\n",
       " ')',\n",
       " '.']"
      ]
     },
     "execution_count": 21,
     "metadata": {},
     "output_type": "execute_result"
    }
   ],
   "source": [
    "sentences[0]"
   ]
  },
  {
   "cell_type": "code",
   "execution_count": 25,
   "metadata": {
    "scrolled": false
   },
   "outputs": [
    {
     "name": "stdout",
     "output_type": "stream",
     "text": [
      "['Heat', 'oven', '425', 'degrees', 'F', '(', '220', 'degrees', 'C', ')', '.', 'Grease', '9', 'inch', 'iron', 'skillet', '.']\n",
      "['large', 'bowl', ',', 'beat', 'egg', '.', 'Add', 'milk', ',', 'oil', ',', 'sour', 'cream', ',', 'cream', 'corn', ',', 'cornmeal', 'mix', ';', 'stir', 'cornmeal', 'dampened', '.', 'Pour', 'batter', 'greased', 'skillet', '.']\n",
      "['Bake', '25', '30', 'minutes', ',', 'knife', 'inserted', 'center', 'comes', 'clean', '.']\n"
     ]
    }
   ],
   "source": [
    "sentences = [nltk.word_tokenize(sent) for sent in sents]\n",
    "for sentence in sentences:\n",
    "    sentence = [w for w in sentence if w.lower() not in stopwords.words('english')]\n",
    "    print(sentence)\n"
   ]
  },
  {
   "cell_type": "code",
   "execution_count": null,
   "metadata": {
    "slideshow": {
     "slide_type": "-"
    }
   },
   "outputs": [],
   "source": [
    "tagger = nltk.tag.stanford.StanfordPOSTagger('english-left3words-distsim.tagger', path_to_jar='/Users/bojanarankovic/Documents/semestral/stanford-postagger-full-2018-02-27/stanford-postagger.jar')\n"
   ]
  },
  {
   "cell_type": "code",
   "execution_count": null,
   "metadata": {},
   "outputs": [],
   "source": [
    "tagger.tag(['heat', 'oven', 'mix','it', 'combine', 'it', 'try', 'this', 'now'])"
   ]
  },
  {
   "cell_type": "code",
   "execution_count": 27,
   "metadata": {},
   "outputs": [],
   "source": [
    "def ie_preprocess(document):\n",
    "    sentences = nltk.sent_tokenize(document)\n",
    "    sentences = [nltk.wordpunct_tokenize(sent) for sent in sentences]\n",
    "    #sentences = [sentence for sentence in sentences for w in sentence if w.lower() not in stopwords.words('english')]\n",
    "    #sentences = [tagger.tag(sent) for sent in sentences]\n",
    "    return sentences"
   ]
  },
  {
   "cell_type": "code",
   "execution_count": 28,
   "metadata": {},
   "outputs": [],
   "source": [
    "sent_preprocessed = ie_preprocess(raw_recipe)"
   ]
  },
  {
   "cell_type": "code",
   "execution_count": 31,
   "metadata": {},
   "outputs": [],
   "source": [
    "import json, requests\n",
    "class StanfordCoreNLP:\n",
    "    \"\"\"\n",
    "    Modified from https://github.com/smilli/py-corenlp\n",
    "    \"\"\"\n",
    " \n",
    "    def __init__(self, server_url):\n",
    "        # TODO: Error handling? More checking on the url?\n",
    "        if server_url[-1] == '/':\n",
    "            server_url = server_url[:-1]\n",
    "        self.server_url = server_url\n",
    " \n",
    "    def annotate(self, text, properties=None):\n",
    "        assert isinstance(text, str)\n",
    "        if properties is None:\n",
    "            properties = {}\n",
    "        else:\n",
    "            assert isinstance(properties, dict)\n",
    " \n",
    "        # Checks that the Stanford CoreNLP server is started.\n",
    "        try:\n",
    "            requests.get(self.server_url)\n",
    "        except requests.exceptions.ConnectionError:\n",
    "            raise Exception('Check whether you have started the CoreNLP server e.g.\\n'\n",
    "                            '$ cd <path_to_core_nlp_folder>/stanford-corenlp-full-2016-10-31/ \\n'\n",
    "                            '$ java -mx4g -cp \"*\" edu.stanford.nlp.pipeline.StanfordCoreNLPServer -port <port> -timeout <timeout_in_ms>')\n",
    " \n",
    "        data = text.encode()\n",
    "        r = requests.post(\n",
    "            self.server_url, params={\n",
    "                'properties': str(properties)\n",
    "            }, data=data, headers={'Connection': 'close'})\n",
    "        output = r.text\n",
    "        if ('outputFormat' in properties\n",
    "            and properties['outputFormat'] == 'json'):\n",
    "            try:\n",
    "                output = json.loads(output, encoding='utf-8', strict=True)\n",
    "            except:\n",
    "                pass\n",
    "        return output"
   ]
  },
  {
   "cell_type": "code",
   "execution_count": 32,
   "metadata": {},
   "outputs": [],
   "source": [
    "def pos_tagger_on_sentence(sentence):\n",
    "    # The StanfordCoreNLP server is running on http://127.0.0.1:9000\n",
    "    nlp = StanfordCoreNLP('http://localhost:9000')\n",
    "    # Json response of all the annotations\n",
    "    output = nlp.annotate(sentence, properties={\n",
    "        \"annotators\": \"tokenize,ssplit,pos\",\n",
    "        \"outputFormat\": \"json\",\n",
    "        # Only split the sentence at End Of Line. We assume that this method only takes in one single sentence.\n",
    "        \"ssplit.eolonly\": \"true\",\n",
    "        # Setting enforceRequirements to skip some annotators and make the process faster\n",
    "        \"enforceRequirements\": \"false\"\n",
    "    })\n",
    "    return output"
   ]
  },
  {
   "cell_type": "code",
   "execution_count": null,
   "metadata": {},
   "outputs": [],
   "source": [
    "result = pos_tagger_on_sentence('self-rising corn meal mix')"
   ]
  },
  {
   "cell_type": "code",
   "execution_count": 27,
   "metadata": {},
   "outputs": [],
   "source": [
    "def core_tagger(sentence):\n",
    "    result = pos_tagger_on_sentence(sentence)\n",
    "    taggs = []\n",
    "    for item in result['sentences'][0]['tokens']:\n",
    "        taggs.append((item['word'], item['pos']))\n",
    "    return taggs"
   ]
  },
  {
   "cell_type": "code",
   "execution_count": 28,
   "metadata": {},
   "outputs": [
    {
     "data": {
      "text/plain": [
       "[('Just', 'RB'), ('try', 'VB'), ('to', 'TO'), ('heat', 'NN')]"
      ]
     },
     "execution_count": 28,
     "metadata": {},
     "output_type": "execute_result"
    }
   ],
   "source": [
    "core_tagger('Just try to '+sentences[0][0].lower())"
   ]
  },
  {
   "cell_type": "code",
   "execution_count": 18,
   "metadata": {},
   "outputs": [
    {
     "data": {
      "text/plain": [
       "[{'text': '1 egg', 'id': '16317'},\n",
       " {'text': '1 1/3 cups milk', 'id': '16278'},\n",
       " {'text': '1/4 cup vegetable oil', 'id': '6379'},\n",
       " {'text': '2 cups self-rising corn meal mix', 'id': '166'},\n",
       " {'text': '1 (8 ounce) can cream-style corn', 'id': '4315'},\n",
       " {'text': '1 cup sour cream', 'id': '16261'}]"
      ]
     },
     "execution_count": 18,
     "metadata": {},
     "output_type": "execute_result"
    }
   ],
   "source": [
    "recipe_data['ingredients']"
   ]
  },
  {
   "cell_type": "code",
   "execution_count": 15,
   "metadata": {
    "scrolled": true
   },
   "outputs": [],
   "source": [
    "raw_ingredients = [ingredient['text'] for ingredient in recipe_data['ingredients']]"
   ]
  },
  {
   "cell_type": "code",
   "execution_count": 16,
   "metadata": {},
   "outputs": [
    {
     "data": {
      "text/plain": [
       "['1 egg',\n",
       " '1 1/3 cups milk',\n",
       " '1/4 cup vegetable oil',\n",
       " '2 cups self-rising corn meal mix',\n",
       " '1 (8 ounce) can cream-style corn',\n",
       " '1 cup sour cream']"
      ]
     },
     "execution_count": 16,
     "metadata": {},
     "output_type": "execute_result"
    }
   ],
   "source": [
    "raw_ingredients"
   ]
  },
  {
   "cell_type": "code",
   "execution_count": 40,
   "metadata": {},
   "outputs": [
    {
     "name": "stdout",
     "output_type": "stream",
     "text": [
      "1 egg\n",
      "\n",
      "1 1/3 cups milk\n",
      "\n",
      "1/4 cup vegetable oil\n",
      "\n",
      "2 cups self-rising corn meal mix\n",
      "\n",
      "1 (8 ounce) can cream-style corn\n",
      "\n",
      "1 cup sour cream\n",
      "\n"
     ]
    }
   ],
   "source": [
    "with open('ingredient-phrase-tagger/input.txt', 'w') as input_file:\n",
    "    for item in raw_ingredients:\n",
    "        input_file.write(\"%s\\n\" % item)\n",
    "        print(\"%s\\n\" % item)\n",
    "    input_file.close()\n"
   ]
  },
  {
   "cell_type": "code",
   "execution_count": 204,
   "metadata": {},
   "outputs": [
    {
     "name": "stdout",
     "output_type": "stream",
     "text": [
      "/home/rankovic/anaconda3/envs/rankovic/lib/python3.6/re.py:212: FutureWarning: split() requires a non-empty pattern match.\n",
      "  return _compile(pattern, flags).split(string, maxsplit)\n"
     ]
    }
   ],
   "source": [
    "! python ingredient-phrase-tagger/bin/parse-ingredients.py ingredient-phrase-tagger/input.txt > ingredient-phrase-tagger/results.txt\n"
   ]
  },
  {
   "cell_type": "code",
   "execution_count": 205,
   "metadata": {},
   "outputs": [],
   "source": [
    "! python ingredient-phrase-tagger/bin/convert-to-json.py ingredient-phrase-tagger/results.txt > results.json\n"
   ]
  },
  {
   "cell_type": "code",
   "execution_count": 206,
   "metadata": {},
   "outputs": [],
   "source": [
    "result_dict = json.load(open('results.json'))"
   ]
  },
  {
   "cell_type": "code",
   "execution_count": 210,
   "metadata": {},
   "outputs": [
    {
     "name": "stdout",
     "output_type": "stream",
     "text": [
      "'ounce'\n"
     ]
    }
   ],
   "source": [
    "pprint(result_dict[0]['unit'])"
   ]
  },
  {
   "cell_type": "code",
   "execution_count": 37,
   "metadata": {},
   "outputs": [
    {
     "data": {
      "text/plain": [
       "[('cream-style', 'JJ'), ('corn', 'NN')]"
      ]
     },
     "execution_count": 37,
     "metadata": {},
     "output_type": "execute_result"
    }
   ],
   "source": [
    "sentence = 'cream-style corn'\n",
    "core_tagger(sentence)"
   ]
  },
  {
   "cell_type": "code",
   "execution_count": 38,
   "metadata": {},
   "outputs": [
    {
     "data": {
      "image/png": "[encoded data removed]",
      "text/plain": [
       "Tree('S', [('Pour', 'VB'), Tree('NP', [('batter', 'NN')]), ('into', 'IN'), Tree('NP', [('greased', 'JJ'), ('skillet', 'NN')])])"
      ]
     },
     "execution_count": 38,
     "metadata": {},
     "output_type": "execute_result"
    }
   ],
   "source": [
    "grammar = \"NP: {<DT>?<JJ>*<NN>*}\"\n",
    "cp = nltk.RegexpParser(grammar)\n",
    "result = cp.parse(core_tagger('Pour batter into greased skillet'))\n",
    "result\n"
   ]
  },
  {
   "cell_type": "code",
   "execution_count": null,
   "metadata": {},
   "outputs": [],
   "source": [
    "result_dict"
   ]
  },
  {
   "cell_type": "code",
   "execution_count": null,
   "metadata": {},
   "outputs": [],
   "source": [
    "grammar = \"NP: {<DT>?<JJ>*<NN>}\"\n",
    "cp = nltk.RegexpParser(grammar)\n",
    "chunked_ingredients = []\n",
    "for ingredient in ingredients:\n",
    "    result = cp.parse(core_tagger(ingredient))\n",
    "    for subtree in result.subtrees(filter=lambda t: t.label() == 'NP'):\n",
    "    # print the noun phrase as a list of part-of-speech tagged words\n",
    "        chunked_ingredients.append(subtree.leaves()[-1][0])\n",
    "    \n",
    "    \n"
   ]
  },
  {
   "cell_type": "code",
   "execution_count": null,
   "metadata": {},
   "outputs": [],
   "source": [
    "full_ingredients = ingredients + chunked_ingredients"
   ]
  },
  {
   "cell_type": "code",
   "execution_count": 8,
   "metadata": {},
   "outputs": [],
   "source": [
    "grammar = \"NP: {<DT>?<JJ>*<NN>*}\"\n",
    "cp = nltk.RegexpParser(grammar)\n",
    "\n",
    "\n",
    "def identify_ingredients(sentence):\n",
    "    result = cp.parse(core_tagger(sentence))\n",
    "    for subtree in result.subtrees(filter=lambda t: t.label() == 'NP'):\n",
    "        # print the noun phrase as a list of part-of-speech tagged words\n",
    "        ingredient_phrase = ''\n",
    "        for leaf in subtree.leaves():\n",
    "            ingredient_phrase+=leaf[0]+' '\n",
    "        if ingredient_phrase[:-1] in ingredients:\n",
    "            subtree.set_label('ingredient')\n",
    "        \n",
    "        elif subtree.leaves()[-1][0] in full_ingredients:\n",
    "            subtree.set_label('ingredient')\n",
    "        print(subtree)\n"
   ]
  },
  {
   "cell_type": "code",
   "execution_count": null,
   "metadata": {},
   "outputs": [],
   "source": [
    "identify_ingredients('what')"
   ]
  },
  {
   "cell_type": "code",
   "execution_count": null,
   "metadata": {},
   "outputs": [],
   "source": [
    "grammar = r\"\"\"\n",
    "JJ1: {(<JJ.*|VBG|VBD|VBD>(<CC|,>?<JJ.*|VBG|VBN|VBD>)*)} \n",
    "AMOUNT: {<CD>(<TO|CC><CD>)?} \n",
    "INGREDIENT: {<DT|AMOUNT>?(<UNIT><IN>?)?<JJ1>*<INGRED>+}\n",
    "INGREDIENTS: {<INGREDIENT>(<\\.|CC|,|:|IN|TO>+<RB>?<INGREDIENT>)*}\n",
    "ACT: {<RB.*>*<VB.*>(<CC|,>+<RB.*>*<VB.*>)*(<TO><DT><VB.*>)?<JJ1>?}\n",
    "\"\"\""
   ]
  },
  {
   "cell_type": "code",
   "execution_count": null,
   "metadata": {},
   "outputs": [],
   "source": [
    "grammar = 'INGREDIENTS: {<ingredient>(<\\.|CC|,|:|IN|TO>+<RB>?<ingredient>)*}'"
   ]
  },
  {
   "cell_type": "markdown",
   "metadata": {},
   "source": [
    "# Recipe similarity"
   ]
  },
  {
   "cell_type": "code",
   "execution_count": 16,
   "metadata": {},
   "outputs": [],
   "source": [
    "from nltk.stem import PorterStemmer, WordNetLemmatizer\n",
    "\n",
    "stemmer = PorterStemmer()\n",
    "lemmatiser = WordNetLemmatizer()"
   ]
  },
  {
   "cell_type": "code",
   "execution_count": 31,
   "metadata": {},
   "outputs": [
    {
     "ename": "NameError",
     "evalue": "name 'raw_ingredients' is not defined",
     "output_type": "error",
     "traceback": [
      "\u001b[0;31m---------------------------------------------------------------------------\u001b[0m",
      "\u001b[0;31mNameError\u001b[0m                                 Traceback (most recent call last)",
      "\u001b[0;32m<ipython-input-31-ffdb56b3f9a2>\u001b[0m in \u001b[0;36m<module>\u001b[0;34m()\u001b[0m\n\u001b[0;32m----> 1\u001b[0;31m \u001b[0;32mfor\u001b[0m \u001b[0mindex\u001b[0m\u001b[0;34m,\u001b[0m \u001b[0mingredient\u001b[0m \u001b[0;32min\u001b[0m \u001b[0menumerate\u001b[0m\u001b[0;34m(\u001b[0m\u001b[0mraw_ingredients\u001b[0m\u001b[0;34m)\u001b[0m\u001b[0;34m:\u001b[0m\u001b[0;34m\u001b[0m\u001b[0m\n\u001b[0m\u001b[1;32m      2\u001b[0m     \u001b[0mraw_ingredients\u001b[0m\u001b[0;34m[\u001b[0m\u001b[0mindex\u001b[0m\u001b[0;34m]\u001b[0m \u001b[0;34m=\u001b[0m \u001b[0;34m\" \"\u001b[0m\u001b[0;34m.\u001b[0m\u001b[0mjoin\u001b[0m\u001b[0;34m(\u001b[0m\u001b[0;34m[\u001b[0m\u001b[0mlemmatiser\u001b[0m\u001b[0;34m.\u001b[0m\u001b[0mlemmatize\u001b[0m\u001b[0;34m(\u001b[0m\u001b[0mitem\u001b[0m\u001b[0;34m)\u001b[0m \u001b[0;32mfor\u001b[0m \u001b[0mitem\u001b[0m \u001b[0;32min\u001b[0m \u001b[0mnltk\u001b[0m\u001b[0;34m.\u001b[0m\u001b[0mword_tokenize\u001b[0m\u001b[0;34m(\u001b[0m\u001b[0mingredient\u001b[0m\u001b[0;34m)\u001b[0m\u001b[0;34m]\u001b[0m\u001b[0;34m)\u001b[0m\u001b[0;34m\u001b[0m\u001b[0m\n",
      "\u001b[0;31mNameError\u001b[0m: name 'raw_ingredients' is not defined"
     ]
    }
   ],
   "source": [
    "for index, ingredient in enumerate(raw_ingredients):\n",
    "    raw_ingredients[index] = \" \".join([lemmatiser.lemmatize(item) for item in nltk.word_tokenize(ingredient)])\n"
   ]
  },
  {
   "cell_type": "code",
   "execution_count": null,
   "metadata": {},
   "outputs": [],
   "source": [
    "with open('ingredient-phrase-tagger/input.txt', 'w') as input_file:\n",
    "    for item in raw_ingredients:\n",
    "        input_file.write(\"%s\\n\" % item)\n",
    "    input_file.close()\n"
   ]
  },
  {
   "cell_type": "code",
   "execution_count": 47,
   "metadata": {},
   "outputs": [
    {
     "name": "stdout",
     "output_type": "stream",
     "text": [
      "/home/rankovic/anaconda3/envs/rankovic/lib/python3.6/re.py:212: FutureWarning: split() requires a non-empty pattern match.\n",
      "  return _compile(pattern, flags).split(string, maxsplit)\n"
     ]
    }
   ],
   "source": [
    "! python ingredient-phrase-tagger/bin/parse-ingredients.py ingredient-phrase-tagger/input.txt > ingredient-phrase-tagger/results.txt\n"
   ]
  },
  {
   "cell_type": "code",
   "execution_count": 48,
   "metadata": {},
   "outputs": [],
   "source": [
    "! python ingredient-phrase-tagger/bin/convert-to-json.py ingredient-phrase-tagger/results.txt > results.json\n"
   ]
  },
  {
   "cell_type": "code",
   "execution_count": 51,
   "metadata": {},
   "outputs": [
    {
     "data": {
      "text/plain": [
       "{'qty': '1',\n",
       " 'name': 'egg',\n",
       " 'display': \"<span class='qty'>1</span><span class='name'>egg</span>\",\n",
       " 'input': '1 egg'}"
      ]
     },
     "execution_count": 51,
     "metadata": {},
     "output_type": "execute_result"
    }
   ],
   "source": [
    "result_dict = json.load(open('results.json'))\n",
    "result_dict[0]"
   ]
  },
  {
   "cell_type": "code",
   "execution_count": 273,
   "metadata": {},
   "outputs": [],
   "source": [
    "def build_ingredients_dict(recipe_id):\n",
    "    recipe_data = load_recipe(recipe_id)\n",
    "    ids = [ingredient['id'] for ingredient in recipe_data['ingredients']]\n",
    "    raw_ingredients = [ingredient['text'] for ingredient in recipe_data['ingredients']]\n",
    "    #for index, ingredient in enumerate(raw_ingredients):\n",
    "    #    raw_ingredients[index] = \" \".join([lemmatiser.lemmatize(item) for item in nltk.word_tokenize(ingredient)])\n",
    "    \n",
    "    with open('ingredient-phrase-tagger/input.txt', 'w') as input_file:\n",
    "        for item in raw_ingredients:\n",
    "            input_file.write(\"%s\\n\" % item)\n",
    "        input_file.close()\n",
    "\n",
    "    ! python ingredient-phrase-tagger/bin/parse-ingredients.py ingredient-phrase-tagger/input.txt > ingredient-phrase-tagger/results.txt\n",
    "    ! python ingredient-phrase-tagger/bin/convert-to-json.py ingredient-phrase-tagger/results.txt > results.json\n",
    "    result_dict = json.load(open('results.json'))\n",
    "    \n",
    "    return result_dict, ids"
   ]
  },
  {
   "cell_type": "code",
   "execution_count": null,
   "metadata": {},
   "outputs": [],
   "source": [
    "build_ingredients_dict(100008)"
   ]
  },
  {
   "cell_type": "code",
   "execution_count": 59,
   "metadata": {},
   "outputs": [],
   "source": [
    "def build_ingredients_dicts(recipe_id):\n",
    "    recipe_data = load_recipe(recipe_id)\n",
    "    ids = [ingredient['id'] for ingredient in recipe_data['ingredients']]\n",
    "\n",
    "    quantities = {}\n",
    "    with open('ingredient-phrase-tagger/input.txt', 'w') as input_file:\n",
    "        for ing in recipe_data['ingredients']:\n",
    "            m = re.match('[-]?[0-9]+[,. ]?[0-9]*([\\/][0-9]+[,.]?[0-9]*)*', ing['text'])\n",
    "            if m is not None:\n",
    "                \n",
    "                #o = re.match('\\(\\d+ ?[a-z]*[A-Z]*\\)', ing['text'][m.end():])\n",
    "                #if o is not None:\n",
    "                #    ing['text'] = o.group()[1:-1] + ing['text'][m.end()+o.end():]\n",
    "                #    quantities.update({ing['id']:convert_fraction([s for s in o.group()[1:-1].split() if s.isdigit()][0])})\n",
    "                quantities.update({ing['id']:convert_fraction(m.group())})\n",
    "            else:quantities.update({ing['id']:1})\n",
    "                \n",
    "        for item in recipe_data['ingredients']:\n",
    "            input_file.write(\"%s\\n\" % item['text'])\n",
    "        input_file.close()\n",
    "\n",
    "        ! python ingredient-phrase-tagger/bin/parse-ingredients.py ingredient-phrase-tagger/input.txt > ingredient-phrase-tagger/results.txt\n",
    "        ! python ingredient-phrase-tagger/bin/convert-to-json.py ingredient-phrase-tagger/results.txt > results.json\n",
    "        result_dict = json.load(open('results.json'))\n",
    "        return result_dict, quantities, ids"
   ]
  },
  {
   "cell_type": "code",
   "execution_count": 30,
   "metadata": {},
   "outputs": [],
   "source": [
    "from __future__ import division\n",
    "from fractions import Fraction\n",
    "\n",
    "def convert_fraction(measurement):\n",
    "    return sum([float(Fraction(unit)) for unit in measurement.split()])"
   ]
  },
  {
   "cell_type": "code",
   "execution_count": 33,
   "metadata": {},
   "outputs": [],
   "source": [
    "nutrition = pd.read_json('../data/recipe_data/6676/nutrition.json')"
   ]
  },
  {
   "cell_type": "code",
   "execution_count": 76,
   "metadata": {},
   "outputs": [],
   "source": [
    "with open ('../data/recipe_data/6676/nutrition.json') as json_file:\n",
    "    nutrition_json = json.load(json_file)"
   ]
  },
  {
   "cell_type": "code",
   "execution_count": 77,
   "metadata": {},
   "outputs": [
    {
     "data": {
      "text/plain": [
       "['calcium',\n",
       " 'calories',\n",
       " 'caloriesFromFat',\n",
       " 'carbohydrates',\n",
       " 'cholesterol',\n",
       " 'fat',\n",
       " 'fiber',\n",
       " 'folate',\n",
       " 'iron',\n",
       " 'magnesium',\n",
       " 'niacin',\n",
       " 'potassium',\n",
       " 'protein',\n",
       " 'saturatedFat',\n",
       " 'sodium',\n",
       " 'sugars',\n",
       " 'thiamin',\n",
       " 'vitaminA',\n",
       " 'vitaminB6',\n",
       " 'vitaminC']"
      ]
     },
     "execution_count": 77,
     "metadata": {},
     "output_type": "execute_result"
    }
   ],
   "source": [
    "sorted(nutrition_json['nutrition'].keys())"
   ]
  },
  {
   "cell_type": "code",
   "execution_count": 78,
   "metadata": {},
   "outputs": [
    {
     "data": {
      "text/html": [
       "<div>\n",
       "<style scoped>\n",
       "    .dataframe tbody tr th:only-of-type {\n",
       "        vertical-align: middle;\n",
       "    }\n",
       "\n",
       "    .dataframe tbody tr th {\n",
       "        vertical-align: top;\n",
       "    }\n",
       "\n",
       "    .dataframe thead th {\n",
       "        text-align: right;\n",
       "    }\n",
       "</style>\n",
       "<table border=\"1\" class=\"dataframe\">\n",
       "  <thead>\n",
       "    <tr style=\"text-align: right;\">\n",
       "      <th></th>\n",
       "      <th>total_time</th>\n",
       "      <th>ingredients</th>\n",
       "      <th>instructions</th>\n",
       "      <th>health_score</th>\n",
       "      <th>calcium</th>\n",
       "      <th>calories</th>\n",
       "      <th>caloriesFromFat</th>\n",
       "      <th>carbohydrates</th>\n",
       "      <th>cholesterol</th>\n",
       "      <th>fat</th>\n",
       "      <th>...</th>\n",
       "      <th>niacin</th>\n",
       "      <th>potassium</th>\n",
       "      <th>protein</th>\n",
       "      <th>saturatedFat</th>\n",
       "      <th>sodium</th>\n",
       "      <th>sugars</th>\n",
       "      <th>thiamin</th>\n",
       "      <th>vitaminA</th>\n",
       "      <th>vitaminB6</th>\n",
       "      <th>vitaminC</th>\n",
       "    </tr>\n",
       "    <tr>\n",
       "      <th>id</th>\n",
       "      <th></th>\n",
       "      <th></th>\n",
       "      <th></th>\n",
       "      <th></th>\n",
       "      <th></th>\n",
       "      <th></th>\n",
       "      <th></th>\n",
       "      <th></th>\n",
       "      <th></th>\n",
       "      <th></th>\n",
       "      <th></th>\n",
       "      <th></th>\n",
       "      <th></th>\n",
       "      <th></th>\n",
       "      <th></th>\n",
       "      <th></th>\n",
       "      <th></th>\n",
       "      <th></th>\n",
       "      <th></th>\n",
       "      <th></th>\n",
       "      <th></th>\n",
       "    </tr>\n",
       "  </thead>\n",
       "  <tbody>\n",
       "    <tr>\n",
       "      <th>100008</th>\n",
       "      <td>45 m</td>\n",
       "      <td>[{'text': '8 ounces fresh young ginger root, p...</td>\n",
       "      <td>[Cut the ginger into chunks and place them int...</td>\n",
       "      <td>4</td>\n",
       "      <td>{'amount': 1.171771, 'hasCompleteData': True, ...</td>\n",
       "      <td>{'amount': 13.6625, 'hasCompleteData': True, '...</td>\n",
       "      <td>{'amount': 0.47250000000000003, 'hasCompleteDa...</td>\n",
       "      <td>{'amount': 3.326817, 'hasCompleteData': True, ...</td>\n",
       "      <td>{'amount': 0.0, 'hasCompleteData': True, 'disp...</td>\n",
       "      <td>{'amount': 0.052500000000000005, 'hasCompleteD...</td>\n",
       "      <td>...</td>\n",
       "      <td>{'amount': 0.0665, 'hasCompleteData': False, '...</td>\n",
       "      <td>{'amount': 29.76198, 'hasCompleteData': False,...</td>\n",
       "      <td>{'amount': 0.1274, 'hasCompleteData': True, 'd...</td>\n",
       "      <td>{'amount': 0.01421, 'hasCompleteData': True, '...</td>\n",
       "      <td>{'amount': 83.41, 'hasCompleteData': True, 'di...</td>\n",
       "      <td>{'amount': 2.200458, 'hasCompleteData': True, ...</td>\n",
       "      <td>{'amount': 0.00161, 'hasCompleteData': False, ...</td>\n",
       "      <td>{'amount': 0.0, 'hasCompleteData': True, 'disp...</td>\n",
       "      <td>{'amount': 0.0112, 'hasCompleteData': False, '...</td>\n",
       "      <td>{'amount': 0.35000000000000003, 'hasCompleteDa...</td>\n",
       "    </tr>\n",
       "    <tr>\n",
       "      <th>10001</th>\n",
       "      <td>None</td>\n",
       "      <td>[{'id': '16317', 'text': '4 eggs'}, {'id': '14...</td>\n",
       "      <td>[Whisk the eggs with the sugar and salt until ...</td>\n",
       "      <td>8</td>\n",
       "      <td>{'amount': 96.83675, 'hasCompleteData': True, ...</td>\n",
       "      <td>{'amount': 357.6104, 'hasCompleteData': True, ...</td>\n",
       "      <td>{'amount': 203.0924, 'hasCompleteData': True, ...</td>\n",
       "      <td>{'amount': 35.48761, 'hasCompleteData': True, ...</td>\n",
       "      <td>{'amount': 102.6708, 'hasCompleteData': True, ...</td>\n",
       "      <td>{'amount': 22.56582, 'hasCompleteData': True, ...</td>\n",
       "      <td>...</td>\n",
       "      <td>{'amount': 2.7157400000000003, 'hasCompleteDat...</td>\n",
       "      <td>{'amount': 152.4793, 'hasCompleteData': True, ...</td>\n",
       "      <td>{'amount': 5.999063, 'hasCompleteData': True, ...</td>\n",
       "      <td>{'amount': 10.78192, 'hasCompleteData': True, ...</td>\n",
       "      <td>{'amount': 196.5283, 'hasCompleteData': True, ...</td>\n",
       "      <td>{'amount': 17.2474, 'hasCompleteData': True, '...</td>\n",
       "      <td>{'amount': 0.2310342, 'hasCompleteData': True,...</td>\n",
       "      <td>{'amount': 555.8644, 'hasCompleteData': True, ...</td>\n",
       "      <td>{'amount': 0.08333621000000001, 'hasCompleteDa...</td>\n",
       "      <td>{'amount': 0.5352042, 'hasCompleteData': True,...</td>\n",
       "    </tr>\n",
       "    <tr>\n",
       "      <th>100011</th>\n",
       "      <td>1 h</td>\n",
       "      <td>[{'text': '2 tablespoons vegetable oil', 'id':...</td>\n",
       "      <td>[Heat 1 tablespoon vegetable oil in a skillet ...</td>\n",
       "      <td>7</td>\n",
       "      <td>{'percentDailyValue': '8', 'hasCompleteData': ...</td>\n",
       "      <td>{'percentDailyValue': '24', 'hasCompleteData':...</td>\n",
       "      <td>{'percentDailyValue': '-', 'hasCompleteData': ...</td>\n",
       "      <td>{'percentDailyValue': '9', 'hasCompleteData': ...</td>\n",
       "      <td>{'percentDailyValue': '26', 'hasCompleteData':...</td>\n",
       "      <td>{'percentDailyValue': '41', 'hasCompleteData':...</td>\n",
       "      <td>...</td>\n",
       "      <td>{'percentDailyValue': '99', 'hasCompleteData':...</td>\n",
       "      <td>{'percentDailyValue': '24', 'hasCompleteData':...</td>\n",
       "      <td>{'percentDailyValue': '66', 'hasCompleteData':...</td>\n",
       "      <td>{'percentDailyValue': '42', 'hasCompleteData':...</td>\n",
       "      <td>{'percentDailyValue': '54', 'hasCompleteData':...</td>\n",
       "      <td>{'percentDailyValue': '0', 'hasCompleteData': ...</td>\n",
       "      <td>{'percentDailyValue': '96', 'hasCompleteData':...</td>\n",
       "      <td>{'percentDailyValue': '&lt; 1', 'hasCompleteData'...</td>\n",
       "      <td>{'percentDailyValue': '46', 'hasCompleteData':...</td>\n",
       "      <td>{'percentDailyValue': '11', 'hasCompleteData':...</td>\n",
       "    </tr>\n",
       "    <tr>\n",
       "      <th>10002</th>\n",
       "      <td>None</td>\n",
       "      <td>[{'id': '16421', 'text': '1/2 teaspoon salt'},...</td>\n",
       "      <td>[Preheat oven to 325 degrees F (170 degrees C)...</td>\n",
       "      <td>6</td>\n",
       "      <td>{'amount': 13.48675, 'hasCompleteData': True, ...</td>\n",
       "      <td>{'amount': 199.9955, 'hasCompleteData': True, ...</td>\n",
       "      <td>{'amount': 104.309, 'hasCompleteData': True, '...</td>\n",
       "      <td>{'amount': 21.94938, 'hasCompleteData': True, ...</td>\n",
       "      <td>{'amount': 12.44067, 'hasCompleteData': True, ...</td>\n",
       "      <td>{'amount': 11.58989, 'hasCompleteData': True, ...</td>\n",
       "      <td>...</td>\n",
       "      <td>{'amount': 2.251066, 'hasCompleteData': True, ...</td>\n",
       "      <td>{'amount': 79.8545, 'hasCompleteData': True, '...</td>\n",
       "      <td>{'amount': 3.463482, 'hasCompleteData': True, ...</td>\n",
       "      <td>{'amount': 2.7348, 'hasCompleteData': True, 'd...</td>\n",
       "      <td>{'amount': 127.2791, 'hasCompleteData': True, ...</td>\n",
       "      <td>{'amount': 14.64034, 'hasCompleteData': True, ...</td>\n",
       "      <td>{'amount': 0.07540625000000001, 'hasCompleteDa...</td>\n",
       "      <td>{'amount': 17.19408, 'hasCompleteData': True, ...</td>\n",
       "      <td>{'amount': 0.05833117, 'hasCompleteData': True...</td>\n",
       "      <td>{'amount': 0.001016667, 'hasCompleteData': Tru...</td>\n",
       "    </tr>\n",
       "    <tr>\n",
       "      <th>10003</th>\n",
       "      <td>35 m</td>\n",
       "      <td>[{'text': '1 cup butter', 'id': '16157'}, {'te...</td>\n",
       "      <td>[Preheat oven to 350 degrees F (175 degrees C)...</td>\n",
       "      <td>6</td>\n",
       "      <td>{'percentDailyValue': '&lt; 1', 'hasCompleteData'...</td>\n",
       "      <td>{'percentDailyValue': '6', 'hasCompleteData': ...</td>\n",
       "      <td>{'percentDailyValue': '-', 'hasCompleteData': ...</td>\n",
       "      <td>{'percentDailyValue': '4', 'hasCompleteData': ...</td>\n",
       "      <td>{'percentDailyValue': '7', 'hasCompleteData': ...</td>\n",
       "      <td>{'percentDailyValue': '12', 'hasCompleteData':...</td>\n",
       "      <td>...</td>\n",
       "      <td>{'percentDailyValue': '5', 'hasCompleteData': ...</td>\n",
       "      <td>{'percentDailyValue': '&lt; 1', 'hasCompleteData'...</td>\n",
       "      <td>{'percentDailyValue': '2', 'hasCompleteData': ...</td>\n",
       "      <td>{'percentDailyValue': '24', 'hasCompleteData':...</td>\n",
       "      <td>{'percentDailyValue': '2', 'hasCompleteData': ...</td>\n",
       "      <td>{'percentDailyValue': '0', 'hasCompleteData': ...</td>\n",
       "      <td>{'percentDailyValue': '6', 'hasCompleteData': ...</td>\n",
       "      <td>{'percentDailyValue': '5', 'hasCompleteData': ...</td>\n",
       "      <td>{'percentDailyValue': '&lt; 1', 'hasCompleteData'...</td>\n",
       "      <td>{'percentDailyValue': '0', 'hasCompleteData': ...</td>\n",
       "    </tr>\n",
       "  </tbody>\n",
       "</table>\n",
       "<p>5 rows × 24 columns</p>\n",
       "</div>"
      ],
      "text/plain": [
       "       total_time                                        ingredients  \\\n",
       "id                                                                     \n",
       "100008       45 m  [{'text': '8 ounces fresh young ginger root, p...   \n",
       "10001        None  [{'id': '16317', 'text': '4 eggs'}, {'id': '14...   \n",
       "100011        1 h  [{'text': '2 tablespoons vegetable oil', 'id':...   \n",
       "10002        None  [{'id': '16421', 'text': '1/2 teaspoon salt'},...   \n",
       "10003        35 m  [{'text': '1 cup butter', 'id': '16157'}, {'te...   \n",
       "\n",
       "                                             instructions  health_score  \\\n",
       "id                                                                        \n",
       "100008  [Cut the ginger into chunks and place them int...             4   \n",
       "10001   [Whisk the eggs with the sugar and salt until ...             8   \n",
       "100011  [Heat 1 tablespoon vegetable oil in a skillet ...             7   \n",
       "10002   [Preheat oven to 325 degrees F (170 degrees C)...             6   \n",
       "10003   [Preheat oven to 350 degrees F (175 degrees C)...             6   \n",
       "\n",
       "                                                  calcium  \\\n",
       "id                                                          \n",
       "100008  {'amount': 1.171771, 'hasCompleteData': True, ...   \n",
       "10001   {'amount': 96.83675, 'hasCompleteData': True, ...   \n",
       "100011  {'percentDailyValue': '8', 'hasCompleteData': ...   \n",
       "10002   {'amount': 13.48675, 'hasCompleteData': True, ...   \n",
       "10003   {'percentDailyValue': '< 1', 'hasCompleteData'...   \n",
       "\n",
       "                                                 calories  \\\n",
       "id                                                          \n",
       "100008  {'amount': 13.6625, 'hasCompleteData': True, '...   \n",
       "10001   {'amount': 357.6104, 'hasCompleteData': True, ...   \n",
       "100011  {'percentDailyValue': '24', 'hasCompleteData':...   \n",
       "10002   {'amount': 199.9955, 'hasCompleteData': True, ...   \n",
       "10003   {'percentDailyValue': '6', 'hasCompleteData': ...   \n",
       "\n",
       "                                          caloriesFromFat  \\\n",
       "id                                                          \n",
       "100008  {'amount': 0.47250000000000003, 'hasCompleteDa...   \n",
       "10001   {'amount': 203.0924, 'hasCompleteData': True, ...   \n",
       "100011  {'percentDailyValue': '-', 'hasCompleteData': ...   \n",
       "10002   {'amount': 104.309, 'hasCompleteData': True, '...   \n",
       "10003   {'percentDailyValue': '-', 'hasCompleteData': ...   \n",
       "\n",
       "                                            carbohydrates  \\\n",
       "id                                                          \n",
       "100008  {'amount': 3.326817, 'hasCompleteData': True, ...   \n",
       "10001   {'amount': 35.48761, 'hasCompleteData': True, ...   \n",
       "100011  {'percentDailyValue': '9', 'hasCompleteData': ...   \n",
       "10002   {'amount': 21.94938, 'hasCompleteData': True, ...   \n",
       "10003   {'percentDailyValue': '4', 'hasCompleteData': ...   \n",
       "\n",
       "                                              cholesterol  \\\n",
       "id                                                          \n",
       "100008  {'amount': 0.0, 'hasCompleteData': True, 'disp...   \n",
       "10001   {'amount': 102.6708, 'hasCompleteData': True, ...   \n",
       "100011  {'percentDailyValue': '26', 'hasCompleteData':...   \n",
       "10002   {'amount': 12.44067, 'hasCompleteData': True, ...   \n",
       "10003   {'percentDailyValue': '7', 'hasCompleteData': ...   \n",
       "\n",
       "                                                      fat  \\\n",
       "id                                                          \n",
       "100008  {'amount': 0.052500000000000005, 'hasCompleteD...   \n",
       "10001   {'amount': 22.56582, 'hasCompleteData': True, ...   \n",
       "100011  {'percentDailyValue': '41', 'hasCompleteData':...   \n",
       "10002   {'amount': 11.58989, 'hasCompleteData': True, ...   \n",
       "10003   {'percentDailyValue': '12', 'hasCompleteData':...   \n",
       "\n",
       "                              ...                          \\\n",
       "id                            ...                           \n",
       "100008                        ...                           \n",
       "10001                         ...                           \n",
       "100011                        ...                           \n",
       "10002                         ...                           \n",
       "10003                         ...                           \n",
       "\n",
       "                                                   niacin  \\\n",
       "id                                                          \n",
       "100008  {'amount': 0.0665, 'hasCompleteData': False, '...   \n",
       "10001   {'amount': 2.7157400000000003, 'hasCompleteDat...   \n",
       "100011  {'percentDailyValue': '99', 'hasCompleteData':...   \n",
       "10002   {'amount': 2.251066, 'hasCompleteData': True, ...   \n",
       "10003   {'percentDailyValue': '5', 'hasCompleteData': ...   \n",
       "\n",
       "                                                potassium  \\\n",
       "id                                                          \n",
       "100008  {'amount': 29.76198, 'hasCompleteData': False,...   \n",
       "10001   {'amount': 152.4793, 'hasCompleteData': True, ...   \n",
       "100011  {'percentDailyValue': '24', 'hasCompleteData':...   \n",
       "10002   {'amount': 79.8545, 'hasCompleteData': True, '...   \n",
       "10003   {'percentDailyValue': '< 1', 'hasCompleteData'...   \n",
       "\n",
       "                                                  protein  \\\n",
       "id                                                          \n",
       "100008  {'amount': 0.1274, 'hasCompleteData': True, 'd...   \n",
       "10001   {'amount': 5.999063, 'hasCompleteData': True, ...   \n",
       "100011  {'percentDailyValue': '66', 'hasCompleteData':...   \n",
       "10002   {'amount': 3.463482, 'hasCompleteData': True, ...   \n",
       "10003   {'percentDailyValue': '2', 'hasCompleteData': ...   \n",
       "\n",
       "                                             saturatedFat  \\\n",
       "id                                                          \n",
       "100008  {'amount': 0.01421, 'hasCompleteData': True, '...   \n",
       "10001   {'amount': 10.78192, 'hasCompleteData': True, ...   \n",
       "100011  {'percentDailyValue': '42', 'hasCompleteData':...   \n",
       "10002   {'amount': 2.7348, 'hasCompleteData': True, 'd...   \n",
       "10003   {'percentDailyValue': '24', 'hasCompleteData':...   \n",
       "\n",
       "                                                   sodium  \\\n",
       "id                                                          \n",
       "100008  {'amount': 83.41, 'hasCompleteData': True, 'di...   \n",
       "10001   {'amount': 196.5283, 'hasCompleteData': True, ...   \n",
       "100011  {'percentDailyValue': '54', 'hasCompleteData':...   \n",
       "10002   {'amount': 127.2791, 'hasCompleteData': True, ...   \n",
       "10003   {'percentDailyValue': '2', 'hasCompleteData': ...   \n",
       "\n",
       "                                                   sugars  \\\n",
       "id                                                          \n",
       "100008  {'amount': 2.200458, 'hasCompleteData': True, ...   \n",
       "10001   {'amount': 17.2474, 'hasCompleteData': True, '...   \n",
       "100011  {'percentDailyValue': '0', 'hasCompleteData': ...   \n",
       "10002   {'amount': 14.64034, 'hasCompleteData': True, ...   \n",
       "10003   {'percentDailyValue': '0', 'hasCompleteData': ...   \n",
       "\n",
       "                                                  thiamin  \\\n",
       "id                                                          \n",
       "100008  {'amount': 0.00161, 'hasCompleteData': False, ...   \n",
       "10001   {'amount': 0.2310342, 'hasCompleteData': True,...   \n",
       "100011  {'percentDailyValue': '96', 'hasCompleteData':...   \n",
       "10002   {'amount': 0.07540625000000001, 'hasCompleteDa...   \n",
       "10003   {'percentDailyValue': '6', 'hasCompleteData': ...   \n",
       "\n",
       "                                                 vitaminA  \\\n",
       "id                                                          \n",
       "100008  {'amount': 0.0, 'hasCompleteData': True, 'disp...   \n",
       "10001   {'amount': 555.8644, 'hasCompleteData': True, ...   \n",
       "100011  {'percentDailyValue': '< 1', 'hasCompleteData'...   \n",
       "10002   {'amount': 17.19408, 'hasCompleteData': True, ...   \n",
       "10003   {'percentDailyValue': '5', 'hasCompleteData': ...   \n",
       "\n",
       "                                                vitaminB6  \\\n",
       "id                                                          \n",
       "100008  {'amount': 0.0112, 'hasCompleteData': False, '...   \n",
       "10001   {'amount': 0.08333621000000001, 'hasCompleteDa...   \n",
       "100011  {'percentDailyValue': '46', 'hasCompleteData':...   \n",
       "10002   {'amount': 0.05833117, 'hasCompleteData': True...   \n",
       "10003   {'percentDailyValue': '< 1', 'hasCompleteData'...   \n",
       "\n",
       "                                                 vitaminC  \n",
       "id                                                         \n",
       "100008  {'amount': 0.35000000000000003, 'hasCompleteDa...  \n",
       "10001   {'amount': 0.5352042, 'hasCompleteData': True,...  \n",
       "100011  {'percentDailyValue': '11', 'hasCompleteData':...  \n",
       "10002   {'amount': 0.001016667, 'hasCompleteData': Tru...  \n",
       "10003   {'percentDailyValue': '0', 'hasCompleteData': ...  \n",
       "\n",
       "[5 rows x 24 columns]"
      ]
     },
     "execution_count": 78,
     "metadata": {},
     "output_type": "execute_result"
    }
   ],
   "source": [
    "recipes_data = pd.read_json('../data/recipes.json')\n",
    "columns = ['id','total_time','ingredients', 'instructions', 'health_score'] + sorted(nutrition_json['nutrition'].keys())\n",
    "recipes_data = recipes_data[columns]\n",
    "recipes_data = recipes_data.set_index('id')\n",
    "recipes_data.head()"
   ]
  },
  {
   "cell_type": "code",
   "execution_count": 2,
   "metadata": {},
   "outputs": [],
   "source": [
    "unit_converter = {'gallon': 3785, 'bag':1, 'package':1, 'roll':1, 'quart':0.001,'count':1, 'bone':1, 'lb':453, 'ml':100,'g':1,'oz':28.3, 'millilit': 1,'no_unit':1, 'bunch':150, 'stalk':200, 'pinch':1, 'pint':500, 'inch':1, 'clove':1, 'cup': 340, 'tablespoon':14.3, 'pound':453, 'ounc':28.3,  'teaspoon':4.2, 'kg':1000, 'gram':1, 'liter':1000, 'deciliter':100, 'mL':1}\n",
    "\n"
   ]
  },
  {
   "cell_type": "code",
   "execution_count": 3,
   "metadata": {},
   "outputs": [],
   "source": [
    "units = unit_converter.keys()"
   ]
  },
  {
   "cell_type": "code",
   "execution_count": 4,
   "metadata": {},
   "outputs": [
    {
     "data": {
      "text/plain": [
       "dict_keys(['gallon', 'bag', 'package', 'roll', 'quart', 'count', 'bone', 'lb', 'ml', 'g', 'oz', 'millilit', 'no_unit', 'bunch', 'stalk', 'pinch', 'pint', 'inch', 'clove', 'cup', 'tablespoon', 'pound', 'ounc', 'teaspoon', 'kg', 'gram', 'liter', 'deciliter', 'mL'])"
      ]
     },
     "execution_count": 4,
     "metadata": {},
     "output_type": "execute_result"
    }
   ],
   "source": [
    "units"
   ]
  },
  {
   "cell_type": "code",
   "execution_count": 88,
   "metadata": {},
   "outputs": [],
   "source": [
    "def clear_ingredient(ingredient):\n",
    "    m = re.match('[-]?[0-9]+[,. ]?[0-9]*([\\/][0-9]+[,.]?[0-9]*)*', ingredient)\n",
    "    if m is not None:\n",
    "        o = re.match('\\([-]?[0-9]+[,. ]?[0-9]*([\\/][0-9]+[,.]?[0-9]*)* ?[a-z]*[A-Z]*\\)', ingredient[m.end():])\n",
    "        if o is not None:\n",
    "            b = re.match('[-]?[0-9]+[,. ]?[0-9]*([\\/][0-9]+[,.]?[0-9]*)*', o.group()[1:-1])\n",
    "            if stemmer.stem(o.group()[1:-1].split()[-1]) in units:\n",
    "                return stemmer.stem(ingredient[o.end()+len(o.group()[1:-1].split()[-1]):])\n",
    "        \n",
    "            else:\n",
    "                return stemmer.stem(ingredient[len(o.group())+m.end()+len(o.group()[1:-1].split()[-1])+1:])\n",
    "        else:\n",
    "            ing_parts =  nltk.word_tokenize(ingredient)\n",
    "            ing_parts_stemmed = [stemmer.stem(word) for word in ing_parts]\n",
    "            for i, part in enumerate(ing_parts_stemmed):\n",
    "                if part in units:\n",
    "                    return ingredient[m.end()+len(ing_parts[i])+1:]\n",
    "            return ingredient[m.end():]\n",
    "    \n",
    "    else:\n",
    "        return ingredient\n"
   ]
  },
  {
   "cell_type": "code",
   "execution_count": 89,
   "metadata": {},
   "outputs": [
    {
     "data": {
      "text/plain": [
       "id\n",
       "100008    [fresh young ginger root, peeled,  sea salt, r...\n",
       "10001     [eggs,  cocoa powder, white sugar,  ground cin...\n",
       "100011    [vegetable oil, minced garlic, large onion, ch...\n",
       "10002     [ salt, peanut butter, white sugar, packed bro...\n",
       "10003     [butter,  all-purpose flour,  confectioners' s...\n",
       "Name: ingredients, dtype: object"
      ]
     },
     "execution_count": 89,
     "metadata": {},
     "output_type": "execute_result"
    }
   ],
   "source": [
    "recipes_data['ingredients'].apply(lambda x: [clear_ingredient(ingredient['text']) for ingredient in x])"
   ]
  },
  {
   "cell_type": "code",
   "execution_count": 86,
   "metadata": {},
   "outputs": [
    {
     "data": {
      "text/plain": [
       "'saltt'"
      ]
     },
     "execution_count": 86,
     "metadata": {},
     "output_type": "execute_result"
    }
   ],
   "source": [
    "clear_ingredient('saltt')"
   ]
  },
  {
   "cell_type": "code",
   "execution_count": 26,
   "metadata": {},
   "outputs": [],
   "source": [
    "def get_quantity_unit(ingredient):\n",
    "    m = re.match('[-]?[0-9]+[,. ]?[0-9]*([\\/][0-9]+[,.]?[0-9]*)*', ingredient)\n",
    "    if m is not None:\n",
    "        o = re.match('\\([-]?[0-9]+[,. ]?[0-9]*([\\/][0-9]+[,.]?[0-9]*)* ?[a-z]*[A-Z]*\\)', ingredient[m.end():])\n",
    "        if o is not None:\n",
    "            b = re.match('[-]?[0-9]+[,. ]?[0-9]*([\\/][0-9]+[,.]?[0-9]*)*', o.group()[1:-1])\n",
    "            if stemmer.stem(o.group()[1:-1].split()[-1]) in units:\n",
    "                return convert_fraction(b.group()), stemmer.stem(o.group()[1:-1].split()[-1])\n",
    "            else:\n",
    "                return convert_fraction(o.group()[1:-1]),stemmer.stem(ingredient[len(o.group())+m.end():].split()[0])\n",
    "        else:\n",
    "            ing_parts = [stemmer.stem(word) for word in nltk.word_tokenize(ingredient)]\n",
    "            for part in ing_parts:\n",
    "                if part in units:\n",
    "                    return convert_fraction(m.group()), part\n",
    "            return convert_fraction(m.group()), 'no_unit'\n",
    "    \n",
    "    else:\n",
    "        return 1, 'no_unit'\n"
   ]
  },
  {
   "cell_type": "code",
   "execution_count": 27,
   "metadata": {},
   "outputs": [],
   "source": [
    "def starts_with_quantity(ingredient):\n",
    "    m = re.match('[-]?[0-9]+[,. ]?[0-9]*([\\/][0-9]+[,.]?[0-9]*)*', ingredient)\n",
    "    if m is not None:\n",
    "        o = re.match('\\([-]?[0-9]+[,. ]?[0-9]*([\\/][0-9]+[,.]?[0-9]*)* ?[a-z]*[A-Z]*\\)', ingredient[m.end():])\n",
    "        if o is not None:\n",
    "            return (1, o.group())\n",
    "        else:\n",
    "            \n",
    "            return (2, m.group())\n",
    "    \n",
    "    else:\n",
    "        return (3,1)\n"
   ]
  },
  {
   "cell_type": "code",
   "execution_count": 39,
   "metadata": {},
   "outputs": [
    {
     "ename": "NameError",
     "evalue": "name 'recipes_copy' is not defined",
     "output_type": "error",
     "traceback": [
      "\u001b[0;31m---------------------------------------------------------------------------\u001b[0m",
      "\u001b[0;31mNameError\u001b[0m                                 Traceback (most recent call last)",
      "\u001b[0;32m<ipython-input-39-62ebac400e7a>\u001b[0m in \u001b[0;36m<module>\u001b[0;34m()\u001b[0m\n\u001b[0;32m----> 1\u001b[0;31m \u001b[0mings\u001b[0m \u001b[0;34m=\u001b[0m \u001b[0;34m[\u001b[0m\u001b[0;34m(\u001b[0m\u001b[0mrecipe_ing\u001b[0m\u001b[0;34m[\u001b[0m\u001b[0;34m'text'\u001b[0m\u001b[0;34m]\u001b[0m\u001b[0;34m,\u001b[0m \u001b[0mrecipe_ing\u001b[0m\u001b[0;34m[\u001b[0m\u001b[0;34m'id'\u001b[0m\u001b[0;34m]\u001b[0m\u001b[0;34m)\u001b[0m \u001b[0;32mfor\u001b[0m \u001b[0mrecipe_ings\u001b[0m \u001b[0;32min\u001b[0m \u001b[0mrecipes_copy\u001b[0m\u001b[0;34m[\u001b[0m\u001b[0;34m'ingredients'\u001b[0m\u001b[0;34m]\u001b[0m \u001b[0;32mfor\u001b[0m \u001b[0mrecipe_ing\u001b[0m \u001b[0;32min\u001b[0m \u001b[0mrecipe_ings\u001b[0m\u001b[0;34m]\u001b[0m\u001b[0;34m\u001b[0m\u001b[0m\n\u001b[0m",
      "\u001b[0;31mNameError\u001b[0m: name 'recipes_copy' is not defined"
     ]
    }
   ],
   "source": [
    "ings = [(recipe_ing['text'], recipe_ing['id']) for recipe_ings in recipes_copy['ingredients'] for recipe_ing in recipe_ings]"
   ]
  },
  {
   "cell_type": "code",
   "execution_count": 557,
   "metadata": {},
   "outputs": [],
   "source": [
    "br = 0\n",
    "dont_start_with=[]\n",
    "start_with=[]\n",
    "has_bracket = []\n",
    "for ing_text, ing_id in ings:\n",
    "    if starts_with_quantity(ing_text)[0] == 1:\n",
    "        has_bracket.append((ing_text, ing_id))\n",
    "    elif starts_with_quantity(ing_text)[0] == 2:\n",
    "        start_with.append((ing_text, ing_id))\n",
    "    else: dont_start_with.append((ing_text, ing_id))"
   ]
  },
  {
   "cell_type": "code",
   "execution_count": 566,
   "metadata": {},
   "outputs": [],
   "source": [
    "with open('../data/brackets.txt', 'w') as file:\n",
    "    for item in set(has_bracket):\n",
    "        file.write(\"%s\\n\" % item[0])\n",
    "with open('../data/start_.txt', 'w') as file:\n",
    "    for item in set(start_with):\n",
    "        file.write(\"%s\\n\" % item[0])\n",
    "with open('../data/no_quantity.txt', 'w') as file:\n",
    "    for item in set(dont_start_with):\n",
    "        file.write(\"%s\\n\" % item[0])"
   ]
  },
  {
   "cell_type": "code",
   "execution_count": 321,
   "metadata": {},
   "outputs": [
    {
     "data": {
      "text/plain": [
       "388453"
      ]
     },
     "execution_count": 321,
     "metadata": {},
     "output_type": "execute_result"
    }
   ],
   "source": [
    "br"
   ]
  },
  {
   "cell_type": "code",
   "execution_count": 36,
   "metadata": {},
   "outputs": [
    {
     "name": "stdout",
     "output_type": "stream",
     "text": [
      "<class 'pandas.core.frame.DataFrame'>\n",
      "Int64Index: 44065 entries, 100008 to 9999\n",
      "Data columns (total 24 columns):\n",
      "total_time         39599 non-null object\n",
      "ingredients        44065 non-null object\n",
      "instructions       44065 non-null object\n",
      "health_score       44065 non-null int64\n",
      "calcium            44065 non-null object\n",
      "calories           44065 non-null object\n",
      "caloriesFromFat    44065 non-null object\n",
      "carbohydrates      44065 non-null object\n",
      "cholesterol        44065 non-null object\n",
      "fat                44065 non-null object\n",
      "fiber              44065 non-null object\n",
      "folate             44065 non-null object\n",
      "iron               44065 non-null object\n",
      "magnesium          44065 non-null object\n",
      "niacin             44065 non-null object\n",
      "potassium          44065 non-null object\n",
      "protein            44065 non-null object\n",
      "saturatedFat       44065 non-null object\n",
      "sodium             44065 non-null object\n",
      "sugars             44065 non-null object\n",
      "thiamin            44065 non-null object\n",
      "vitaminA           44065 non-null object\n",
      "vitaminB6          44065 non-null object\n",
      "vitaminC           44065 non-null object\n",
      "dtypes: int64(1), object(23)\n",
      "memory usage: 8.4+ MB\n"
     ]
    }
   ],
   "source": [
    "recipes_data.info()"
   ]
  },
  {
   "cell_type": "code",
   "execution_count": 40,
   "metadata": {},
   "outputs": [],
   "source": [
    "recipe_ids = list(recipes_data.reset_index()['id'].unique())"
   ]
  },
  {
   "cell_type": "code",
   "execution_count": 41,
   "metadata": {},
   "outputs": [
    {
     "data": {
      "text/plain": [
       "{'amount': 357.6104,\n",
       " 'hasCompleteData': True,\n",
       " 'displayValue': '358',\n",
       " 'percentDailyValue': '18',\n",
       " 'unit': 'kcal',\n",
       " 'name': 'Calories'}"
      ]
     },
     "execution_count": 41,
     "metadata": {},
     "output_type": "execute_result"
    }
   ],
   "source": [
    "recipes_data['calories'][10001]\n"
   ]
  },
  {
   "cell_type": "code",
   "execution_count": 42,
   "metadata": {},
   "outputs": [],
   "source": [
    "learning_matrix = recipes_data.copy()"
   ]
  },
  {
   "cell_type": "code",
   "execution_count": 43,
   "metadata": {},
   "outputs": [],
   "source": [
    "def get_value(x, label, *types):\n",
    "        try:\n",
    "            \n",
    "            return float(x[label])\n",
    "        except: \n",
    "            return 0"
   ]
  },
  {
   "cell_type": "code",
   "execution_count": 44,
   "metadata": {},
   "outputs": [
    {
     "data": {
      "text/plain": [
       "{'amount': 81.71146,\n",
       " 'hasCompleteData': True,\n",
       " 'displayValue': '82',\n",
       " 'percentDailyValue': '4',\n",
       " 'unit': 'kcal',\n",
       " 'name': 'Calories'}"
      ]
     },
     "execution_count": 44,
     "metadata": {},
     "output_type": "execute_result"
    }
   ],
   "source": [
    "nutrition_json['nutrition']['calories']"
   ]
  },
  {
   "cell_type": "code",
   "execution_count": 45,
   "metadata": {},
   "outputs": [],
   "source": [
    "for nutrient in sorted(nutrition_json['nutrition'].keys()):\n",
    "    learning_matrix[nutrient]=learning_matrix[nutrient].apply(lambda x: get_value(x, 'percentDailyValue'))"
   ]
  },
  {
   "cell_type": "code",
   "execution_count": 46,
   "metadata": {},
   "outputs": [],
   "source": [
    "learning_matrix['calories_amount'] = recipes_data['calories'].apply(lambda x: x['amount'])"
   ]
  },
  {
   "cell_type": "code",
   "execution_count": 47,
   "metadata": {},
   "outputs": [
    {
     "data": {
      "text/plain": [
       "id\n",
       "100008      13.66250\n",
       "10001      357.61040\n",
       "100011     482.08900\n",
       "10002      199.99550\n",
       "10003      116.26870\n",
       "100033     275.65340\n",
       "10004      108.14520\n",
       "100056      73.29222\n",
       "10006      236.86270\n",
       "10009       58.92594\n",
       "100094     148.09300\n",
       "100095     205.65170\n",
       "10010      128.75680\n",
       "10011      103.09400\n",
       "100117     210.46820\n",
       "100118     129.40380\n",
       "10013      209.88960\n",
       "100161    1162.70900\n",
       "100164     368.80000\n",
       "10017      792.50200\n",
       "100182     186.39780\n",
       "10019      587.89950\n",
       "100195     325.21610\n",
       "10021      154.25360\n",
       "100218     221.11030\n",
       "10022      100.85230\n",
       "10023      447.44390\n",
       "10024      313.83910\n",
       "10025      121.72650\n",
       "10026      294.30170\n",
       "             ...    \n",
       "99795      155.87810\n",
       "9980       239.99690\n",
       "9981       127.43150\n",
       "99816      207.18560\n",
       "9983       187.09510\n",
       "99837      245.13500\n",
       "9984        74.08887\n",
       "99843      292.53730\n",
       "9985        93.52555\n",
       "99851      752.76200\n",
       "99855      286.44330\n",
       "9986       230.38550\n",
       "99870      518.83690\n",
       "99873      427.98140\n",
       "9988       106.88580\n",
       "9989       160.17960\n",
       "9990       549.58330\n",
       "9991       313.06580\n",
       "99915      624.84330\n",
       "99919      253.01580\n",
       "9992        93.25186\n",
       "9993       309.81880\n",
       "9994        58.50798\n",
       "99951      278.43870\n",
       "99954      200.48660\n",
       "9996       245.70020\n",
       "99964      263.34930\n",
       "99970      325.45030\n",
       "9998       393.75670\n",
       "9999       531.53310\n",
       "Name: calories_amount, Length: 44065, dtype: float64"
      ]
     },
     "execution_count": 47,
     "metadata": {},
     "output_type": "execute_result"
    }
   ],
   "source": [
    "learning_matrix['calories_amount']"
   ]
  },
  {
   "cell_type": "code",
   "execution_count": 48,
   "metadata": {},
   "outputs": [],
   "source": [
    "learning_matrix['ingredients'] = learning_matrix['ingredients'].apply(lambda x: len(x))"
   ]
  },
  {
   "cell_type": "code",
   "execution_count": 49,
   "metadata": {},
   "outputs": [],
   "source": [
    "def clean_time(x):\n",
    "    time={}\n",
    "    try:\n",
    "        parts = x.split(' ')\n",
    "        m = parts.index('m')\n",
    "        time.update({'m':int(parts[m-1])})\n",
    "        try:\n",
    "            h = parts.index('h')\n",
    "            time.update({'h':int(parts[h-1])})\n",
    "        except:\n",
    "            return time['m']\n",
    "        try:   \n",
    "            d = parts.index('d')\n",
    "            time.update({'d':int(parts[d-1])})\n",
    "        except:\n",
    "            return time['h']*60+time['m']\n",
    "        return time[d] * 24*60 + time['h']*60 + time['m']\n",
    "    except:\n",
    "        return None"
   ]
  },
  {
   "cell_type": "code",
   "execution_count": 50,
   "metadata": {},
   "outputs": [],
   "source": [
    "learning_matrix['total_time'] = learning_matrix['total_time'].apply(lambda x: clean_time(x))"
   ]
  },
  {
   "cell_type": "code",
   "execution_count": 51,
   "metadata": {},
   "outputs": [],
   "source": [
    "learning_matrix['instructions'] = learning_matrix['instructions'].apply(lambda x: len(x))"
   ]
  },
  {
   "cell_type": "code",
   "execution_count": 52,
   "metadata": {},
   "outputs": [
    {
     "data": {
      "text/html": [
       "<div>\n",
       "<style scoped>\n",
       "    .dataframe tbody tr th:only-of-type {\n",
       "        vertical-align: middle;\n",
       "    }\n",
       "\n",
       "    .dataframe tbody tr th {\n",
       "        vertical-align: top;\n",
       "    }\n",
       "\n",
       "    .dataframe thead th {\n",
       "        text-align: right;\n",
       "    }\n",
       "</style>\n",
       "<table border=\"1\" class=\"dataframe\">\n",
       "  <thead>\n",
       "    <tr style=\"text-align: right;\">\n",
       "      <th></th>\n",
       "      <th>total_time</th>\n",
       "      <th>ingredients</th>\n",
       "      <th>instructions</th>\n",
       "      <th>health_score</th>\n",
       "      <th>calcium</th>\n",
       "      <th>calories</th>\n",
       "      <th>caloriesFromFat</th>\n",
       "      <th>carbohydrates</th>\n",
       "      <th>cholesterol</th>\n",
       "      <th>fat</th>\n",
       "      <th>...</th>\n",
       "      <th>potassium</th>\n",
       "      <th>protein</th>\n",
       "      <th>saturatedFat</th>\n",
       "      <th>sodium</th>\n",
       "      <th>sugars</th>\n",
       "      <th>thiamin</th>\n",
       "      <th>vitaminA</th>\n",
       "      <th>vitaminB6</th>\n",
       "      <th>vitaminC</th>\n",
       "      <th>calories_amount</th>\n",
       "    </tr>\n",
       "    <tr>\n",
       "      <th>id</th>\n",
       "      <th></th>\n",
       "      <th></th>\n",
       "      <th></th>\n",
       "      <th></th>\n",
       "      <th></th>\n",
       "      <th></th>\n",
       "      <th></th>\n",
       "      <th></th>\n",
       "      <th></th>\n",
       "      <th></th>\n",
       "      <th></th>\n",
       "      <th></th>\n",
       "      <th></th>\n",
       "      <th></th>\n",
       "      <th></th>\n",
       "      <th></th>\n",
       "      <th></th>\n",
       "      <th></th>\n",
       "      <th></th>\n",
       "      <th></th>\n",
       "      <th></th>\n",
       "    </tr>\n",
       "  </thead>\n",
       "  <tbody>\n",
       "    <tr>\n",
       "      <th>100008</th>\n",
       "      <td>45.0</td>\n",
       "      <td>4</td>\n",
       "      <td>3</td>\n",
       "      <td>4</td>\n",
       "      <td>0.0</td>\n",
       "      <td>0.0</td>\n",
       "      <td>0</td>\n",
       "      <td>1.0</td>\n",
       "      <td>0.0</td>\n",
       "      <td>0.0</td>\n",
       "      <td>...</td>\n",
       "      <td>0.0</td>\n",
       "      <td>0.0</td>\n",
       "      <td>0.0</td>\n",
       "      <td>3.0</td>\n",
       "      <td>0.0</td>\n",
       "      <td>0.0</td>\n",
       "      <td>0.0</td>\n",
       "      <td>0.0</td>\n",
       "      <td>0.0</td>\n",
       "      <td>13.6625</td>\n",
       "    </tr>\n",
       "    <tr>\n",
       "      <th>10001</th>\n",
       "      <td>NaN</td>\n",
       "      <td>9</td>\n",
       "      <td>5</td>\n",
       "      <td>8</td>\n",
       "      <td>12.0</td>\n",
       "      <td>18.0</td>\n",
       "      <td>0</td>\n",
       "      <td>11.0</td>\n",
       "      <td>34.0</td>\n",
       "      <td>35.0</td>\n",
       "      <td>...</td>\n",
       "      <td>4.0</td>\n",
       "      <td>12.0</td>\n",
       "      <td>54.0</td>\n",
       "      <td>8.0</td>\n",
       "      <td>0.0</td>\n",
       "      <td>23.0</td>\n",
       "      <td>11.0</td>\n",
       "      <td>5.0</td>\n",
       "      <td>0.0</td>\n",
       "      <td>357.6104</td>\n",
       "    </tr>\n",
       "    <tr>\n",
       "      <th>100011</th>\n",
       "      <td>NaN</td>\n",
       "      <td>10</td>\n",
       "      <td>2</td>\n",
       "      <td>7</td>\n",
       "      <td>8.0</td>\n",
       "      <td>24.0</td>\n",
       "      <td>0</td>\n",
       "      <td>9.0</td>\n",
       "      <td>26.0</td>\n",
       "      <td>41.0</td>\n",
       "      <td>...</td>\n",
       "      <td>24.0</td>\n",
       "      <td>66.0</td>\n",
       "      <td>42.0</td>\n",
       "      <td>54.0</td>\n",
       "      <td>0.0</td>\n",
       "      <td>96.0</td>\n",
       "      <td>0.0</td>\n",
       "      <td>46.0</td>\n",
       "      <td>11.0</td>\n",
       "      <td>482.0890</td>\n",
       "    </tr>\n",
       "    <tr>\n",
       "      <th>10002</th>\n",
       "      <td>NaN</td>\n",
       "      <td>9</td>\n",
       "      <td>4</td>\n",
       "      <td>6</td>\n",
       "      <td>2.0</td>\n",
       "      <td>10.0</td>\n",
       "      <td>0</td>\n",
       "      <td>7.0</td>\n",
       "      <td>4.0</td>\n",
       "      <td>18.0</td>\n",
       "      <td>...</td>\n",
       "      <td>2.0</td>\n",
       "      <td>7.0</td>\n",
       "      <td>14.0</td>\n",
       "      <td>5.0</td>\n",
       "      <td>0.0</td>\n",
       "      <td>8.0</td>\n",
       "      <td>0.0</td>\n",
       "      <td>4.0</td>\n",
       "      <td>0.0</td>\n",
       "      <td>199.9955</td>\n",
       "    </tr>\n",
       "    <tr>\n",
       "      <th>10003</th>\n",
       "      <td>35.0</td>\n",
       "      <td>5</td>\n",
       "      <td>3</td>\n",
       "      <td>6</td>\n",
       "      <td>0.0</td>\n",
       "      <td>6.0</td>\n",
       "      <td>0</td>\n",
       "      <td>4.0</td>\n",
       "      <td>7.0</td>\n",
       "      <td>12.0</td>\n",
       "      <td>...</td>\n",
       "      <td>0.0</td>\n",
       "      <td>2.0</td>\n",
       "      <td>24.0</td>\n",
       "      <td>2.0</td>\n",
       "      <td>0.0</td>\n",
       "      <td>6.0</td>\n",
       "      <td>5.0</td>\n",
       "      <td>0.0</td>\n",
       "      <td>0.0</td>\n",
       "      <td>116.2687</td>\n",
       "    </tr>\n",
       "  </tbody>\n",
       "</table>\n",
       "<p>5 rows × 25 columns</p>\n",
       "</div>"
      ],
      "text/plain": [
       "        total_time  ingredients  instructions  health_score  calcium  \\\n",
       "id                                                                     \n",
       "100008        45.0            4             3             4      0.0   \n",
       "10001          NaN            9             5             8     12.0   \n",
       "100011         NaN           10             2             7      8.0   \n",
       "10002          NaN            9             4             6      2.0   \n",
       "10003         35.0            5             3             6      0.0   \n",
       "\n",
       "        calories  caloriesFromFat  carbohydrates  cholesterol   fat  \\\n",
       "id                                                                    \n",
       "100008       0.0                0            1.0          0.0   0.0   \n",
       "10001       18.0                0           11.0         34.0  35.0   \n",
       "100011      24.0                0            9.0         26.0  41.0   \n",
       "10002       10.0                0            7.0          4.0  18.0   \n",
       "10003        6.0                0            4.0          7.0  12.0   \n",
       "\n",
       "             ...         potassium  protein  saturatedFat  sodium  sugars  \\\n",
       "id           ...                                                            \n",
       "100008       ...               0.0      0.0           0.0     3.0     0.0   \n",
       "10001        ...               4.0     12.0          54.0     8.0     0.0   \n",
       "100011       ...              24.0     66.0          42.0    54.0     0.0   \n",
       "10002        ...               2.0      7.0          14.0     5.0     0.0   \n",
       "10003        ...               0.0      2.0          24.0     2.0     0.0   \n",
       "\n",
       "        thiamin  vitaminA  vitaminB6  vitaminC  calories_amount  \n",
       "id                                                               \n",
       "100008      0.0       0.0        0.0       0.0          13.6625  \n",
       "10001      23.0      11.0        5.0       0.0         357.6104  \n",
       "100011     96.0       0.0       46.0      11.0         482.0890  \n",
       "10002       8.0       0.0        4.0       0.0         199.9955  \n",
       "10003       6.0       5.0        0.0       0.0         116.2687  \n",
       "\n",
       "[5 rows x 25 columns]"
      ]
     },
     "execution_count": 52,
     "metadata": {},
     "output_type": "execute_result"
    }
   ],
   "source": [
    "learning_matrix.head()"
   ]
  },
  {
   "cell_type": "code",
   "execution_count": 53,
   "metadata": {},
   "outputs": [],
   "source": [
    "learning_matrix['total_time'].fillna(method='ffill', inplace=True)"
   ]
  },
  {
   "cell_type": "code",
   "execution_count": 54,
   "metadata": {},
   "outputs": [],
   "source": [
    "X, y = learning_matrix.loc[:, learning_matrix.columns != 'health_score'],learning_matrix['health_score']"
   ]
  },
  {
   "cell_type": "code",
   "execution_count": 58,
   "metadata": {},
   "outputs": [],
   "source": [
    "from sklearn.model_selection import train_test_split"
   ]
  },
  {
   "cell_type": "code",
   "execution_count": 66,
   "metadata": {},
   "outputs": [],
   "source": [
    "X_train, X_test, y_train, y_test = train_test_split(\n",
    "    quantity_map, recipes_copy['health_score'], test_size=0.25, random_state=42)"
   ]
  },
  {
   "cell_type": "code",
   "execution_count": 60,
   "metadata": {},
   "outputs": [],
   "source": [
    "from sklearn.ensemble import RandomForestClassifier"
   ]
  },
  {
   "cell_type": "code",
   "execution_count": 83,
   "metadata": {},
   "outputs": [
    {
     "data": {
      "text/plain": [
       "RandomForestClassifier(bootstrap=True, class_weight=None, criterion='gini',\n",
       "            max_depth=50, max_features='auto', max_leaf_nodes=None,\n",
       "            min_impurity_decrease=0.0, min_impurity_split=None,\n",
       "            min_samples_leaf=1, min_samples_split=2,\n",
       "            min_weight_fraction_leaf=0.0, n_estimators=100, n_jobs=-1,\n",
       "            oob_score=False, random_state=None, verbose=0,\n",
       "            warm_start=False)"
      ]
     },
     "execution_count": 83,
     "metadata": {},
     "output_type": "execute_result"
    }
   ],
   "source": [
    "clf = RandomForestClassifier(max_depth=50, n_estimators=100, n_jobs=-1)\n",
    "clf"
   ]
  },
  {
   "cell_type": "code",
   "execution_count": 84,
   "metadata": {},
   "outputs": [
    {
     "data": {
      "text/plain": [
       "RandomForestClassifier(bootstrap=True, class_weight=None, criterion='gini',\n",
       "            max_depth=50, max_features='auto', max_leaf_nodes=None,\n",
       "            min_impurity_decrease=0.0, min_impurity_split=None,\n",
       "            min_samples_leaf=1, min_samples_split=2,\n",
       "            min_weight_fraction_leaf=0.0, n_estimators=100, n_jobs=-1,\n",
       "            oob_score=False, random_state=None, verbose=0,\n",
       "            warm_start=False)"
      ]
     },
     "execution_count": 84,
     "metadata": {},
     "output_type": "execute_result"
    }
   ],
   "source": [
    "clf.fit(X_train,y_train)"
   ]
  },
  {
   "cell_type": "code",
   "execution_count": 85,
   "metadata": {},
   "outputs": [],
   "source": [
    "predictions = clf.predict(X_test)"
   ]
  },
  {
   "cell_type": "code",
   "execution_count": 86,
   "metadata": {},
   "outputs": [
    {
     "data": {
      "text/plain": [
       "array([ 0.02378586,  0.01918027,  0.01363268,  0.02629927,  0.09602456,\n",
       "        0.        ,  0.08680962,  0.03947474,  0.12498344,  0.0229466 ,\n",
       "        0.03013321,  0.03127189,  0.02195384,  0.03473557,  0.02280874,\n",
       "        0.03528543,  0.18088652,  0.08943181,  0.        ,  0.02421863,\n",
       "        0.02626299,  0.02530876,  0.02456556])"
      ]
     },
     "execution_count": 86,
     "metadata": {},
     "output_type": "execute_result"
    }
   ],
   "source": [
    "clf.feature_importances_"
   ]
  },
  {
   "cell_type": "code",
   "execution_count": 57,
   "metadata": {},
   "outputs": [],
   "source": [
    "from sklearn.metrics import mean_absolute_error, mean_squared_error"
   ]
  },
  {
   "cell_type": "code",
   "execution_count": 69,
   "metadata": {},
   "outputs": [],
   "source": [
    "from sklearn.preprocessing import RobustScaler"
   ]
  },
  {
   "cell_type": "code",
   "execution_count": 70,
   "metadata": {},
   "outputs": [],
   "source": [
    "rb = RobustScaler()"
   ]
  },
  {
   "cell_type": "code",
   "execution_count": null,
   "metadata": {},
   "outputs": [],
   "source": [
    "a"
   ]
  },
  {
   "cell_type": "code",
   "execution_count": 74,
   "metadata": {},
   "outputs": [
    {
     "name": "stdout",
     "output_type": "stream",
     "text": [
      "CPU times: user 0 ns, sys: 0 ns, total: 0 ns\n",
      "Wall time: 16.5 µs\n"
     ]
    },
    {
     "data": {
      "text/plain": [
       "ElasticNet(alpha=0.0001, copy_X=True, fit_intercept=True, l1_ratio=0.5,\n",
       "      max_iter=1000, normalize=False, positive=False, precompute=False,\n",
       "      random_state=None, selection='cyclic', tol=1e-05, warm_start=False)"
      ]
     },
     "execution_count": 74,
     "metadata": {},
     "output_type": "execute_result"
    }
   ],
   "source": [
    "%time \n",
    "from sklearn.linear_model import ElasticNet\n",
    "en=ElasticNet(tol = 1e-4, alpha = 1e-4, fit_intercept=)\n",
    "en.fit(rb.fit_transform(X_train),y_train)"
   ]
  },
  {
   "cell_type": "code",
   "execution_count": 75,
   "metadata": {},
   "outputs": [],
   "source": [
    "predictions = en.predict(rb.transform(X_test))"
   ]
  },
  {
   "cell_type": "code",
   "execution_count": 76,
   "metadata": {},
   "outputs": [
    {
     "name": "stdout",
     "output_type": "stream",
     "text": [
      "MAE: 1.7184833325772026\n",
      "MSE: 387.10349812581904\n"
     ]
    }
   ],
   "source": [
    "print(\"MAE:\", mean_absolute_error(y_test, predictions))\n",
    "print(\"MSE:\", mean_squared_error(y_test, predictions))\n"
   ]
  },
  {
   "cell_type": "code",
   "execution_count": 100,
   "metadata": {},
   "outputs": [],
   "source": [
    "from scipy.linalg import norm\n",
    "def simple_cosine_sim(a, b):\n",
    "    if len(b) < len(a):\n",
    "        a, b = b, a\n",
    "\n",
    "    res = 0\n",
    "    for key, a_value in a.items():\n",
    "        res += a_value * b.get(key, 0)\n",
    "    if res == 0:\n",
    "        return 0\n",
    "\n",
    "    try:\n",
    "        res = res / norm(list(a.values())) / norm(list(b.values()))\n",
    "    except ZeroDivisionError:\n",
    "        res = 0\n",
    "    return res \n",
    "\n",
    "def recipe_similarity(recipe_a, recipe_b):\n",
    "    d1 = build_recipe_vector(recipe_a, unit_converter)\n",
    "    d2 = build_recipe_vector(recipe_b, unit_converter)\n",
    "    #return cosine_distance(d1,d2)\n",
    "    return simple_cosine_sim(d1,d2)"
   ]
  },
  {
   "cell_type": "code",
   "execution_count": 92,
   "metadata": {},
   "outputs": [],
   "source": [
    "import math\n",
    "def cosine_sim(a, b):\n",
    "    mutual = set(a).intersection(set(b))\n",
    "    a_serie= pd.Series(list(set(a).intersection(mutual)))\n",
    "    b_serie= pd.Series(list(set(b).intersection(mutual)))\n",
    "    return 1 - cosine(a_serie, b_serie)\n",
    "\n",
    "def cosine_distance(recipe1,recipe2):\n",
    "        sumxx, sumxy, sumyy = 0, 0, 0\n",
    "        commonIngredient = False\n",
    "        for key in recipe1:\n",
    "            if key in recipe2:\n",
    "                x = recipe1[key]\n",
    "                y = recipe2[key]                \n",
    "                sumxx += x*x\n",
    "                sumyy += y*y\n",
    "                sumxy += x*y\n",
    "                commonIngredient = True\n",
    "        if commonIngredient: return sumxy/math.sqrt(sumxx*sumyy)\n",
    "        else: return 0\n",
    "\n",
    "def recipe_similarity(recipe_a, recipe_b):\n",
    "    d1 = build_recipe_vector(recipe_a, unit_converter)\n",
    "    d2 = build_recipe_vector(recipe_b, unit_converter)\n",
    "    #return cosine_distance(d1,d2)\n",
    "    return simple_cosine_sim(d1,d2)"
   ]
  },
  {
   "cell_type": "code",
   "execution_count": 93,
   "metadata": {},
   "outputs": [
    {
     "data": {
      "text/plain": [
       "['Preheat oven to 400 degrees F (200 degrees C).',\n",
       " 'Beat together white and brown sugars, butter and shortening until light and fluffy. Beat in eggs, vanilla and lemon extract to mix well.',\n",
       " 'Sift together nutmeg, flour, baking powder, cream of tartar, salt and soda. Add alternately with buttermilk to creamed mixture.',\n",
       " 'Drop tablespoonfuls of dough 2 1/2 inches apart onto greased baking sheet. With the back of the spoon, spread round and round making the outer edge of the cookies a little thicker than the center. Sprinkle generously with the reserved white sugar and place a fat raisin in the center of each cookie.',\n",
       " 'Bake about 10 minutes. For softer cookies, bake in hot oven (425 degrees F (220 degrees C)) for about 8 minutes or until no indentation remains when you touch the center of the cookie with your fingertip. Remove cookies and cool on racks.']"
      ]
     },
     "execution_count": 93,
     "metadata": {},
     "output_type": "execute_result"
    }
   ],
   "source": [
    "recipes_data.at[10006,'instructions']"
   ]
  },
  {
   "cell_type": "code",
   "execution_count": 94,
   "metadata": {},
   "outputs": [],
   "source": [
    "import collections"
   ]
  },
  {
   "cell_type": "code",
   "execution_count": 96,
   "metadata": {},
   "outputs": [
    {
     "name": "stdout",
     "output_type": "stream",
     "text": [
      "/Users/bojanarankovic/anaconda3/lib/python3.6/re.py:212: FutureWarning: split() requires a non-empty pattern match.\n",
      "  return _compile(pattern, flags).split(string, maxsplit)\n",
      "/Users/bojanarankovic/anaconda3/lib/python3.6/re.py:212: FutureWarning: split() requires a non-empty pattern match.\n",
      "  return _compile(pattern, flags).split(string, maxsplit)\n"
     ]
    },
    {
     "data": {
      "text/plain": [
       "(OrderedDict([('1417', 25.0),\n",
       "              ('1526', 100.0),\n",
       "              ('16317', 4.0),\n",
       "              ('16339', 100.0),\n",
       "              ('16386', 50.0),\n",
       "              ('16421', 25.0),\n",
       "              ('1684', 200.0),\n",
       "              ('2356', 100.0),\n",
       "              ('3797', 75.0)]),\n",
       " OrderedDict([('1525', 100.0),\n",
       "              ('1526', 100.0),\n",
       "              ('16157', 50.0),\n",
       "              ('16287', 100.0),\n",
       "              ('16317', 2.0),\n",
       "              ('16401', 100.0),\n",
       "              ('16421', 75.0),\n",
       "              ('16424', 100.0),\n",
       "              ('1684', 350.0),\n",
       "              ('20209', 50.0),\n",
       "              ('2356', 200.0),\n",
       "              ('2359', 75.0),\n",
       "              ('2360', 100.0),\n",
       "              ('5219', 50.0),\n",
       "              ('6300', 50.0)]))"
      ]
     },
     "execution_count": 96,
     "metadata": {},
     "output_type": "execute_result"
    }
   ],
   "source": [
    "x,y = build_recipe_vector(10001, unit_converter), build_recipe_vector(10006, unit_converter)\n",
    "collections.OrderedDict(sorted(x.items())), collections.OrderedDict(sorted(y.items()))"
   ]
  },
  {
   "cell_type": "code",
   "execution_count": 97,
   "metadata": {},
   "outputs": [
    {
     "name": "stdout",
     "output_type": "stream",
     "text": [
      "/Users/bojanarankovic/anaconda3/lib/python3.6/re.py:212: FutureWarning: split() requires a non-empty pattern match.\n",
      "  return _compile(pattern, flags).split(string, maxsplit)\n",
      "/Users/bojanarankovic/anaconda3/lib/python3.6/re.py:212: FutureWarning: split() requires a non-empty pattern match.\n",
      "  return _compile(pattern, flags).split(string, maxsplit)\n"
     ]
    },
    {
     "data": {
      "text/plain": [
       "0.011821689726054959"
      ]
     },
     "execution_count": 97,
     "metadata": {},
     "output_type": "execute_result"
    }
   ],
   "source": [
    "recipe_similarity(6675,6685)"
   ]
  },
  {
   "cell_type": "code",
   "execution_count": 51,
   "metadata": {},
   "outputs": [],
   "source": [
    "import matplotlib.pyplot as plt\n"
   ]
  },
  {
   "cell_type": "code",
   "execution_count": 99,
   "metadata": {},
   "outputs": [],
   "source": [
    "recipe10006, recipe10001 = load_recipe(10006), load_recipe(10001)"
   ]
  },
  {
   "cell_type": "code",
   "execution_count": 100,
   "metadata": {
    "scrolled": true
   },
   "outputs": [
    {
     "data": {
      "text/plain": [
       "{'cook_time': None,\n",
       " 'description': '\\r\\n\"Old and young alike love these big, moist cookies, they are good \"keepers\". They stay soft for days if properly stored in an air-tight container. I think the buttermilk is the key ingredient.\"        ',\n",
       " 'featured_in_magazine': False,\n",
       " 'ingredients': [{'id': '1526', 'text': '1 cup white sugar'},\n",
       "  {'id': '1525', 'text': '1 cup packed brown sugar'},\n",
       "  {'id': '16157', 'text': '1/2 cup butter, softened'},\n",
       "  {'id': '6300', 'text': '1/2 cup shortening'},\n",
       "  {'id': '16317', 'text': '2 eggs'},\n",
       "  {'id': '16424', 'text': '1 teaspoon vanilla extract'},\n",
       "  {'id': '20209', 'text': '1/2 teaspoon lemon extract'},\n",
       "  {'id': '16401', 'text': '1 teaspoon ground nutmeg'},\n",
       "  {'id': '1684', 'text': '3 1/2 cups sifted all-purpose flour'},\n",
       "  {'id': '2356', 'text': '2 teaspoons baking powder'},\n",
       "  {'id': '2360', 'text': '1 teaspoon cream of tartar'},\n",
       "  {'id': '16421', 'text': '3/4 teaspoon salt'},\n",
       "  {'id': '2359', 'text': '3/4 teaspoon baking soda'},\n",
       "  {'id': '16287', 'text': '1 cup buttermilk'},\n",
       "  {'id': '1526', 'text': '1/3 cup white sugar'},\n",
       "  {'id': '5219', 'text': '1/2 cup raisins'}],\n",
       " 'instructions': ['Preheat oven to 400 degrees F (200 degrees C).',\n",
       "  'Beat together white and brown sugars, butter and shortening until light and fluffy. Beat in eggs, vanilla and lemon extract to mix well.',\n",
       "  'Sift together nutmeg, flour, baking powder, cream of tartar, salt and soda. Add alternately with buttermilk to creamed mixture.',\n",
       "  'Drop tablespoonfuls of dough 2 1/2 inches apart onto greased baking sheet. With the back of the spoon, spread round and round making the outer edge of the cookies a little thicker than the center. Sprinkle generously with the reserved white sugar and place a fat raisin in the center of each cookie.',\n",
       "  'Bake about 10 minutes. For softer cookies, bake in hot oven (425 degrees F (220 degrees C)) for about 8 minutes or until no indentation remains when you touch the center of the cookie with your fingertip. Remove cookies and cool on racks.'],\n",
       " 'made_it_count': '0',\n",
       " 'nutri_facts': {'calories': '237 kcal',\n",
       "  'carbohydrateContent': '37.2g',\n",
       "  'cholesterolContent': '26 mg',\n",
       "  'fatContent': '8.8 g',\n",
       "  'proteinContent': '2.9 g',\n",
       "  'sodiumContent': '200 mg'},\n",
       " 'photos_count': '3',\n",
       " 'prep_time': None,\n",
       " 'ready_time': None,\n",
       " 'reviews_count': '6',\n",
       " 'stars_rate': ['75', '0', '0', '0', '25']}"
      ]
     },
     "execution_count": 100,
     "metadata": {},
     "output_type": "execute_result"
    }
   ],
   "source": [
    "recipe10006"
   ]
  },
  {
   "cell_type": "code",
   "execution_count": 101,
   "metadata": {},
   "outputs": [
    {
     "data": {
      "text/plain": [
       "{'cook_time': None,\n",
       " 'description': '\\r\\n\"These are thin waferlike cookies and you must have a pizzelle iron to make them.  The Italians call them \"Pizzelle Alle Nocciole\".\"        ',\n",
       " 'featured_in_magazine': False,\n",
       " 'ingredients': [{'id': '16317', 'text': '4 eggs'},\n",
       "  {'id': '1417', 'text': '1/4 cup cocoa powder'},\n",
       "  {'id': '1526', 'text': '1 cup white sugar'},\n",
       "  {'id': '16386', 'text': '1/2 teaspoon ground cinnamon'},\n",
       "  {'id': '16421', 'text': '1/4 teaspoon salt'},\n",
       "  {'id': '2356', 'text': '1 tablespoon baking powder'},\n",
       "  {'id': '16339', 'text': '1 cup unsalted butter'},\n",
       "  {'id': '3797', 'text': '3/4 cup ground hazelnuts'},\n",
       "  {'id': '1684', 'text': '2 cups all-purpose flour'}],\n",
       " 'instructions': ['Whisk the eggs with the sugar and salt until light. Melt the butter and stir in.',\n",
       "  'Sift together all the remaining ingredients except the hazelnuts and fold in.',\n",
       "  'Stir in the hazelnuts last.',\n",
       "  'Heat Pizzelle iron and place 1 teaspoon of batter on each imprint. Close iron and bake 30 seconds.',\n",
       "  'Cool on racks. Sprinkle with powdered sugar.'],\n",
       " 'made_it_count': '4',\n",
       " 'nutri_facts': {'calories': '358 kcal',\n",
       "  'carbohydrateContent': '35.5g',\n",
       "  'cholesterolContent': '103 mg',\n",
       "  'fatContent': '22.6 g',\n",
       "  'proteinContent': '6 g',\n",
       "  'sodiumContent': '197 mg'},\n",
       " 'photos_count': '8',\n",
       " 'prep_time': None,\n",
       " 'ready_time': None,\n",
       " 'reviews_count': '13',\n",
       " 'stars_rate': ['66', '13', '20', '0', '0']}"
      ]
     },
     "execution_count": 101,
     "metadata": {},
     "output_type": "execute_result"
    }
   ],
   "source": [
    "recipe10001"
   ]
  },
  {
   "cell_type": "code",
   "execution_count": 102,
   "metadata": {},
   "outputs": [
    {
     "name": "stdout",
     "output_type": "stream",
     "text": [
      "/Users/bojanarankovic/anaconda3/lib/python3.6/re.py:212: FutureWarning: split() requires a non-empty pattern match.\n",
      "  return _compile(pattern, flags).split(string, maxsplit)\n",
      "/Users/bojanarankovic/anaconda3/lib/python3.6/re.py:212: FutureWarning: split() requires a non-empty pattern match.\n",
      "  return _compile(pattern, flags).split(string, maxsplit)\n",
      "/Users/bojanarankovic/anaconda3/lib/python3.6/re.py:212: FutureWarning: split() requires a non-empty pattern match.\n",
      "  return _compile(pattern, flags).split(string, maxsplit)\n",
      "/Users/bojanarankovic/anaconda3/lib/python3.6/re.py:212: FutureWarning: split() requires a non-empty pattern match.\n",
      "  return _compile(pattern, flags).split(string, maxsplit)\n",
      "/Users/bojanarankovic/anaconda3/lib/python3.6/re.py:212: FutureWarning: split() requires a non-empty pattern match.\n",
      "  return _compile(pattern, flags).split(string, maxsplit)\n",
      "/Users/bojanarankovic/anaconda3/lib/python3.6/re.py:212: FutureWarning: split() requires a non-empty pattern match.\n",
      "  return _compile(pattern, flags).split(string, maxsplit)\n",
      "/Users/bojanarankovic/anaconda3/lib/python3.6/re.py:212: FutureWarning: split() requires a non-empty pattern match.\n",
      "  return _compile(pattern, flags).split(string, maxsplit)\n",
      "/Users/bojanarankovic/anaconda3/lib/python3.6/re.py:212: FutureWarning: split() requires a non-empty pattern match.\n",
      "  return _compile(pattern, flags).split(string, maxsplit)\n",
      "/Users/bojanarankovic/anaconda3/lib/python3.6/re.py:212: FutureWarning: split() requires a non-empty pattern match.\n",
      "  return _compile(pattern, flags).split(string, maxsplit)\n",
      "/Users/bojanarankovic/anaconda3/lib/python3.6/re.py:212: FutureWarning: split() requires a non-empty pattern match.\n",
      "  return _compile(pattern, flags).split(string, maxsplit)\n",
      "/Users/bojanarankovic/anaconda3/lib/python3.6/re.py:212: FutureWarning: split() requires a non-empty pattern match.\n",
      "  return _compile(pattern, flags).split(string, maxsplit)\n",
      "/Users/bojanarankovic/anaconda3/lib/python3.6/re.py:212: FutureWarning: split() requires a non-empty pattern match.\n",
      "  return _compile(pattern, flags).split(string, maxsplit)\n",
      "/Users/bojanarankovic/anaconda3/lib/python3.6/re.py:212: FutureWarning: split() requires a non-empty pattern match.\n",
      "  return _compile(pattern, flags).split(string, maxsplit)\n",
      "/Users/bojanarankovic/anaconda3/lib/python3.6/re.py:212: FutureWarning: split() requires a non-empty pattern match.\n",
      "  return _compile(pattern, flags).split(string, maxsplit)\n",
      "/Users/bojanarankovic/anaconda3/lib/python3.6/re.py:212: FutureWarning: split() requires a non-empty pattern match.\n",
      "  return _compile(pattern, flags).split(string, maxsplit)\n",
      "/Users/bojanarankovic/anaconda3/lib/python3.6/re.py:212: FutureWarning: split() requires a non-empty pattern match.\n",
      "  return _compile(pattern, flags).split(string, maxsplit)\n",
      "/Users/bojanarankovic/anaconda3/lib/python3.6/re.py:212: FutureWarning: split() requires a non-empty pattern match.\n",
      "  return _compile(pattern, flags).split(string, maxsplit)\n",
      "/Users/bojanarankovic/anaconda3/lib/python3.6/re.py:212: FutureWarning: split() requires a non-empty pattern match.\n",
      "  return _compile(pattern, flags).split(string, maxsplit)\n",
      "/Users/bojanarankovic/anaconda3/lib/python3.6/re.py:212: FutureWarning: split() requires a non-empty pattern match.\n",
      "  return _compile(pattern, flags).split(string, maxsplit)\n",
      "/Users/bojanarankovic/anaconda3/lib/python3.6/re.py:212: FutureWarning: split() requires a non-empty pattern match.\n",
      "  return _compile(pattern, flags).split(string, maxsplit)\n"
     ]
    },
    {
     "data": {
      "image/png": "[encoded data removed]",
      "text/plain": [
       "<matplotlib.figure.Figure at 0x1ab594f5f8>"
      ]
     },
     "metadata": {},
     "output_type": "display_data"
    }
   ],
   "source": [
    "def cuisine_similarity_scores(recipe_to_compare, for_plot = True):\n",
    "    similarity_scores = {}\n",
    "    recipes = list(recipes_data.reset_index()['id'].unique())\n",
    "    if for_plot:\n",
    "        recipes.remove(recipe_to_compare) \n",
    "    for recipe in recipes[:10]:\n",
    "        similarity_scores.update({recipe:recipe_similarity(recipe_to_compare,recipe)})\n",
    "    return similarity_scores\n",
    "\n",
    "def plot_recipe_similarities(recipe):\n",
    "    \n",
    "    dataframe = pd.DataFrame.from_dict(cuisine_similarity_scores(recipe), orient='index')\n",
    "    dataframe.columns = ['score']\n",
    "    dataframe.nlargest(10,'score').plot(kind='bar',title = str.format('Recipe similarity for recipe id: {}',recipe))\n",
    "    plt.show()\n",
    "\n",
    "plot_recipe_similarities(10001)"
   ]
  },
  {
   "cell_type": "markdown",
   "metadata": {},
   "source": [
    "## Jaccard index"
   ]
  },
  {
   "cell_type": "code",
   "execution_count": 102,
   "metadata": {},
   "outputs": [
    {
     "name": "stdout",
     "output_type": "stream",
     "text": [
      "0.375\n"
     ]
    }
   ],
   "source": [
    "from math import*\n",
    "  \n",
    "def jaccard_similarity(x,y):\n",
    "    \n",
    "    intersection_cardinality = len(set.intersection(*[set(x), set(y)]))\n",
    "    union_cardinality = len(set.union(*[set(x), set(y)]))\n",
    "    return intersection_cardinality/float(union_cardinality)\n",
    "  \n",
    "print (jaccard_similarity([0,1,2,5,6],[0,2,3,5,7,9]))"
   ]
  },
  {
   "cell_type": "code",
   "execution_count": 52,
   "metadata": {},
   "outputs": [],
   "source": [
    "def build_ingredients_vector(recipe_id):\n",
    "    recipe_data = load_recipe(recipe_id)\n",
    "    return set([ingredient['id'] for ingredient in recipe_data['ingredients']])\n"
   ]
  },
  {
   "cell_type": "code",
   "execution_count": 53,
   "metadata": {},
   "outputs": [
    {
     "data": {
      "text/plain": [
       "{'1526', '18752', '18868', '4343'}"
      ]
     },
     "execution_count": 53,
     "metadata": {},
     "output_type": "execute_result"
    }
   ],
   "source": [
    "build_ingredients_vector(100008)"
   ]
  },
  {
   "cell_type": "code",
   "execution_count": 44,
   "metadata": {},
   "outputs": [
    {
     "data": {
      "text/plain": [
       "0.08333333333333333"
      ]
     },
     "execution_count": 44,
     "metadata": {},
     "output_type": "execute_result"
    }
   ],
   "source": [
    "jaccard_similarity(build_ingredients_vector(10001),build_ingredients_vector(100008))"
   ]
  },
  {
   "cell_type": "code",
   "execution_count": 135,
   "metadata": {
    "scrolled": true
   },
   "outputs": [],
   "source": [
    "def cuisine_similarity_scores(recipe_to_compare, for_plot = True):\n",
    "    similarity_scores = {}\n",
    "    recipe_to_compare_set = build_ingredients_vector(recipe_to_compare)\n",
    "    recipes = list(recipes_data.reset_index()['id'].unique())\n",
    "    if for_plot:\n",
    "        recipes.remove(recipe_to_compare) \n",
    "    for recipe in recipes:\n",
    "        recipe_set = build_ingredients_vector(recipe)\n",
    "        similarity_scores.update({recipe:jaccard_similarity(recipe_to_compare_set,recipe_set)})\n",
    "    return similarity_scores\n",
    "\n",
    "def most_similar_recipes(recipe_id, n=10, full=True):\n",
    "    \n",
    "    dataframe = pd.DataFrame.from_dict(cuisine_similarity_scores(recipe_id), orient='index')\n",
    "    dataframe.columns = ['score']\n",
    "    if full:\n",
    "        return dataframe\n",
    "    else:\n",
    "        return dataframe.nlargest(n,'score')\n",
    "    \n",
    "\n"
   ]
  },
  {
   "cell_type": "code",
   "execution_count": 368,
   "metadata": {},
   "outputs": [
    {
     "name": "stdout",
     "output_type": "stream",
     "text": [
      "3.81 s ± 363 ms per loop (mean ± std. dev. of 7 runs, 1 loop each)\n"
     ]
    }
   ],
   "source": [
    "\n",
    "%timeit similar_recipes = most_similar_recipes(10001)"
   ]
  },
  {
   "cell_type": "code",
   "execution_count": null,
   "metadata": {},
   "outputs": [],
   "source": []
  },
  {
   "cell_type": "code",
   "execution_count": 138,
   "metadata": {},
   "outputs": [
    {
     "data": {
      "image/png": "[encoded data removed]",
      "text/plain": [
       "<matplotlib.figure.Figure at 0x1ab6b6f438>"
      ]
     },
     "metadata": {},
     "output_type": "display_data"
    }
   ],
   "source": [
    "def plot_recipe_similarities(recipe_id, n=10):\n",
    "    \n",
    "    dataframe = most_similar_recipes(recipe_id)\n",
    "    dataframe.nlargest(n,'score').plot(kind='bar',title = str.format('Recipe similarity for recipe id: {}',recipe_id))\n",
    "    \n",
    "    plt.show()\n",
    "\n",
    "plot_recipe_similarities(10001)"
   ]
  },
  {
   "cell_type": "code",
   "execution_count": 139,
   "metadata": {},
   "outputs": [
    {
     "name": "stdout",
     "output_type": "stream",
     "text": [
      "/Users/bojanarankovic/anaconda3/lib/python3.6/re.py:212: FutureWarning: split() requires a non-empty pattern match.\n",
      "  return _compile(pattern, flags).split(string, maxsplit)\n",
      "/Users/bojanarankovic/anaconda3/lib/python3.6/re.py:212: FutureWarning: split() requires a non-empty pattern match.\n",
      "  return _compile(pattern, flags).split(string, maxsplit)\n"
     ]
    },
    {
     "data": {
      "text/plain": [
       "0.8086160867959538"
      ]
     },
     "execution_count": 139,
     "metadata": {},
     "output_type": "execute_result"
    }
   ],
   "source": [
    "recipe_similarity(10001,8255)"
   ]
  },
  {
   "cell_type": "code",
   "execution_count": 113,
   "metadata": {},
   "outputs": [
    {
     "data": {
      "text/plain": [
       "{'1526', '16317', '16339', '16386', '16421', '1684', '2356'}"
      ]
     },
     "execution_count": 113,
     "metadata": {},
     "output_type": "execute_result"
    }
   ],
   "source": [
    "build_ingredients_vector(10001).intersection(build_ingredients_vector(223399))"
   ]
  },
  {
   "cell_type": "code",
   "execution_count": 86,
   "metadata": {},
   "outputs": [
    {
     "data": {
      "text/plain": [
       "[{'text': '8 ounces fresh young ginger root, peeled', 'id': '4343'},\n",
       " {'text': '1 1/2 teaspoons sea salt', 'id': '18752'},\n",
       " {'text': '1 cup rice vinegar', 'id': '18868'},\n",
       " {'text': '1/3 cup white sugar', 'id': '1526'}]"
      ]
     },
     "execution_count": 86,
     "metadata": {},
     "output_type": "execute_result"
    }
   ],
   "source": [
    "recipes_data['ingredients'][100008]"
   ]
  },
  {
   "cell_type": "code",
   "execution_count": 378,
   "metadata": {},
   "outputs": [
    {
     "data": {
      "text/plain": [
       "44065"
      ]
     },
     "execution_count": 378,
     "metadata": {},
     "output_type": "execute_result"
    }
   ],
   "source": [
    "len(recipes_data['ingredients'])"
   ]
  },
  {
   "cell_type": "markdown",
   "metadata": {},
   "source": [
    "### Remove recipes with 0 id ingredient"
   ]
  },
  {
   "cell_type": "code",
   "execution_count": 106,
   "metadata": {},
   "outputs": [
    {
     "name": "stderr",
     "output_type": "stream",
     "text": [
      "100%|██████████| 44065/44065 [02:32<00:00, 288.74it/s]\n"
     ]
    }
   ],
   "source": [
    "all_ingredients_dict = {}\n",
    "zeros = []\n",
    "zeros_r = []\n",
    "recipes_copy = recipes_data.copy()\n",
    "for i in tqdm(range(len(recipe_ids))):\n",
    "    has_zero = False\n",
    "    for ingredient in recipes_data.at[recipes_data.index[i], 'ingredients']:\n",
    "        if ingredient['id'] == '0':\n",
    "            has_zero=True\n",
    "            zeros.append((i, ingredient['text']))\n",
    "        else:\n",
    "            all_ingredients_dict.update({ingredient['id']:ingredient['text']})\n",
    "    if has_zero:\n",
    "        recipes_copy = recipes_copy.drop(recipes_data.index[i])\n",
    "        "
   ]
  },
  {
   "cell_type": "code",
   "execution_count": 471,
   "metadata": {},
   "outputs": [],
   "source": [
    "recipes_copy.to_json('../data/recipes_clean.json')"
   ]
  },
  {
   "cell_type": "code",
   "execution_count": 64,
   "metadata": {},
   "outputs": [],
   "source": [
    "recipes_copy = pd.read_json('../data/recipes_clean.json')"
   ]
  },
  {
   "cell_type": "code",
   "execution_count": 107,
   "metadata": {},
   "outputs": [
    {
     "data": {
      "text/plain": [
       "(41797, 24)"
      ]
     },
     "execution_count": 107,
     "metadata": {},
     "output_type": "execute_result"
    }
   ],
   "source": [
    "recipes_copy.shape"
   ]
  },
  {
   "cell_type": "code",
   "execution_count": null,
   "metadata": {},
   "outputs": [],
   "source": [
    "recipes_data = pd.read_json('../data/recipes.json')\n",
    "columns = ['id','total_time','ingredients', 'instructions', 'health_score'] + sorted(nutrition_json['nutrition'].keys())\n",
    "recipes_data = recipes_data[columns]\n",
    "recipes_data = recipes_data.set_index('id')\n",
    "recipes_data.head()"
   ]
  },
  {
   "cell_type": "code",
   "execution_count": 108,
   "metadata": {},
   "outputs": [],
   "source": [
    "with open('../data/clean_recipes.csv', 'w') as f:\n",
    "    recipes_copy.to_csv(f, header=True, index=True)"
   ]
  },
  {
   "cell_type": "code",
   "execution_count": 55,
   "metadata": {},
   "outputs": [],
   "source": [
    "all_ingredients = set([ingredient['id'] for recipe in recipes_copy['ingredients'] for ingredient in recipe])"
   ]
  },
  {
   "cell_type": "code",
   "execution_count": 58,
   "metadata": {},
   "outputs": [],
   "source": [
    "full_ingredients = set([ingredient['id'] for recipe in recipes_data['ingredients'] for ingredient in recipe])"
   ]
  },
  {
   "cell_type": "code",
   "execution_count": null,
   "metadata": {},
   "outputs": [],
   "source": [
    "import csv"
   ]
  },
  {
   "cell_type": "code",
   "execution_count": 163,
   "metadata": {},
   "outputs": [
    {
     "data": {
      "text/plain": [
       "6477"
      ]
     },
     "execution_count": 163,
     "metadata": {},
     "output_type": "execute_result"
    }
   ],
   "source": [
    "len(full_ingredients)"
   ]
  },
  {
   "cell_type": "code",
   "execution_count": 164,
   "metadata": {},
   "outputs": [
    {
     "name": "stderr",
     "output_type": "stream",
     "text": [
      "100%|██████████| 44065/44065 [03:40<00:00, 199.47it/s]\n"
     ]
    }
   ],
   "source": [
    "br = 0\n",
    "columns = sorted(full_ingredients)\n",
    "\n",
    "with open('../data/ingredients_bitmap.csv', 'w') as f:\n",
    "    writer = csv.DictWriter(f, fieldnames=['id']+columns)\n",
    "    writer.writeheader()\n",
    "\n",
    "#ingredients_recipes_bitmap.to_csv(f, header=True, index=True)\n",
    "#with open('../data/ingredients_bitmap.csv', 'a') as f:\n",
    "    #df.to_csv(f, header=False)\n",
    "    recipe_bitmap_vector = {}\n",
    "\n",
    "    for ingredient in full_ingredients:\n",
    "        recipe_bitmap_vector.update({ingredient:0})\n",
    "    for recipe_id in tqdm(recipes_data.index):\n",
    "        recipe_bitmap_vector.update({'id':recipe_id})\n",
    "        for ingredient in (build_ingredients_vector(recipe_id)):\n",
    "            recipe_bitmap_vector.update({ingredient:1}) \n",
    "        \n",
    "        writer.writerow(recipe_bitmap_vector)\n",
    "        for ingredient in (build_ingredients_vector(recipe_id)):\n",
    "            recipe_bitmap_vector.update({ingredient:0})  "
   ]
  },
  {
   "cell_type": "markdown",
   "metadata": {},
   "source": [
    "## With quantities"
   ]
  },
  {
   "cell_type": "code",
   "execution_count": 127,
   "metadata": {},
   "outputs": [
    {
     "data": {
      "text/plain": [
       "6253"
      ]
     },
     "execution_count": 127,
     "metadata": {},
     "output_type": "execute_result"
    }
   ],
   "source": [
    "len(all_ingredients)"
   ]
  },
  {
   "cell_type": "code",
   "execution_count": 777,
   "metadata": {},
   "outputs": [
    {
     "name": "stderr",
     "output_type": "stream",
     "text": [
      "\n",
      "  0%|          | 0/41797 [00:00<?, ?it/s]\u001b[A\n",
      "  0%|          | 10/41797 [00:00<07:12, 96.71it/s]\u001b[A\n",
      "  0%|          | 20/41797 [00:00<07:17, 95.44it/s]\u001b[A\n",
      "  0%|          | 30/41797 [00:00<07:23, 94.28it/s]\u001b[A\n",
      "  0%|          | 40/41797 [00:00<07:26, 93.57it/s]\u001b[A\n",
      "  0%|          | 49/41797 [00:00<07:32, 92.22it/s]\u001b[A\n",
      "  0%|          | 58/41797 [00:00<07:38, 90.94it/s]\u001b[A\n",
      "  0%|          | 69/41797 [00:00<07:32, 92.27it/s]\u001b[A\n",
      "  0%|          | 79/41797 [00:00<07:30, 92.51it/s]\u001b[A\n",
      "  0%|          | 88/41797 [00:00<07:32, 92.24it/s]\u001b[A\n",
      "  0%|          | 98/41797 [00:01<07:31, 92.38it/s]\u001b[A\n",
      "  0%|          | 108/41797 [00:01<07:31, 92.26it/s]\u001b[A\n",
      "  0%|          | 118/41797 [00:01<07:36, 91.34it/s]\u001b[A\n",
      "100%|██████████| 41797/41797 [07:21<00:00, 94.72it/s]\n"
     ]
    }
   ],
   "source": [
    "br = 0\n",
    "to_convert = []\n",
    "critical = []\n",
    "rows = []\n",
    "columns = sorted(all_ingredients)\n",
    "\n",
    "with open('ingredients_quantity_map.csv', 'w') as f:\n",
    "    writer = csv.DictWriter(f, fieldnames=['id']+columns)\n",
    "    writer.writeheader()\n",
    "\n",
    "#ingredients_recipes_bitmap.to_csv(f, header=True, index=True)\n",
    "#with open('../data/ingredients_bitmap.csv', 'a') as f:\n",
    "    #df.to_csv(f, header=False)\n",
    "    recipe_bitmap_vector = Counter()\n",
    "    for ingredient in all_ingredients:\n",
    "        recipe_bitmap_vector[ingredient]=0\n",
    "    \n",
    "    for recipe_id in tqdm(recipes_copy.index):\n",
    "        try:\n",
    "            recipe_bitmap_vector['id']=recipe_id\n",
    "            #recipe_quantites_vector, recipe_requantites_vector = build_recipe_vector(recipe_id, unit_converter)\n",
    "            for ingredient in (recipes_copy.at[recipe_id, 'ingredients']):\n",
    "                quantity, unit = get_quantity_unit(ingredient['text'])    \n",
    "                recipe_bitmap_vector[ingredient['id']]+= quantity*unit_converter[unit]\n",
    "            #rows.append(recipe_bitmap_vector)\n",
    "            writer.writerow(recipe_bitmap_vector)\n",
    "            \n",
    "            \n",
    "            for ingredient in (recipe_bitmap_vector):\n",
    "                recipe_bitmap_vector[ingredient]=0\n",
    "\n",
    "        except Exception as e:            \n",
    "            print(e, recipe_id, ingredient)\n"
   ]
  },
  {
   "cell_type": "code",
   "execution_count": 9,
   "metadata": {},
   "outputs": [],
   "source": [
    "import pandas as pd"
   ]
  },
  {
   "cell_type": "code",
   "execution_count": 10,
   "metadata": {},
   "outputs": [],
   "source": [
    "quantity_map = pd.read_csv('ingredients_quantity_map.csv', ',',  index_col='id')"
   ]
  },
  {
   "cell_type": "code",
   "execution_count": 114,
   "metadata": {},
   "outputs": [
    {
     "data": {
      "text/plain": [
       "(41797, 6253)"
      ]
     },
     "execution_count": 114,
     "metadata": {},
     "output_type": "execute_result"
    }
   ],
   "source": [
    "quantity_map.shape"
   ]
  },
  {
   "cell_type": "code",
   "execution_count": 63,
   "metadata": {},
   "outputs": [
    {
     "ename": "TypeError",
     "evalue": "parser_f() got an unexpected keyword argument 'columns'",
     "output_type": "error",
     "traceback": [
      "\u001b[0;31m---------------------------------------------------------------------------\u001b[0m",
      "\u001b[0;31mTypeError\u001b[0m                                 Traceback (most recent call last)",
      "\u001b[0;32m<ipython-input-63-ff8a93d4a128>\u001b[0m in \u001b[0;36m<module>\u001b[0;34m()\u001b[0m\n\u001b[0;32m----> 1\u001b[0;31m \u001b[0mbitmap_full\u001b[0m \u001b[0;34m=\u001b[0m \u001b[0mpd\u001b[0m\u001b[0;34m.\u001b[0m\u001b[0mread_csv\u001b[0m\u001b[0;34m(\u001b[0m\u001b[0;34m'../data/ingredients_bitmap.csv'\u001b[0m\u001b[0;34m,\u001b[0m \u001b[0;34m','\u001b[0m\u001b[0;34m,\u001b[0m  \u001b[0mindex_col\u001b[0m\u001b[0;34m=\u001b[0m\u001b[0;34m'id'\u001b[0m\u001b[0;34m,\u001b[0m \u001b[0mcolumns\u001b[0m\u001b[0;34m=\u001b[0m\u001b[0mfull_ingredients\u001b[0m\u001b[0;34m)\u001b[0m\u001b[0;34m\u001b[0m\u001b[0m\n\u001b[0m",
      "\u001b[0;31mTypeError\u001b[0m: parser_f() got an unexpected keyword argument 'columns'"
     ]
    }
   ],
   "source": [
    "bitmap_full = pd.read_csv('../data/ingredients_bitmap.csv', ',',  index_col='id', columns=full_ingredients)"
   ]
  },
  {
   "cell_type": "code",
   "execution_count": 61,
   "metadata": {},
   "outputs": [],
   "source": [
    "bitmap = pd.read_csv('../data/clean_ingredients_bitmap.csv', ',',  index_col='id')"
   ]
  },
  {
   "cell_type": "code",
   "execution_count": 130,
   "metadata": {},
   "outputs": [
    {
     "data": {
      "text/plain": [
       "(41797, 6253)"
      ]
     },
     "execution_count": 130,
     "metadata": {},
     "output_type": "execute_result"
    }
   ],
   "source": [
    "bitmap.shape"
   ]
  },
  {
   "cell_type": "code",
   "execution_count": 131,
   "metadata": {},
   "outputs": [],
   "source": [
    "bitmap_matrix = bitmap.as_matrix()"
   ]
  },
  {
   "cell_type": "code",
   "execution_count": 134,
   "metadata": {},
   "outputs": [],
   "source": [
    "bitmap_matrix = bitmap_matrix.astype(np.float16)"
   ]
  },
  {
   "cell_type": "code",
   "execution_count": 9,
   "metadata": {},
   "outputs": [],
   "source": [
    "from sklearn.metrics.pairwise import pairwise_distances"
   ]
  },
  {
   "cell_type": "code",
   "execution_count": null,
   "metadata": {},
   "outputs": [],
   "source": [
    "pairwise_distances(bitmap[:10,:], metric='jaccard', n_jobs=-1)"
   ]
  },
  {
   "cell_type": "code",
   "execution_count": 25,
   "metadata": {},
   "outputs": [],
   "source": [
    "from sklearn.neighbors import BallTree\n",
    "from sklearn.neighbors import KDTreesklearn.neighbors import DistanceMetric"
   ]
  },
  {
   "cell_type": "markdown",
   "metadata": {},
   "source": [
    "## Get healthy ingredients"
   ]
  },
  {
   "cell_type": "code",
   "execution_count": 27,
   "metadata": {},
   "outputs": [],
   "source": [
    "tree = BallTree(bitmap_matrix, metric='jaccard')              "
   ]
  },
  {
   "cell_type": "code",
   "execution_count": null,
   "metadata": {},
   "outputs": [],
   "source": [
    "dist, ind = tree.query(bitmap_matrix, k=10) \n",
    "print(ind)\n",
    "print(dist)"
   ]
  },
  {
   "cell_type": "code",
   "execution_count": 74,
   "metadata": {},
   "outputs": [],
   "source": [
    "np.save('distances_top_10', dist)\n",
    "np.save('indices_top_10', ind)"
   ]
  },
  {
   "cell_type": "code",
   "execution_count": 14,
   "metadata": {},
   "outputs": [],
   "source": [
    "dist = np.load('distances_top_11.npy')\n",
    "ind = np.load('indices_top_11.npy')"
   ]
  },
  {
   "cell_type": "code",
   "execution_count": 94,
   "metadata": {},
   "outputs": [
    {
     "data": {
      "text/plain": [
       "(41797, 6253)"
      ]
     },
     "execution_count": 94,
     "metadata": {},
     "output_type": "execute_result"
    }
   ],
   "source": [
    "bitmap.shape"
   ]
  },
  {
   "cell_type": "code",
   "execution_count": 95,
   "metadata": {},
   "outputs": [],
   "source": [
    "def get_ingredients(recipe_id):\n",
    "    return bitmap.loc[recipe_id][bitmap.loc[recipe_id]!=0].index.tolist()\n"
   ]
  },
  {
   "cell_type": "code",
   "execution_count": 149,
   "metadata": {},
   "outputs": [],
   "source": [
    "def get_ingredients(recipe_ord):\n",
    "    return bitmap.loc[bitmap.index[recipe_ord]][bitmap.loc[bitmap.index[recipe_ord]]!=0].index.tolist()\n"
   ]
  },
  {
   "cell_type": "code",
   "execution_count": 155,
   "metadata": {},
   "outputs": [],
   "source": [
    "def get_score(recipe_ord):\n",
    "    return recipes_copy.loc[bitmap.index[recipe_ord]]['health_score']"
   ]
  },
  {
   "cell_type": "code",
   "execution_count": 282,
   "metadata": {},
   "outputs": [],
   "source": [
    "#bitmap = bitmap.to_sparse()"
   ]
  },
  {
   "cell_type": "code",
   "execution_count": 146,
   "metadata": {},
   "outputs": [],
   "source": [
    "def show_recipe_connections(recipe_1, recipe_2):\n",
    "    vector_1 = set(get_ingredients(recipe_1))\n",
    "    vector_2 = set(get_ingredients(recipe_2))\n",
    "    mutual_ingredients = vector_1.intersection(vector_2)\n",
    "    in_recipe1 = vector_1-mutual_ingredients\n",
    "    in_recipe2 = vector_2-mutual_ingredients\n",
    "    \n",
    "    print('Mutual:')\n",
    "    for item in [all_ingredients_dict[id] for id in mutual_ingredients]:\n",
    "        print(item)\n",
    "    print('\\nRecipe {} (score {}):'.format(recipe_1, get_score(recipe_1)))\n",
    "    for item in [all_ingredients_dict[id] for id in in_recipe1]:\n",
    "        print(item)\n",
    "    print('\\nRecipe {} (score {}):'.format(recipe_2, get_score(recipe_2)))\n",
    "    for item in [all_ingredients_dict[id] for id in in_recipe2]:\n",
    "        print(item)\n",
    "    return mutual_ingredients, in_recipe1, in_recipe2\n"
   ]
  },
  {
   "cell_type": "code",
   "execution_count": 90,
   "metadata": {},
   "outputs": [],
   "source": [
    "def count_recipe_connections(recipe_1, recipe_2):\n",
    "    vector_1 = set(get_ingredients(recipe_1))\n",
    "    vector_2 = set(get_ingredients(recipe_2))\n",
    "    #vector_1 = set(build_ingredients_vector(recipe_1))\n",
    "    #vector_2 = set(build_ingredients_vector(recipe_2))\n",
    "    mutual_ingredients = vector_1.intersection(vector_2)\n",
    "    in_recipe1 = vector_1-mutual_ingredients\n",
    "    in_recipe2 = vector_2-mutual_ingredients\n",
    "    #print('score 1: {} score 2: {}'.format(get_score(recipe_1), get_score(recipe_2)))\n",
    "    return mutual_ingredients, in_recipe1, in_recipe2"
   ]
  },
  {
   "cell_type": "code",
   "execution_count": 172,
   "metadata": {},
   "outputs": [
    {
     "name": "stdout",
     "output_type": "stream",
     "text": [
      "Mutual:\n",
      "1/2 teaspoon baking powder\n",
      "2 1/2 cups all-purpose flour\n",
      "salt and pepper to taste\n",
      "1 egg\n",
      "5 tablespoons unsalted butter\n",
      "3 teaspoons ground cinnamon\n",
      "1 cup white sugar\n",
      "\n",
      "Recipe 1:\n",
      "1/2 cup toasted hazelnuts\n",
      "3 tablespoons cocoa powder\n",
      "\n",
      "Recipe 17078:\n",
      "1/4 cup fresh blueberries\n",
      "2 tablespoons milk\n"
     ]
    }
   ],
   "source": [
    "show_recipe_connections(1, 17078)"
   ]
  },
  {
   "cell_type": "code",
   "execution_count": 167,
   "metadata": {},
   "outputs": [
    {
     "data": {
      "text/plain": [
       "array([    1, 17078,  1640, 12617, 28076, 33093,   607,   954,  3720, 20421])"
      ]
     },
     "execution_count": 167,
     "metadata": {},
     "output_type": "execute_result"
    }
   ],
   "source": [
    "ind[1]"
   ]
  },
  {
   "cell_type": "code",
   "execution_count": 153,
   "metadata": {
    "scrolled": true
   },
   "outputs": [
    {
     "data": {
      "text/plain": [
       "4"
      ]
     },
     "execution_count": 153,
     "metadata": {},
     "output_type": "execute_result"
    }
   ],
   "source": [
    "recipes_data.loc[100008]['health_score']"
   ]
  },
  {
   "cell_type": "code",
   "execution_count": 75,
   "metadata": {},
   "outputs": [],
   "source": [
    "id_position_full = {}\n",
    "id_position_clean = {}\n",
    "id2position={}\n",
    "for i, id_ in enumerate(recipe_ids):\n",
    "    id_position_full[id_]=i\n",
    "    id2position[id_]=i"
   ]
  },
  {
   "cell_type": "code",
   "execution_count": 69,
   "metadata": {},
   "outputs": [],
   "source": [
    "ids_to_remove = []\n",
    "for recipe_id in (set(recipe_ids) - set(recipe_qids)):\n",
    "    ids_to_remove.append(id_position_full[recipe_id])"
   ]
  },
  {
   "cell_type": "markdown",
   "metadata": {},
   "source": [
    "## clean dist and ind"
   ]
  },
  {
   "cell_type": "code",
   "execution_count": 72,
   "metadata": {},
   "outputs": [],
   "source": [
    "ind_clean = np.delete(ind, ids_to_remove, 0)\n",
    "dist_clean = np.delete(dist, ids_to_remove, 0)"
   ]
  },
  {
   "cell_type": "code",
   "execution_count": 331,
   "metadata": {},
   "outputs": [
    {
     "name": "stdout",
     "output_type": "stream",
     "text": [
      "[    0  4033 32204 32471 33851  4951  1249 28190 24380 12696]\n",
      "[    1 17078  1640 12617 28076 33093   607   954  3720 20421]\n",
      "[    2 41802 20930  4805 14958 30505 11775 34483 22904 16886]\n"
     ]
    }
   ],
   "source": [
    "for a in ind_clean[:3]:\n",
    "    print(a)"
   ]
  },
  {
   "cell_type": "code",
   "execution_count": 372,
   "metadata": {},
   "outputs": [
    {
     "data": {
      "text/plain": [
       "44065"
      ]
     },
     "execution_count": 372,
     "metadata": {},
     "output_type": "execute_result"
    }
   ],
   "source": [
    "len(id_position)"
   ]
  },
  {
   "cell_type": "code",
   "execution_count": 104,
   "metadata": {},
   "outputs": [],
   "source": [
    "position2id = {v: k for k, v in id2position.items()}"
   ]
  },
  {
   "cell_type": "code",
   "execution_count": 105,
   "metadata": {},
   "outputs": [
    {
     "data": {
      "text/plain": [
       "40436"
      ]
     },
     "execution_count": 105,
     "metadata": {},
     "output_type": "execute_result"
    }
   ],
   "source": [
    "id2position[7679]"
   ]
  },
  {
   "cell_type": "code",
   "execution_count": 109,
   "metadata": {},
   "outputs": [
    {
     "name": "stderr",
     "output_type": "stream",
     "text": [
      "41797it [02:11, 316.95it/s]\n"
     ]
    }
   ],
   "source": [
    "ind_dict={}\n",
    "dist_dict= {}\n",
    "i_to_remove=[]\n",
    "\n",
    "for j,row in tqdm(enumerate(ind_clean)):\n",
    "    i_to_remove = []\n",
    "    for i, element in enumerate(row):\n",
    "        if element in ids_to_remove:\n",
    "            i_to_remove.append(i)\n",
    "    \n",
    "    ind_dict[recipe_qids[j]] = np.delete(ind_clean[j], i_to_remove, 0)\n",
    "    dist_dict[recipe_qids[j]] = np.delete(dist_clean[j], i_to_remove, 0)"
   ]
  },
  {
   "cell_type": "code",
   "execution_count": null,
   "metadata": {},
   "outputs": [],
   "source": [
    "values = []\n",
    "\n",
    "for row in np.delete(row, i_to_remove, 0):\n",
    "    values.append(position2id(x))"
   ]
  },
  {
   "cell_type": "code",
   "execution_count": 307,
   "metadata": {},
   "outputs": [],
   "source": [
    "from collections import Counter\n",
    "\n",
    "def find_pairs():\n",
    "    count = 0\n",
    "    to_add = Counter()\n",
    "    to_remove = Counter()\n",
    "    no_change = Counter()\n",
    "    base = Counter()\n",
    "    for recipe in tqdm(range(bitmap_matrix.shape[0])):#bitmap_matrix.shape[0]):\n",
    "        #build_recipe_vector(bitmap_matrix.index[recipe], unit_converter)\n",
    "\n",
    "        for similar_recipe in ind[recipe][1:]:\n",
    "            mutual, in_1, in_2, hs_1, hs_2 = count_recipe_connections(recipe, similar_recipe)\n",
    "            \n",
    "            \n",
    "            if len(in_1) == 0 or len(in_2) == 0:\n",
    "                count+=1\n",
    "                for ingredient in mutual:\n",
    "                    base[ingredient]+=1\n",
    "                if hs_1 < hs_2:\n",
    "                    tmp_hs, tmp_ing = hs_1, in_1.copy()\n",
    "                    hs_1, in_1 = hs_2, in_2 \n",
    "                    hs_2, in_2 = tmp_hs, tmp_ing\n",
    "                \n",
    "                a, b = len(in_1), len(in_2)\n",
    "                \n",
    "                \n",
    "                if a!=0: #first recipe is healthier\n",
    "                    for ingredient in in_1:\n",
    "                        if hs_1!=hs_2:\n",
    "                            to_add[ingredient]+=1\n",
    "                        else:\n",
    "                            no_change[ingredient]+=1\n",
    "                        #added_score[ingredient].append(hs_1-hs_2)\n",
    "                        #track_recipe_addition.\n",
    "                else:\n",
    "                    for ingredient in in_2:\n",
    "                        if hs_1!=hs_2:\n",
    "                            to_remove[ingredient]+=1\n",
    "                        else:\n",
    "                            no_change[ingredient]+=1\n",
    "                #show_recipe_connections(recipe, similar_recipe)\n",
    "                \n",
    "                #print('\\n****\\n')\n",
    "                \n",
    "    return base, to_add, to_remove, no_change"
   ]
  },
  {
   "cell_type": "markdown",
   "metadata": {},
   "source": [
    "## with clean"
   ]
  },
  {
   "cell_type": "code",
   "execution_count": 106,
   "metadata": {},
   "outputs": [
    {
     "data": {
      "text/plain": [
       "True"
      ]
     },
     "execution_count": 106,
     "metadata": {},
     "output_type": "execute_result"
    }
   ],
   "source": [
    "40436 in ids_to_remove"
   ]
  },
  {
   "cell_type": "code",
   "execution_count": 397,
   "metadata": {},
   "outputs": [
    {
     "data": {
      "text/plain": [
       "array([    2, 41802, 20930,  4805, 14958, 30505, 11775, 34483, 22904,\n",
       "       16886])"
      ]
     },
     "execution_count": 397,
     "metadata": {},
     "output_type": "execute_result"
    }
   ],
   "source": [
    "ind_dict[100011]"
   ]
  },
  {
   "cell_type": "code",
   "execution_count": 91,
   "metadata": {},
   "outputs": [],
   "source": [
    "from collections import Counter\n",
    "\n",
    "def find_pairs():\n",
    "    count = 0\n",
    "    to_add = Counter()\n",
    "    to_remove = Counter()\n",
    "    no_change = Counter()\n",
    "    base = Counter()\n",
    "    for recipe_id in tqdm(recipe_qids):#bitmap_matrix.shape[0]):\n",
    "        #build_recipe_vector(bitmap_matrix.index[recipe], unit_converter)\n",
    "\n",
    "        for similar_recipe in ind_dict[recipe_id][1:]:\n",
    "            print(recipe_id,id_position[recipe_id], similar_recipe)\n",
    "            mutual, in_1, in_2, hs_1, hs_2 = count_recipe_connections(recipe_id, position2id[similar_recipe])\n",
    "            \n",
    "            \n",
    "            if len(in_1) == 0 or len(in_2) == 0:\n",
    "                count+=1\n",
    "                for ingredient in mutual:\n",
    "                    base[ingredient]+=1\n",
    "                if hs_1 < hs_2:\n",
    "                    tmp_hs, tmp_ing = hs_1, in_1.copy()\n",
    "                    hs_1, in_1 = hs_2, in_2 \n",
    "                    hs_2, in_2 = tmp_hs, tmp_ing\n",
    "                \n",
    "                a, b = len(in_1), len(in_2)\n",
    "                \n",
    "                \n",
    "                if a!=0: #first recipe is healthier\n",
    "                    for ingredient in in_1:\n",
    "                        if hs_1!=hs_2:\n",
    "                            to_add[ingredient]+=1\n",
    "                        else:\n",
    "                            no_change[ingredient]+=1\n",
    "                        #added_score[ingredient].append(hs_1-hs_2)\n",
    "                        #track_recipe_addition.\n",
    "                else:\n",
    "                    for ingredient in in_2:\n",
    "                        if hs_1!=hs_2:\n",
    "                            to_remove[ingredient]+=1\n",
    "                        else:\n",
    "                            no_change[ingredient]+=1\n",
    "                #show_recipe_connections(recipe, similar_recipe)\n",
    "                \n",
    "                #print('\\n****\\n')\n",
    "                \n",
    "    return base, to_add, to_remove, no_change"
   ]
  },
  {
   "cell_type": "code",
   "execution_count": null,
   "metadata": {},
   "outputs": [],
   "source": [
    "base, to_add, to_remove, no_change = find_pairs()"
   ]
  },
  {
   "cell_type": "code",
   "execution_count": 516,
   "metadata": {
    "scrolled": true
   },
   "outputs": [
    {
     "data": {
      "text/plain": [
       "(219, 474, 0, 0)"
      ]
     },
     "execution_count": 516,
     "metadata": {},
     "output_type": "execute_result"
    }
   ],
   "source": [
    "len(base), len(to_add), len(to_remove), len(no_change)"
   ]
  },
  {
   "cell_type": "code",
   "execution_count": 128,
   "metadata": {},
   "outputs": [
    {
     "data": {
      "text/plain": [
       "'3 teaspoons ground cinnamon'"
      ]
     },
     "execution_count": 128,
     "metadata": {},
     "output_type": "execute_result"
    }
   ],
   "source": [
    "all_ingredients_dict['16386']"
   ]
  },
  {
   "cell_type": "code",
   "execution_count": null,
   "metadata": {
    "slideshow": {
     "slide_type": "-"
    }
   },
   "outputs": [],
   "source": [
    "## get recipe pairs"
   ]
  },
  {
   "cell_type": "code",
   "execution_count": 87,
   "metadata": {},
   "outputs": [
    {
     "data": {
      "text/plain": [
       "(41797, 10)"
      ]
     },
     "execution_count": 87,
     "metadata": {},
     "output_type": "execute_result"
    }
   ],
   "source": [
    "ind_clean.shape"
   ]
  },
  {
   "cell_type": "code",
   "execution_count": 15,
   "metadata": {},
   "outputs": [],
   "source": [
    "from collections import Counter\n",
    "def find_pairs():\n",
    "    count = 0\n",
    "    pair_dict = {}\n",
    "    to_add = Counter()\n",
    "    to_remove = Counter()\n",
    "    no_change = Counter()\n",
    "    base = Counter()\n",
    "    overall = Counter()\n",
    "    for i, recipe in tqdm(enumerate(recipes_copy.index)):#bitmap_matrix.shape[0]):\n",
    "        #build_recipe_vector(bitmap_matrix.index[recipe], unit_converter)\n",
    "        for j, similar_recipe in enumerate(ind_dict[recipe]):\n",
    "            if recipe != position2id[similar_recipe]:\n",
    "                mutual, in_1, in_2 = count_recipe_connections(recipe, position2id[similar_recipe])\n",
    "                if len(in_1) == 0 or len(in_2) == 0:\n",
    "                    count+=1\n",
    "                    \n",
    "                    if len(in_1) != 0:\n",
    "                        tmp_ing =  in_1.copy()\n",
    "                        in_1 =  in_2 \n",
    "                        in_2 = tmp_ing\n",
    "                    \n",
    "                    key = sorted([recipe,position2id[similar_recipe]])\n",
    "                    pair_dict['{}:{}'.format(key[0], key[1])]={'base':list(mutual), 'extra':list(in_2), 'distance': dist_dict[recipe][j]}\n",
    "\n",
    "                   \n",
    "                        #added_score[ingredient].append(hs_1-hs_2)\n",
    "                        #track_recipe_addition.\n",
    "\n",
    "                    #show_recipe_connections(recipe, similar_recipe)\n",
    "\n",
    "                    #print('\\n****\\n')\n",
    "            \n",
    "    return pair_dict, overall"
   ]
  },
  {
   "cell_type": "code",
   "execution_count": null,
   "metadata": {},
   "outputs": [],
   "source": [
    "for "
   ]
  },
  {
   "cell_type": "code",
   "execution_count": 18,
   "metadata": {},
   "outputs": [
    {
     "ename": "NameError",
     "evalue": "name 'recipes_copy' is not defined",
     "output_type": "error",
     "traceback": [
      "\u001b[0;31m---------------------------------------------------------------------------\u001b[0m",
      "\u001b[0;31mNameError\u001b[0m                                 Traceback (most recent call last)",
      "\u001b[0;32m<ipython-input-18-1ce77f3bf14f>\u001b[0m in \u001b[0;36m<module>\u001b[0;34m()\u001b[0m\n\u001b[0;32m----> 1\u001b[0;31m \u001b[0mpairs\u001b[0m \u001b[0;34m=\u001b[0m \u001b[0mfind_pairs\u001b[0m\u001b[0;34m(\u001b[0m\u001b[0;34m)\u001b[0m\u001b[0;34m\u001b[0m\u001b[0m\n\u001b[0m",
      "\u001b[0;32m<ipython-input-15-3ecb677e698e>\u001b[0m in \u001b[0;36mfind_pairs\u001b[0;34m()\u001b[0m\n\u001b[1;32m      8\u001b[0m     \u001b[0mbase\u001b[0m \u001b[0;34m=\u001b[0m \u001b[0mCounter\u001b[0m\u001b[0;34m(\u001b[0m\u001b[0;34m)\u001b[0m\u001b[0;34m\u001b[0m\u001b[0m\n\u001b[1;32m      9\u001b[0m     \u001b[0moverall\u001b[0m \u001b[0;34m=\u001b[0m \u001b[0mCounter\u001b[0m\u001b[0;34m(\u001b[0m\u001b[0;34m)\u001b[0m\u001b[0;34m\u001b[0m\u001b[0m\n\u001b[0;32m---> 10\u001b[0;31m     \u001b[0;32mfor\u001b[0m \u001b[0mi\u001b[0m\u001b[0;34m,\u001b[0m \u001b[0mrecipe\u001b[0m \u001b[0;32min\u001b[0m \u001b[0mtqdm\u001b[0m\u001b[0;34m(\u001b[0m\u001b[0menumerate\u001b[0m\u001b[0;34m(\u001b[0m\u001b[0mrecipes_copy\u001b[0m\u001b[0;34m.\u001b[0m\u001b[0mindex\u001b[0m\u001b[0;34m)\u001b[0m\u001b[0;34m)\u001b[0m\u001b[0;34m:\u001b[0m\u001b[0;31m#bitmap_matrix.shape[0]):\u001b[0m\u001b[0;34m\u001b[0m\u001b[0m\n\u001b[0m\u001b[1;32m     11\u001b[0m         \u001b[0;31m#build_recipe_vector(bitmap_matrix.index[recipe], unit_converter)\u001b[0m\u001b[0;34m\u001b[0m\u001b[0;34m\u001b[0m\u001b[0m\n\u001b[1;32m     12\u001b[0m         \u001b[0;32mfor\u001b[0m \u001b[0mj\u001b[0m\u001b[0;34m,\u001b[0m \u001b[0msimilar_recipe\u001b[0m \u001b[0;32min\u001b[0m \u001b[0menumerate\u001b[0m\u001b[0;34m(\u001b[0m\u001b[0mind_dict\u001b[0m\u001b[0;34m[\u001b[0m\u001b[0mrecipe\u001b[0m\u001b[0;34m]\u001b[0m\u001b[0;34m)\u001b[0m\u001b[0;34m:\u001b[0m\u001b[0;34m\u001b[0m\u001b[0m\n",
      "\u001b[0;31mNameError\u001b[0m: name 'recipes_copy' is not defined"
     ]
    }
   ],
   "source": [
    "pairs = find_pairs()"
   ]
  },
  {
   "cell_type": "code",
   "execution_count": 3,
   "metadata": {},
   "outputs": [
    {
     "ename": "NameError",
     "evalue": "name 'Counter' is not defined",
     "output_type": "error",
     "traceback": [
      "\u001b[0;31m---------------------------------------------------------------------------\u001b[0m",
      "\u001b[0;31mNameError\u001b[0m                                 Traceback (most recent call last)",
      "\u001b[0;32m<ipython-input-3-12e8beb18032>\u001b[0m in \u001b[0;36m<module>\u001b[0;34m()\u001b[0m\n\u001b[0;32m----> 1\u001b[0;31m \u001b[0mbase\u001b[0m \u001b[0;34m=\u001b[0m \u001b[0mCounter\u001b[0m\u001b[0;34m(\u001b[0m\u001b[0;34m)\u001b[0m\u001b[0;34m\u001b[0m\u001b[0m\n\u001b[0m\u001b[1;32m      2\u001b[0m \u001b[0mextra\u001b[0m \u001b[0;34m=\u001b[0m \u001b[0mCounter\u001b[0m\u001b[0;34m(\u001b[0m\u001b[0;34m)\u001b[0m\u001b[0;34m\u001b[0m\u001b[0m\n\u001b[1;32m      3\u001b[0m \u001b[0;32mfor\u001b[0m \u001b[0mpair\u001b[0m \u001b[0;32min\u001b[0m \u001b[0mtqdm\u001b[0m\u001b[0;34m(\u001b[0m\u001b[0mpairs\u001b[0m\u001b[0;34m)\u001b[0m\u001b[0;34m:\u001b[0m\u001b[0;34m\u001b[0m\u001b[0m\n\u001b[1;32m      4\u001b[0m     \u001b[0;32mfor\u001b[0m \u001b[0melement\u001b[0m \u001b[0;32min\u001b[0m \u001b[0mpairs\u001b[0m\u001b[0;34m[\u001b[0m\u001b[0mpair\u001b[0m\u001b[0;34m]\u001b[0m\u001b[0;34m[\u001b[0m\u001b[0;34m'base'\u001b[0m\u001b[0;34m]\u001b[0m\u001b[0;34m:\u001b[0m\u001b[0;34m\u001b[0m\u001b[0m\n\u001b[1;32m      5\u001b[0m         \u001b[0mbase\u001b[0m\u001b[0;34m[\u001b[0m\u001b[0melement\u001b[0m\u001b[0;34m]\u001b[0m\u001b[0;34m+=\u001b[0m\u001b[0;36m1\u001b[0m\u001b[0;34m\u001b[0m\u001b[0m\n",
      "\u001b[0;31mNameError\u001b[0m: name 'Counter' is not defined"
     ]
    }
   ],
   "source": [
    "base = Counter()\n",
    "extra = Counter()\n",
    "for pair in tqdm(pairs):  \n",
    "    for element in pairs[pair]['base']:\n",
    "        base[element]+=1\n",
    "    for element in pairs[pair]['extra']:\n",
    "        extra[element]+=1\n",
    "\n"
   ]
  },
  {
   "cell_type": "code",
   "execution_count": 129,
   "metadata": {},
   "outputs": [
    {
     "data": {
      "text/plain": [
       "2755"
      ]
     },
     "execution_count": 129,
     "metadata": {},
     "output_type": "execute_result"
    }
   ],
   "source": [
    "len(set.union(set(base.keys()),set(extra.keys())))"
   ]
  },
  {
   "cell_type": "code",
   "execution_count": 136,
   "metadata": {},
   "outputs": [],
   "source": [
    "ingredients_dict={}\n",
    "for id in recipes_data.index:\n",
    "    for ingredient in recipes_data.at[id, 'ingredients']:\n",
    "        ingredients_dict.update({int(ingredient['id']):ingredient['text']})\n"
   ]
  },
  {
   "cell_type": "code",
   "execution_count": 197,
   "metadata": {},
   "outputs": [],
   "source": [
    "perc = []\n",
    "for ing in set.union(set(base.keys()),set(extra.keys())):\n",
    "    try:\n",
    "      cnt_base = base[ing]\n",
    "    except:\n",
    "      cnt_base = 0\n",
    "    \n",
    "    try:\n",
    "      cnt_to_add = extra[ing]\n",
    "    except:\n",
    "      cnt_to_add = 0\n",
    "    \n",
    "    perc.append((ing, cnt_to_add/(cnt_base+cnt_to_add),cnt_base/(cnt_base+cnt_to_add), cnt_base+cnt_to_add))"
   ]
  },
  {
   "cell_type": "code",
   "execution_count": null,
   "metadata": {},
   "outputs": [],
   "source": [
    "for ing,p_add,p_base,total in sorted(perc,key=lambda x: x[1],reverse=True):\n",
    "    print(p_add,p_base,ingredients_dict[int(ing)], total)"
   ]
  },
  {
   "cell_type": "code",
   "execution_count": null,
   "metadata": {},
   "outputs": [],
   "source": []
  },
  {
   "cell_type": "code",
   "execution_count": 169,
   "metadata": {},
   "outputs": [],
   "source": [
    "base_ing = [x[0] for x in sorted(perc, key=lambda x: x[1],reverse=True)]"
   ]
  },
  {
   "cell_type": "code",
   "execution_count": 172,
   "metadata": {},
   "outputs": [
    {
     "name": "stdout",
     "output_type": "stream",
     "text": [
      "1.0 0.0 1/4 cup hazelnut-flavored syrup for beverages\n",
      "1.0 0.0 2 (10 ounce) packages frozen sliced strawberries in syrup, thawed\n",
      "1.0 0.0 1/2 cup low-fat creamy salad dressing (e.g. Miracle Whip™)\n",
      "1.0 0.0 4 slices sandwich bread, toasted\n",
      "0.0 0.0 1 (8 inch) square prepared yellow cake\n",
      "1.0 0.0 6 ounces raw small shrimp, shelled and deveined\n",
      "0.9130434782608695 0.07939508506616257 3/4 pound peeled and deveined medium shrimp (30-40 per pound)\n",
      "0.8650306748466258 0.11675260642101698 1 teaspoon ground allspice\n",
      "0.4166666666666667 0.24305555555555558 1 (15 ounce) can creamed corn\n",
      "0.5817307692307693 0.24332008136094677 2 limes, juiced\n"
     ]
    }
   ],
   "source": [
    "perc_weighted = [(x[0],x[1]*x[2],x[1]) for x in perc[:10]]\n",
    "for ing,score,p in sorted(perc_weighted,key=lambda x: x[1],reverse=False):\n",
    "    print(p,score, ingredients_dict[int(ing)])"
   ]
  },
  {
   "cell_type": "code",
   "execution_count": 493,
   "metadata": {},
   "outputs": [
    {
     "name": "stdout",
     "output_type": "stream",
     "text": [
      "4 tuna steaks\n",
      "tomato and clam juice cocktail\n",
      "2 tablespoons canola oil\n",
      "2 (3 ounce) fried breaded pork chops, sliced into long strips\n",
      "1/2 cup chopped jackfruit\n"
     ]
    }
   ],
   "source": [
    "for ing in base_ing[:5]:\n",
    "    print(all_ingredients_dict['{}'.format(ing)])"
   ]
  },
  {
   "cell_type": "code",
   "execution_count": 502,
   "metadata": {},
   "outputs": [
    {
     "data": {
      "text/plain": [
       "('12255', 0.6, 5)"
      ]
     },
     "execution_count": 502,
     "metadata": {},
     "output_type": "execute_result"
    }
   ],
   "source": [
    "perc[1]"
   ]
  },
  {
   "cell_type": "code",
   "execution_count": 499,
   "metadata": {},
   "outputs": [
    {
     "ename": "TypeError",
     "evalue": "'<' not supported between instances of 'float' and 'str'",
     "output_type": "error",
     "traceback": [
      "\u001b[0;31m---------------------------------------------------------------------------\u001b[0m",
      "\u001b[0;31mTypeError\u001b[0m                                 Traceback (most recent call last)",
      "\u001b[0;32m<ipython-input-499-92ec022fd2c2>\u001b[0m in \u001b[0;36m<module>\u001b[0;34m()\u001b[0m\n\u001b[1;32m      1\u001b[0m \u001b[0mperc_filtered\u001b[0m \u001b[0;34m=\u001b[0m \u001b[0mnp\u001b[0m\u001b[0;34m.\u001b[0m\u001b[0mnonzero\u001b[0m\u001b[0;34m(\u001b[0m\u001b[0mperc\u001b[0m\u001b[0;34m)\u001b[0m\u001b[0;34m[\u001b[0m\u001b[0;36m0\u001b[0m\u001b[0;34m]\u001b[0m\u001b[0;34m\u001b[0m\u001b[0m\n\u001b[0;32m----> 2\u001b[0;31m \u001b[0mplt\u001b[0m\u001b[0;34m.\u001b[0m\u001b[0mscatter\u001b[0m\u001b[0;34m(\u001b[0m\u001b[0mrange\u001b[0m\u001b[0;34m(\u001b[0m\u001b[0;36m0\u001b[0m\u001b[0;34m,\u001b[0m\u001b[0mlen\u001b[0m\u001b[0;34m(\u001b[0m\u001b[0mperc\u001b[0m\u001b[0;34m)\u001b[0m\u001b[0;34m)\u001b[0m\u001b[0;34m,\u001b[0m\u001b[0msorted\u001b[0m\u001b[0;34m(\u001b[0m\u001b[0mperc\u001b[0m\u001b[0;34m[\u001b[0m\u001b[0;36m1\u001b[0m\u001b[0;34m]\u001b[0m\u001b[0;34m)\u001b[0m\u001b[0;34m)\u001b[0m\u001b[0;34m\u001b[0m\u001b[0m\n\u001b[0m\u001b[1;32m      3\u001b[0m \u001b[0mplt\u001b[0m\u001b[0;34m.\u001b[0m\u001b[0mshow\u001b[0m\u001b[0;34m(\u001b[0m\u001b[0;34m)\u001b[0m\u001b[0;34m\u001b[0m\u001b[0m\n",
      "\u001b[0;31mTypeError\u001b[0m: '<' not supported between instances of 'float' and 'str'"
     ]
    }
   ],
   "source": [
    "perc_filtered = np.nonzero(perc)[0]\n",
    "plt.scatter(range(0,len(perc)),sorted(perc[1]))\n",
    "plt.show()"
   ]
  },
  {
   "cell_type": "code",
   "execution_count": 498,
   "metadata": {},
   "outputs": [
    {
     "data": {
      "text/plain": [
       "[('9725', 0.3469387755102041, 196),\n",
       " ('9759', 1.0, 4),\n",
       " ('9764', 0.0, 15),\n",
       " ('9797', 0.46153846153846156, 39),\n",
       " ('9822', 1.0, 2),\n",
       " ('9849', 1.0, 4),\n",
       " ('9857', 1.0, 2),\n",
       " ('9897', 0.0, 1),\n",
       " ('9972', 0.4782608695652174, 23),\n",
       " ('9976', 1.0, 2)]"
      ]
     },
     "execution_count": 498,
     "metadata": {},
     "output_type": "execute_result"
    }
   ],
   "source": [
    "sorted(perc)[-10:]"
   ]
  },
  {
   "cell_type": "code",
   "execution_count": 290,
   "metadata": {},
   "outputs": [
    {
     "name": "stdout",
     "output_type": "stream",
     "text": [
      "salt and pepper to taste\n",
      "2 tablespoons water\n",
      "2 teaspoons vanilla extract\n",
      "1 cup white sugar\n",
      "1 cup butter or margarine, melted\n",
      "1 egg\n",
      "2 tablespoons milk\n",
      "3 teaspoons ground cinnamon\n",
      "1 cup packed brown sugar\n",
      "2 cups confectioners' sugar\n",
      "1 cup chopped walnuts (optional)\n",
      "1 pinch pepper\n",
      "Curry Paste\n",
      "1 tablespoon grated onion\n",
      "1/2 teaspoon baking powder\n",
      "1 tablespoon ground nutmeg\n",
      "2 tablespoons lemon juice\n",
      "3 tablespoons heavy whipping cream\n",
      "1 teaspoon baking soda\n",
      "2 1/2 cups all-purpose flour\n"
     ]
    }
   ],
   "source": [
    "for tup in to_add.most_common(20):\n",
    "    print(all_ingredients_dict['{}'.format(tup[0])])"
   ]
  },
  {
   "cell_type": "code",
   "execution_count": 276,
   "metadata": {},
   "outputs": [
    {
     "data": {
      "text/plain": [
       "([('16421', 2209),\n",
       "  ('2496', 1551),\n",
       "  ('16424', 1513),\n",
       "  ('1526', 1412),\n",
       "  ('16157', 1405),\n",
       "  ('16317', 1359),\n",
       "  ('16278', 1295),\n",
       "  ('16386', 1256),\n",
       "  ('1525', 1186),\n",
       "  ('1527', 981)],\n",
       " [('16421', 2209),\n",
       "  ('2496', 1551),\n",
       "  ('16424', 1513),\n",
       "  ('1526', 1412),\n",
       "  ('16157', 1405),\n",
       "  ('16317', 1359),\n",
       "  ('16278', 1295),\n",
       "  ('16386', 1256),\n",
       "  ('1525', 1186),\n",
       "  ('1527', 981)])"
      ]
     },
     "execution_count": 276,
     "metadata": {},
     "output_type": "execute_result"
    }
   ],
   "source": [
    "to_add.most_common(20), to_add.most_common(10)"
   ]
  },
  {
   "cell_type": "code",
   "execution_count": 204,
   "metadata": {},
   "outputs": [],
   "source": [
    "import seaborn"
   ]
  },
  {
   "cell_type": "code",
   "execution_count": null,
   "metadata": {},
   "outputs": [],
   "source": [
    "a = [i[0] for i in base.most_common(10)]\n",
    "b = [i[1] for i in base.most_common(10)]"
   ]
  },
  {
   "cell_type": "code",
   "execution_count": 222,
   "metadata": {},
   "outputs": [
    {
     "data": {
      "text/plain": [
       "[13958, 13251, 12536, 11934, 10719, 7815, 6153, 5371, 3265, 3134]"
      ]
     },
     "execution_count": 222,
     "metadata": {},
     "output_type": "execute_result"
    }
   ],
   "source": [
    "b"
   ]
  },
  {
   "cell_type": "code",
   "execution_count": 219,
   "metadata": {},
   "outputs": [],
   "source": [
    "import matplotlib.pyplot as plt\n",
    "%matplotlib inline"
   ]
  },
  {
   "cell_type": "code",
   "execution_count": 184,
   "metadata": {},
   "outputs": [
    {
     "data": {
      "text/plain": [
       "20596"
      ]
     },
     "execution_count": 184,
     "metadata": {},
     "output_type": "execute_result"
    }
   ],
   "source": [
    "len(pair_dict)\n"
   ]
  },
  {
   "cell_type": "code",
   "execution_count": null,
   "metadata": {},
   "outputs": [],
   "source": [
    "## Estimate healthiness of ingredients"
   ]
  },
  {
   "cell_type": "code",
   "execution_count": 317,
   "metadata": {},
   "outputs": [],
   "source": [
    "from sklearn.ensemble import RandomForestRegressor"
   ]
  },
  {
   "cell_type": "code",
   "execution_count": 318,
   "metadata": {},
   "outputs": [],
   "source": [
    "regr = RandomForestRegressor()"
   ]
  },
  {
   "cell_type": "code",
   "execution_count": 348,
   "metadata": {},
   "outputs": [
    {
     "data": {
      "text/plain": [
       "RandomForestClassifier(bootstrap=True, class_weight=None, criterion='gini',\n",
       "            max_depth=50, max_features='auto', max_leaf_nodes=None,\n",
       "            min_impurity_decrease=0.0, min_impurity_split=None,\n",
       "            min_samples_leaf=1, min_samples_split=2,\n",
       "            min_weight_fraction_leaf=0.0, n_estimators=100, n_jobs=-1,\n",
       "            oob_score=False, random_state=None, verbose=0,\n",
       "            warm_start=False)"
      ]
     },
     "execution_count": 348,
     "metadata": {},
     "output_type": "execute_result"
    }
   ],
   "source": [
    "clf = RandomForestClassifier(max_depth=50, n_estimators=100, n_jobs=-1)\n",
    "clf"
   ]
  },
  {
   "cell_type": "code",
   "execution_count": 302,
   "metadata": {},
   "outputs": [],
   "source": [
    "bitmap = bitmap.fillna(0)"
   ]
  },
  {
   "cell_type": "code",
   "execution_count": 214,
   "metadata": {},
   "outputs": [],
   "source": []
  },
  {
   "cell_type": "code",
   "execution_count": 67,
   "metadata": {},
   "outputs": [],
   "source": [
    "learning_with_quantities = learning_matrix.copy()\n",
    "recipe_qids = recipes_copy.index\n",
    "mask = learning_with_quantities.index.isin(recipe_qids)\n",
    "learning_with_quantities = learning_with_quantities.loc[mask]\n"
   ]
  },
  {
   "cell_type": "code",
   "execution_count": 219,
   "metadata": {},
   "outputs": [
    {
     "data": {
      "text/html": [
       "<div>\n",
       "<style scoped>\n",
       "    .dataframe tbody tr th:only-of-type {\n",
       "        vertical-align: middle;\n",
       "    }\n",
       "\n",
       "    .dataframe tbody tr th {\n",
       "        vertical-align: top;\n",
       "    }\n",
       "\n",
       "    .dataframe thead th {\n",
       "        text-align: right;\n",
       "    }\n",
       "</style>\n",
       "<table border=\"1\" class=\"dataframe\">\n",
       "  <thead>\n",
       "    <tr style=\"text-align: right;\">\n",
       "      <th></th>\n",
       "      <th>Nutrient</th>\n",
       "      <th>Unit</th>\n",
       "      <th>Value</th>\n",
       "    </tr>\n",
       "  </thead>\n",
       "  <tbody>\n",
       "    <tr>\n",
       "      <th>0</th>\n",
       "      <td>calories</td>\n",
       "      <td>kcal</td>\n",
       "      <td>4476</td>\n",
       "    </tr>\n",
       "    <tr>\n",
       "      <th>1</th>\n",
       "      <td>proteinContent</td>\n",
       "      <td>g</td>\n",
       "      <td>152.2</td>\n",
       "    </tr>\n",
       "    <tr>\n",
       "      <th>2</th>\n",
       "      <td>carbohydrateContent</td>\n",
       "      <td>g</td>\n",
       "      <td>867.5</td>\n",
       "    </tr>\n",
       "    <tr>\n",
       "      <th>3</th>\n",
       "      <td>cholesterolContent</td>\n",
       "      <td>mg</td>\n",
       "      <td>154</td>\n",
       "    </tr>\n",
       "    <tr>\n",
       "      <th>4</th>\n",
       "      <td>fatContent</td>\n",
       "      <td>g</td>\n",
       "      <td>33.1</td>\n",
       "    </tr>\n",
       "    <tr>\n",
       "      <th>5</th>\n",
       "      <td>sodiumContent</td>\n",
       "      <td>mg</td>\n",
       "      <td>8972</td>\n",
       "    </tr>\n",
       "  </tbody>\n",
       "</table>\n",
       "</div>"
      ],
      "text/plain": [
       "              Nutrient  Unit  Value\n",
       "0             calories  kcal   4476\n",
       "1       proteinContent     g  152.2\n",
       "2  carbohydrateContent     g  867.5\n",
       "3   cholesterolContent    mg    154\n",
       "4           fatContent     g   33.1\n",
       "5        sodiumContent    mg   8972"
      ]
     },
     "execution_count": 219,
     "metadata": {},
     "output_type": "execute_result"
    }
   ],
   "source": [
    "recipe_to_pd(239809)"
   ]
  },
  {
   "cell_type": "code",
   "execution_count": 218,
   "metadata": {},
   "outputs": [
    {
     "data": {
      "text/html": [
       "<div>\n",
       "<style scoped>\n",
       "    .dataframe tbody tr th:only-of-type {\n",
       "        vertical-align: middle;\n",
       "    }\n",
       "\n",
       "    .dataframe tbody tr th {\n",
       "        vertical-align: top;\n",
       "    }\n",
       "\n",
       "    .dataframe thead th {\n",
       "        text-align: right;\n",
       "    }\n",
       "</style>\n",
       "<table border=\"1\" class=\"dataframe\">\n",
       "  <thead>\n",
       "    <tr style=\"text-align: right;\">\n",
       "      <th></th>\n",
       "      <th>total_time</th>\n",
       "      <th>ingredients</th>\n",
       "      <th>instructions</th>\n",
       "      <th>health_score</th>\n",
       "      <th>calcium</th>\n",
       "      <th>calories</th>\n",
       "      <th>caloriesFromFat</th>\n",
       "      <th>carbohydrates</th>\n",
       "      <th>cholesterol</th>\n",
       "      <th>fat</th>\n",
       "      <th>...</th>\n",
       "      <th>niacin</th>\n",
       "      <th>potassium</th>\n",
       "      <th>protein</th>\n",
       "      <th>saturatedFat</th>\n",
       "      <th>sodium</th>\n",
       "      <th>sugars</th>\n",
       "      <th>thiamin</th>\n",
       "      <th>vitaminA</th>\n",
       "      <th>vitaminB6</th>\n",
       "      <th>vitaminC</th>\n",
       "    </tr>\n",
       "    <tr>\n",
       "      <th>id</th>\n",
       "      <th></th>\n",
       "      <th></th>\n",
       "      <th></th>\n",
       "      <th></th>\n",
       "      <th></th>\n",
       "      <th></th>\n",
       "      <th></th>\n",
       "      <th></th>\n",
       "      <th></th>\n",
       "      <th></th>\n",
       "      <th></th>\n",
       "      <th></th>\n",
       "      <th></th>\n",
       "      <th></th>\n",
       "      <th></th>\n",
       "      <th></th>\n",
       "      <th></th>\n",
       "      <th></th>\n",
       "      <th></th>\n",
       "      <th></th>\n",
       "      <th></th>\n",
       "    </tr>\n",
       "  </thead>\n",
       "  <tbody>\n",
       "    <tr>\n",
       "      <th>239809</th>\n",
       "      <td>20.0</td>\n",
       "      <td>8</td>\n",
       "      <td>4</td>\n",
       "      <td>8</td>\n",
       "      <td>89.0</td>\n",
       "      <td>224.0</td>\n",
       "      <td>0</td>\n",
       "      <td>280.0</td>\n",
       "      <td>51.0</td>\n",
       "      <td>51.0</td>\n",
       "      <td>...</td>\n",
       "      <td>861.0</td>\n",
       "      <td>39.0</td>\n",
       "      <td>304.0</td>\n",
       "      <td>33.0</td>\n",
       "      <td>359.0</td>\n",
       "      <td>0.0</td>\n",
       "      <td>787.0</td>\n",
       "      <td>9.0</td>\n",
       "      <td>32.0</td>\n",
       "      <td>6.0</td>\n",
       "    </tr>\n",
       "  </tbody>\n",
       "</table>\n",
       "<p>1 rows × 24 columns</p>\n",
       "</div>"
      ],
      "text/plain": [
       "        total_time  ingredients  instructions  health_score  calcium  \\\n",
       "id                                                                     \n",
       "239809        20.0            8             4             8     89.0   \n",
       "\n",
       "        calories  caloriesFromFat  carbohydrates  cholesterol   fat    ...     \\\n",
       "id                                                                     ...      \n",
       "239809     224.0                0          280.0         51.0  51.0    ...      \n",
       "\n",
       "        niacin  potassium  protein  saturatedFat  sodium  sugars  thiamin  \\\n",
       "id                                                                          \n",
       "239809   861.0       39.0    304.0          33.0   359.0     0.0    787.0   \n",
       "\n",
       "        vitaminA  vitaminB6  vitaminC  \n",
       "id                                     \n",
       "239809       9.0       32.0       6.0  \n",
       "\n",
       "[1 rows x 24 columns]"
      ]
     },
     "execution_count": 218,
     "metadata": {},
     "output_type": "execute_result"
    }
   ],
   "source": [
    "learning_with_quantities.loc[learning_with_quantities['calories']==learning_with_quantities['calories'].max()]"
   ]
  },
  {
   "cell_type": "code",
   "execution_count": 242,
   "metadata": {},
   "outputs": [],
   "source": [
    "y = learning_with_quantities['calories_amount']"
   ]
  },
  {
   "cell_type": "code",
   "execution_count": 785,
   "metadata": {},
   "outputs": [
    {
     "data": {
      "text/plain": [
       "(41797, 24)"
      ]
     },
     "execution_count": 785,
     "metadata": {},
     "output_type": "execute_result"
    }
   ],
   "source": [
    "recipes_copy.shape"
   ]
  },
  {
   "cell_type": "code",
   "execution_count": 292,
   "metadata": {},
   "outputs": [
    {
     "data": {
      "text/plain": [
       "(41797, 6253)"
      ]
     },
     "execution_count": 292,
     "metadata": {},
     "output_type": "execute_result"
    }
   ],
   "source": [
    "bitmap.shape"
   ]
  },
  {
   "cell_type": "code",
   "execution_count": 293,
   "metadata": {},
   "outputs": [],
   "source": [
    "seed = 1"
   ]
  },
  {
   "cell_type": "code",
   "execution_count": null,
   "metadata": {},
   "outputs": [],
   "source": [
    "%%time\n",
    "X_train, X_test, y_train, y_test = train_test_split(\n",
    "    bitmap, learning_with_quantities['health_score'], test_size=0.25, random_state=42)\n",
    "\n",
    "sgd.fit(X_train, y_train)\n",
    "\n"
   ]
  },
  {
   "cell_type": "code",
   "execution_count": 299,
   "metadata": {},
   "outputs": [],
   "source": [
    "predictions = sgd.predict(X_test)"
   ]
  },
  {
   "cell_type": "code",
   "execution_count": 300,
   "metadata": {},
   "outputs": [
    {
     "name": "stdout",
     "output_type": "stream",
     "text": [
      "MAE: 1.046469628191961\n",
      "MSE: 2.0679192680731897\n"
     ]
    }
   ],
   "source": [
    "print(\"MAE:\", mean_absolute_error(y_test, predictions))\n",
    "print(\"MSE:\", mean_squared_error(y_test, predictions))\n"
   ]
  },
  {
   "cell_type": "markdown",
   "metadata": {},
   "source": [
    "## Quaintities "
   ]
  },
  {
   "cell_type": "code",
   "execution_count": null,
   "metadata": {},
   "outputs": [],
   "source": [
    "ind, dist = np.load()"
   ]
  },
  {
   "cell_type": "code",
   "execution_count": 12,
   "metadata": {},
   "outputs": [
    {
     "ename": "NameError",
     "evalue": "name 'recipes_copy' is not defined",
     "output_type": "error",
     "traceback": [
      "\u001b[0;31m---------------------------------------------------------------------------\u001b[0m",
      "\u001b[0;31mNameError\u001b[0m                                 Traceback (most recent call last)",
      "\u001b[0;32m<ipython-input-12-de4b61c3deca>\u001b[0m in \u001b[0;36m<module>\u001b[0;34m()\u001b[0m\n\u001b[1;32m      1\u001b[0m \u001b[0;34m\u001b[0m\u001b[0m\n\u001b[1;32m      2\u001b[0m X_train, X_test, y_train, y_test = train_test_split(\n\u001b[0;32m----> 3\u001b[0;31m     quantity_map.div(quantity_map.sum(axis=1), axis=0), recipes_copy['health_score'], test_size=0.25, random_state=42)\n\u001b[0m",
      "\u001b[0;31mNameError\u001b[0m: name 'recipes_copy' is not defined"
     ]
    }
   ],
   "source": [
    "\n",
    "X_train, X_test, y_train, y_test = train_test_split(\n",
    "    quantity_map.div(quantity_map.sum(axis=1), axis=0), recipes_copy['health_score'], test_size=0.25, random_state=42)\n"
   ]
  },
  {
   "cell_type": "code",
   "execution_count": null,
   "metadata": {},
   "outputs": [],
   "source": [
    "enet = ElasticNet(alpha=0.00001, l1_ratio=0.15, fit_intercept=True, max_iter=100000, tol=1e-5, random_state=1, warm_start=True)\n"
   ]
  },
  {
   "cell_type": "code",
   "execution_count": null,
   "metadata": {},
   "outputs": [],
   "source": [
    "%%time\n",
    "enet.fit(X_train, y_train)\n"
   ]
  },
  {
   "cell_type": "code",
   "execution_count": 539,
   "metadata": {},
   "outputs": [],
   "source": [
    "predictions = enet.predict(X_test)"
   ]
  },
  {
   "cell_type": "code",
   "execution_count": 540,
   "metadata": {},
   "outputs": [
    {
     "name": "stdout",
     "output_type": "stream",
     "text": [
      "MAE: 1.1504820593348344\n",
      "MSE: 2.4210971068039204\n"
     ]
    }
   ],
   "source": [
    "print(\"MAE:\", mean_absolute_error(y_test, predictions))\n",
    "print(\"MSE:\", mean_squared_error(y_test, predictions))\n"
   ]
  },
  {
   "cell_type": "code",
   "execution_count": 541,
   "metadata": {},
   "outputs": [],
   "source": [
    "from sklearn.preprocessing import RobustScaler"
   ]
  },
  {
   "cell_type": "code",
   "execution_count": 542,
   "metadata": {},
   "outputs": [],
   "source": [
    "rb = RobustScaler()"
   ]
  },
  {
   "cell_type": "code",
   "execution_count": null,
   "metadata": {},
   "outputs": [],
   "source": [
    "%%time\n",
    "enet.fit(rb.fit_transform(X_train), y_train)"
   ]
  },
  {
   "cell_type": "code",
   "execution_count": null,
   "metadata": {},
   "outputs": [],
   "source": [
    "predictions = enet.predict(rb.transform(X_test))\n",
    "print(\"MAE:\", mean_absolute_error(y_test, predictions))\n",
    "print(\"MSE:\", mean_squared_error(y_test, predictions))\n"
   ]
  },
  {
   "cell_type": "code",
   "execution_count": 245,
   "metadata": {},
   "outputs": [],
   "source": [
    "from sklearn.linear_model import SGDRegressor\n",
    "from sklearn.linear_model import ElasticNet\n",
    "from sklearn.linear_model import Ridge"
   ]
  },
  {
   "cell_type": "code",
   "execution_count": null,
   "metadata": {},
   "outputs": [],
   "source": [
    "sgd.coef_"
   ]
  },
  {
   "cell_type": "code",
   "execution_count": 295,
   "metadata": {},
   "outputs": [],
   "source": [
    "sgd = SGDRegressor(loss='squared_loss', penalty='l2', alpha=0.0001, l1_ratio=0.15, fit_intercept=True, max_iter=100, tol=1e-4, shuffle=True, verbose=5, epsilon=0.1, random_state=None, learning_rate='constant', eta0=0.0001, power_t=100, warm_start=False, average=False, n_iter=None)\n",
    "#enet = ElasticNet(alpha=0.0001, l1_ratio=0.15, fit_intercept=True, max_iter=100000, tol=1e-4, random_state=None, warm_start=True)\n",
    "ridge = Ridge(alpha=0.001, fit_intercept=True, max_iter=1000, tol=0.001, solver='auto', random_state=1)\n",
    "\n"
   ]
  },
  {
   "cell_type": "code",
   "execution_count": 306,
   "metadata": {},
   "outputs": [
    {
     "data": {
      "text/plain": [
       "array([[    0,  4033, 32204, ..., 28190, 24380, 12696],\n",
       "       [    1, 17078,  1640, ...,   954,  3720, 20421],\n",
       "       [    2, 41802, 20930, ..., 34483, 22904, 16886],\n",
       "       ...,\n",
       "       [44062, 38752, 37104, ..., 15398, 14988, 14455],\n",
       "       [ 1520, 44063, 27376, ...,   935,  7914,  1265],\n",
       "       [44064,   955,  8462, ...,   808,  1280,  5806]])"
      ]
     },
     "execution_count": 306,
     "metadata": {},
     "output_type": "execute_result"
    }
   ],
   "source": [
    "ind"
   ]
  },
  {
   "cell_type": "code",
   "execution_count": 305,
   "metadata": {},
   "outputs": [
    {
     "data": {
      "text/plain": [
       "array([[0.        , 0.5       , 0.6       , ..., 0.66666667, 0.66666667,\n",
       "        0.66666667],\n",
       "       [0.        , 0.36363636, 0.36363636, ..., 0.45454545, 0.45454545,\n",
       "        0.45454545],\n",
       "       [0.        , 0.53333333, 0.53846154, ..., 0.58333333, 0.58333333,\n",
       "        0.58333333],\n",
       "       ...,\n",
       "       [0.        , 0.69230769, 0.7       , ..., 0.7       , 0.71428571,\n",
       "        0.71428571],\n",
       "       [0.        , 0.        , 0.        , ..., 0.5       , 0.5       ,\n",
       "        0.5       ],\n",
       "       [0.        , 0.        , 0.        , ..., 0.33333333, 0.33333333,\n",
       "        0.33333333]])"
      ]
     },
     "execution_count": 305,
     "metadata": {},
     "output_type": "execute_result"
    }
   ],
   "source": [
    "dist"
   ]
  },
  {
   "cell_type": "code",
   "execution_count": null,
   "metadata": {},
   "outputs": [],
   "source": [
    "%%time\n",
    "sgd.fit(X_train, y_train)"
   ]
  },
  {
   "cell_type": "code",
   "execution_count": 5,
   "metadata": {},
   "outputs": [],
   "source": [
    "from sklearn.metrics import mean_absolute_error, mean_squared_error"
   ]
  },
  {
   "cell_type": "code",
   "execution_count": 290,
   "metadata": {},
   "outputs": [],
   "source": [
    "predictions = sgd.predict(X_test)"
   ]
  },
  {
   "cell_type": "code",
   "execution_count": 291,
   "metadata": {},
   "outputs": [
    {
     "name": "stdout",
     "output_type": "stream",
     "text": [
      "MAE: 1.3359067063868681\n",
      "MSE: 3.1229173888508033\n"
     ]
    }
   ],
   "source": [
    "print(\"MAE:\", mean_absolute_error(y_test, predictions))\n",
    "print(\"MSE:\", mean_squared_error(y_test, predictions))\n"
   ]
  },
  {
   "cell_type": "code",
   "execution_count": 336,
   "metadata": {},
   "outputs": [
    {
     "data": {
      "text/plain": [
       "1.429054083751103"
      ]
     },
     "execution_count": 336,
     "metadata": {},
     "output_type": "execute_result"
    }
   ],
   "source": [
    "np.sqrt(2.0421955742857048)"
   ]
  },
  {
   "cell_type": "code",
   "execution_count": 357,
   "metadata": {},
   "outputs": [
    {
     "name": "stdout",
     "output_type": "stream",
     "text": [
      "MAE: 1.13252246528\n",
      "MSE: 2.84532994463\n"
     ]
    }
   ],
   "source": [
    "print(\"MAE:\", mean_absolute_error(y_test, predictions))\n",
    "print(\"MSE:\", mean_squared_error(y_test, predictions))\n"
   ]
  },
  {
   "cell_type": "code",
   "execution_count": 181,
   "metadata": {},
   "outputs": [
    {
     "data": {
      "text/plain": [
       "array([3075, 1548, 2670, ..., 5654, 3385, 1781])"
      ]
     },
     "execution_count": 181,
     "metadata": {},
     "output_type": "execute_result"
    }
   ],
   "source": [
    "np.argsort(enet.coef_)"
   ]
  },
  {
   "cell_type": "code",
   "execution_count": 180,
   "metadata": {},
   "outputs": [
    {
     "data": {
      "image/png": "[encoded data removed]",
      "text/plain": [
       "<Figure size 432x288 with 1 Axes>"
      ]
     },
     "metadata": {},
     "output_type": "display_data"
    }
   ],
   "source": [
    "plt.scatter(np.argsort(enet.coef_), sorted(enet.coef_))\n",
    "plt.show()\n",
    "\n"
   ]
  },
  {
   "cell_type": "code",
   "execution_count": 341,
   "metadata": {},
   "outputs": [
    {
     "data": {
      "text/plain": [
       "array([4887, 3940, 1578, ..., 5183, 5853, 5693])"
      ]
     },
     "execution_count": 341,
     "metadata": {},
     "output_type": "execute_result"
    }
   ],
   "source": [
    "np.argsort(sgd.coef_)"
   ]
  },
  {
   "cell_type": "code",
   "execution_count": 190,
   "metadata": {},
   "outputs": [],
   "source": [
    "ing_names=[]\n",
    "for ing_id in sorted(all_ingredients):\n",
    "    ing_names.append(ingredients_dict[int(ing_id)])"
   ]
  },
  {
   "cell_type": "code",
   "execution_count": 506,
   "metadata": {},
   "outputs": [
    {
     "data": {
      "text/plain": [
       "array([1618, 4694,  981, ..., 4497,  731,  785])"
      ]
     },
     "execution_count": 506,
     "metadata": {},
     "output_type": "execute_result"
    }
   ],
   "source": [
    "np.argsort(sgd.coef_)"
   ]
  },
  {
   "cell_type": "code",
   "execution_count": null,
   "metadata": {},
   "outputs": [],
   "source": [
    "for i, ing in enumerate(sorted(all_ingredients)[-30:]):\n",
    "    print(all_ingredients_dict[list(sorted(all_ingredients))[ing]], list(sorted(all_ingredients))[ing],ing, sgd.coef_[i])"
   ]
  },
  {
   "cell_type": "code",
   "execution_count": null,
   "metadata": {},
   "outputs": [],
   "source": [
    "for ing in np.argsort(sgd.coef_):\n",
    "    print(all_ingredients_dict[list(sorted(all_ingredients))[ing]], list(sorted(all_ingredients))[ing],ing)"
   ]
  },
  {
   "cell_type": "code",
   "execution_count": 150,
   "metadata": {},
   "outputs": [],
   "source": [
    "plotly.tools.set_credentials_file(username='bojana-rankovic', api_key='PJf6RIVOR9TgNEFWmkJu')\n"
   ]
  },
  {
   "cell_type": "code",
   "execution_count": 153,
   "metadata": {},
   "outputs": [
    {
     "data": {
      "text/plain": [
       "6253"
      ]
     },
     "execution_count": 153,
     "metadata": {},
     "output_type": "execute_result"
    }
   ],
   "source": [
    "len(enet.coef_)"
   ]
  },
  {
   "cell_type": "code",
   "execution_count": 155,
   "metadata": {},
   "outputs": [
    {
     "data": {
      "text/plain": [
       "961"
      ]
     },
     "execution_count": 155,
     "metadata": {},
     "output_type": "execute_result"
    }
   ],
   "source": [
    "len(base)"
   ]
  },
  {
   "cell_type": "code",
   "execution_count": 158,
   "metadata": {},
   "outputs": [
    {
     "data": {
      "text/plain": [
       "Index(['10000', '10002', '10011', '10017', '10018', '1002', '10022', '10023',\n",
       "       '10027', '1003',\n",
       "       ...\n",
       "       '9908', '9911', '9940', '9941', '9972', '9976', '9981', '9986', '9988',\n",
       "       '999'],\n",
       "      dtype='object', length=6253)"
      ]
     },
     "execution_count": 158,
     "metadata": {},
     "output_type": "execute_result"
    }
   ],
   "source": [
    "quantity_map.columns"
   ]
  },
  {
   "cell_type": "code",
   "execution_count": null,
   "metadata": {},
   "outputs": [],
   "source": [
    "bbb = pd.read_csv('../data/ingredients_bitmap.csv')"
   ]
  },
  {
   "cell_type": "code",
   "execution_count": 159,
   "metadata": {},
   "outputs": [
    {
     "data": {
      "text/plain": [
       "Index(['10000', '10002', '10011', '10017', '10018', '1002', '10022', '10023',\n",
       "       '10027', '1003',\n",
       "       ...\n",
       "       '9908', '9911', '9940', '9941', '9972', '9976', '9981', '9986', '9988',\n",
       "       '999'],\n",
       "      dtype='object', length=6253)"
      ]
     },
     "execution_count": 159,
     "metadata": {},
     "output_type": "execute_result"
    }
   ],
   "source": [
    "bitmap.columns"
   ]
  },
  {
   "cell_type": "code",
   "execution_count": 178,
   "metadata": {},
   "outputs": [
    {
     "data": {
      "text/plain": [
       "0.44058851751159445"
      ]
     },
     "execution_count": 178,
     "metadata": {},
     "output_type": "execute_result"
    }
   ],
   "source": [
    "len(perc)/len(all_ingredients)"
   ]
  },
  {
   "cell_type": "code",
   "execution_count": null,
   "metadata": {},
   "outputs": [],
   "source": [
    "sizes = []\n",
    "for p in sorted(perc:\n",
    "    sizes.append(p[1]/)"
   ]
  },
  {
   "cell_type": "code",
   "execution_count": null,
   "metadata": {},
   "outputs": [],
   "source": []
  },
  {
   "cell_type": "code",
   "execution_count": null,
   "metadata": {},
   "outputs": [],
   "source": [
    "overall = Counter()\n",
    "for ing in tqdm(set(base).union(set(extra))):\n",
    "    for recipe in recipes_copy.index:\n",
    "        for ingredient in recipes_copy.at[recipe, 'ingredients']:\n",
    "            if ing == ingredient:\n",
    "                overall[ing]+=1\n",
    "                break"
   ]
  },
  {
   "cell_type": "code",
   "execution_count": 217,
   "metadata": {},
   "outputs": [
    {
     "data": {
      "text/plain": [
       "10536"
      ]
     },
     "execution_count": 217,
     "metadata": {},
     "output_type": "execute_result"
    }
   ],
   "source": [
    "base['1526']+extra['1526']"
   ]
  },
  {
   "cell_type": "code",
   "execution_count": null,
   "metadata": {},
   "outputs": [],
   "source": [
    "ing_dict"
   ]
  },
  {
   "cell_type": "code",
   "execution_count": 260,
   "metadata": {},
   "outputs": [
    {
     "name": "stderr",
     "output_type": "stream",
     "text": [
      "\n",
      "0it [00:00, ?it/s]\u001b[A\n",
      "6253it [00:00, 161030.16it/s]\u001b[A"
     ]
    }
   ],
   "source": [
    "ing_dict = {}\n",
    "for i, ing in tqdm(enumerate(sorted(all_ingredients))):\n",
    "    try:\n",
    "      cnt_base = base[ing]\n",
    "    except:\n",
    "      cnt_base = 0\n",
    "    \n",
    "    try:\n",
    "      cnt_to_add = extra[ing]\n",
    "    except:\n",
    "      cnt_to_add = 0\n",
    "    \n",
    "    ing_dict[ing]=({'name':ingredients_dict[int(ing)],'score':enet.coef_[i], \n",
    "                    'extra_overall': cnt_to_add/len(pairs), 'base_overall':cnt_base/len(pairs)\n",
    "                   })\n",
    "    \n"
   ]
  },
  {
   "cell_type": "code",
   "execution_count": 316,
   "metadata": {},
   "outputs": [],
   "source": [
    "ing2position={}\n",
    "for i,ing in enumerate(sorted(all_ingredients)):\n",
    "    ing2position[ing] = i"
   ]
  },
  {
   "cell_type": "code",
   "execution_count": 2,
   "metadata": {},
   "outputs": [
    {
     "ename": "NameError",
     "evalue": "name 'base' is not defined",
     "output_type": "error",
     "traceback": [
      "\u001b[0;31m---------------------------------------------------------------------------\u001b[0m",
      "\u001b[0;31mNameError\u001b[0m                                 Traceback (most recent call last)",
      "\u001b[0;32m<ipython-input-2-5fb0cfdcfd0d>\u001b[0m in \u001b[0;36m<module>\u001b[0;34m()\u001b[0m\n\u001b[1;32m      1\u001b[0m \u001b[0ming_dict\u001b[0m\u001b[0;34m=\u001b[0m\u001b[0;34m{\u001b[0m\u001b[0;34m}\u001b[0m\u001b[0;34m\u001b[0m\u001b[0m\n\u001b[0;32m----> 2\u001b[0;31m \u001b[0;32mfor\u001b[0m  \u001b[0ming\u001b[0m \u001b[0;32min\u001b[0m \u001b[0mset\u001b[0m\u001b[0;34m(\u001b[0m\u001b[0mbase\u001b[0m\u001b[0;34m.\u001b[0m\u001b[0mkeys\u001b[0m\u001b[0;34m(\u001b[0m\u001b[0;34m)\u001b[0m\u001b[0;34m)\u001b[0m\u001b[0;34m.\u001b[0m\u001b[0munion\u001b[0m\u001b[0;34m(\u001b[0m\u001b[0mset\u001b[0m\u001b[0;34m(\u001b[0m\u001b[0mextra\u001b[0m\u001b[0;34m.\u001b[0m\u001b[0mkeys\u001b[0m\u001b[0;34m(\u001b[0m\u001b[0;34m)\u001b[0m\u001b[0;34m)\u001b[0m\u001b[0;34m)\u001b[0m\u001b[0;34m:\u001b[0m\u001b[0;34m\u001b[0m\u001b[0m\n\u001b[0m\u001b[1;32m      3\u001b[0m     \u001b[0;32mtry\u001b[0m\u001b[0;34m:\u001b[0m\u001b[0;34m\u001b[0m\u001b[0m\n\u001b[1;32m      4\u001b[0m       \u001b[0mcnt_base\u001b[0m \u001b[0;34m=\u001b[0m \u001b[0mbase\u001b[0m\u001b[0;34m[\u001b[0m\u001b[0ming\u001b[0m\u001b[0;34m]\u001b[0m\u001b[0;34m\u001b[0m\u001b[0m\n\u001b[1;32m      5\u001b[0m     \u001b[0;32mexcept\u001b[0m\u001b[0;34m:\u001b[0m\u001b[0;34m\u001b[0m\u001b[0m\n",
      "\u001b[0;31mNameError\u001b[0m: name 'base' is not defined"
     ]
    }
   ],
   "source": [
    "ing_dict={}\n",
    "for  ing in set(base.keys()).union(set(extra.keys())):\n",
    "    try:\n",
    "      cnt_base = base[ing]\n",
    "    except:\n",
    "      cnt_base = 0\n",
    "    \n",
    "    try:\n",
    "      cnt_to_add = extra[ing]\n",
    "    except:\n",
    "      cnt_to_add = 0\n",
    "   \n",
    "    ing_dict[ing] = ({'name':ingredients_dict[int(ing)],'score':enet.coef_[ing2position[ing]], 'p_extra': cnt_to_add/(cnt_base+cnt_to_add),\n",
    "                      'extra_overall': cnt_to_add/len(pairs), 'base_overall':cnt_base/len(pairs)})\n",
    "   "
   ]
  },
  {
   "cell_type": "code",
   "execution_count": 328,
   "metadata": {},
   "outputs": [
    {
     "name": "stdout",
     "output_type": "stream",
     "text": [
      "{'name': '1/4 cup hazelnut-flavored syrup for beverages', 'score': 0.0, 'p_extra': 1.0, 'extra_overall': 5.2293050253621294e-05, 'base_overall': 0.0}\n"
     ]
    }
   ],
   "source": [
    "for ingredient in ing_dict:\n",
    "    print (ing_dict[ingredient])\n",
    "    break"
   ]
  },
  {
   "cell_type": "code",
   "execution_count": 266,
   "metadata": {},
   "outputs": [],
   "source": [
    "names = [ing_dict[key]['name'] for key in ing_dict.keys()]"
   ]
  },
  {
   "cell_type": "code",
   "execution_count": 306,
   "metadata": {},
   "outputs": [],
   "source": [
    "sizes = []\n",
    "for key in ing_dict.keys():\n",
    "    sizes.append(ext*ing_dict[key]['extra_overall'])"
   ]
  },
  {
   "cell_type": "code",
   "execution_count": 1,
   "metadata": {},
   "outputs": [
    {
     "ename": "NameError",
     "evalue": "name 'ing_dict' is not defined",
     "output_type": "error",
     "traceback": [
      "\u001b[0;31m---------------------------------------------------------------------------\u001b[0m",
      "\u001b[0;31mNameError\u001b[0m                                 Traceback (most recent call last)",
      "\u001b[0;32m<ipython-input-1-31fe3491216e>\u001b[0m in \u001b[0;36m<module>\u001b[0;34m()\u001b[0m\n\u001b[1;32m     12\u001b[0m trace1 = go.Scatter(\n\u001b[1;32m     13\u001b[0m \u001b[0;34m\u001b[0m\u001b[0m\n\u001b[0;32m---> 14\u001b[0;31m     \u001b[0my\u001b[0m \u001b[0;34m=\u001b[0m \u001b[0;34m[\u001b[0m\u001b[0ming_dict\u001b[0m\u001b[0;34m[\u001b[0m\u001b[0mkey\u001b[0m\u001b[0;34m]\u001b[0m\u001b[0;34m[\u001b[0m\u001b[0;34m'score'\u001b[0m\u001b[0;34m]\u001b[0m \u001b[0;32mfor\u001b[0m \u001b[0mkey\u001b[0m \u001b[0;32min\u001b[0m \u001b[0ming_dict\u001b[0m\u001b[0;34m.\u001b[0m\u001b[0mkeys\u001b[0m\u001b[0;34m(\u001b[0m\u001b[0;34m)\u001b[0m\u001b[0;34m]\u001b[0m\u001b[0;34m,\u001b[0m\u001b[0;34m\u001b[0m\u001b[0m\n\u001b[0m\u001b[1;32m     15\u001b[0m     \u001b[0mmode\u001b[0m\u001b[0;34m=\u001b[0m\u001b[0;34m'markers'\u001b[0m\u001b[0;34m,\u001b[0m\u001b[0;34m\u001b[0m\u001b[0m\n\u001b[1;32m     16\u001b[0m     marker=dict(\n",
      "\u001b[0;31mNameError\u001b[0m: name 'ing_dict' is not defined"
     ]
    }
   ],
   "source": [
    "import plotly.plotly as py\n",
    "import plotly\n",
    "import plotly.graph_objs as go\n",
    "\n",
    "# Create random data with numpy\n",
    "import numpy as np\n",
    "\n",
    "\n",
    "\n",
    "trace1 = go.Scatter(\n",
    "    \n",
    "    y = [ing_dict[key]['score'] for key in ing_dict.keys()],\n",
    "    mode='markers',\n",
    "    marker=dict(\n",
    "        size = [ing_dict[key]['p_extra']*ing_dict[key]['extra_overall'] * 5000 for key in ing_dict.keys()],\n",
    "        color = np.random.randn(len(ing_dict)), #set color equal to a variable\n",
    "        colorscale='Viridis',\n",
    "        showscale=True,\n",
    "        \n",
    "    ),\n",
    "    text= [ing_dict[key]['name'] for key in ing_dict.keys()])\n",
    "\n",
    "data = [trace1]\n",
    "\n",
    "\n",
    "# Plot and embed in ipython notebook!\n",
    "py.iplot(data, filename='ingredient healthiness')\n",
    "\n",
    "# or plot with: plot_url = py.plot(data, filename='basic-line')"
   ]
  },
  {
   "cell_type": "code",
   "execution_count": null,
   "metadata": {},
   "outputs": [],
   "source": []
  }
 ],
 "metadata": {
  "kernelspec": {
   "display_name": "Python [default]",
   "language": "python",
   "name": "python3"
  },
  "language_info": {
   "codemirror_mode": {
    "name": "ipython",
    "version": 3
   },
   "file_extension": ".py",
   "mimetype": "text/x-python",
   "name": "python",
   "nbconvert_exporter": "python",
   "pygments_lexer": "ipython3",
   "version": "3.6.5"
  }
 },
 "nbformat": 4,
 "nbformat_minor": 2
}
