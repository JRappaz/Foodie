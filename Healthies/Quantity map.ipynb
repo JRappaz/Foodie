{
 "cells": [
  {
   "cell_type": "code",
   "execution_count": 2,
   "metadata": {},
   "outputs": [],
   "source": [
    "import sys\n",
    "sys.path.append('..')\n",
    "import re\n",
    "import nltk\n",
    "import json\n",
    "import warnings\n",
    "from tqdm import tqdm\n",
    "import numpy as np\n",
    "warnings.filterwarnings('ignore')\n",
    "\n",
    "from nltk.corpus import stopwords\n",
    "\n",
    "from utilities.helpers import *"
   ]
  },
  {
   "cell_type": "code",
   "execution_count": 3,
   "metadata": {},
   "outputs": [],
   "source": [
    "user_data, recipes_users = load_data()"
   ]
  },
  {
   "cell_type": "code",
   "execution_count": 4,
   "metadata": {},
   "outputs": [],
   "source": [
    "recipe_id = 6675"
   ]
  },
  {
   "cell_type": "code",
   "execution_count": 5,
   "metadata": {},
   "outputs": [],
   "source": [
    "recipe_data = load_recipe(recipe_id)"
   ]
  },
  {
   "cell_type": "code",
   "execution_count": 6,
   "metadata": {},
   "outputs": [
    {
     "name": "stdout",
     "output_type": "stream",
     "text": [
      "{'cook_time': '30 m',\n",
      " 'description': '\\r\\n'\n",
      "                '\"A soft, moist cornbread center with a crunchy '\n",
      "                'crust.\"        ',\n",
      " 'featured_in_magazine': False,\n",
      " 'ingredients': [{'id': '16317', 'text': '1 egg'},\n",
      "                 {'id': '16278', 'text': '1 1/3 cups milk'},\n",
      "                 {'id': '6379', 'text': '1/4 cup vegetable oil'},\n",
      "                 {'id': '166', 'text': '2 cups self-rising corn meal mix'},\n",
      "                 {'id': '4315', 'text': '1 (8 ounce) can cream-style corn'},\n",
      "                 {'id': '16261', 'text': '1 cup sour cream'}],\n",
      " 'instructions': ['Heat oven to 425 degrees F (220 degrees C). Grease a 9 inch '\n",
      "                  'iron skillet.',\n",
      "                  'In a large bowl, beat the egg. Add milk, oil, sour cream, '\n",
      "                  'cream corn, and cornmeal mix; stir until cornmeal is just '\n",
      "                  'dampened. Pour batter into greased skillet.',\n",
      "                  'Bake for 25 to 30 minutes, or until knife inserted in '\n",
      "                  'center comes out clean.'],\n",
      " 'made_it_count': '19',\n",
      " 'nutri_facts': {'calories': '328 kcal',\n",
      "                 'carbohydrateContent': '40.8g',\n",
      "                 'cholesterolContent': '39 mg',\n",
      "                 'fatContent': '15.9 g',\n",
      "                 'proteinContent': '6.4 g',\n",
      "                 'sodiumContent': '772 mg'},\n",
      " 'photos_count': '4',\n",
      " 'prep_time': '5 m',\n",
      " 'ready_time': '35 m',\n",
      " 'reviews_count': '69',\n",
      " 'stars_rate': ['41', '16', '17', '8', '16']}\n"
     ]
    }
   ],
   "source": [
    "pprint(recipe_data)"
   ]
  },
  {
   "cell_type": "code",
   "execution_count": 7,
   "metadata": {},
   "outputs": [],
   "source": [
    "def recipe_to_pd(recipe_id):\n",
    "    import re\n",
    "    recipe_data = load_recipe(recipe_id)\n",
    "    values = []\n",
    "    units = []\n",
    "    for nutrient in recipe_data['nutri_facts'].keys():\n",
    "        value_unit = recipe_data['nutri_facts'][nutrient]\n",
    "        value = re.findall(r\"[+-]? *(?:\\d+(?:\\.\\d*)?|\\.\\d+)(?:[eE][+-]?\\d+)?\", value_unit)\n",
    "        values.append(value[0])\n",
    "        units.append(value_unit.replace(value[0],'').replace(' ',''))\n",
    "    return pd.DataFrame(data={'Nutrient': list(recipe_data['nutri_facts'].keys()), 'Unit': units, 'Value': values})"
   ]
  },
  {
   "cell_type": "code",
   "execution_count": 8,
   "metadata": {},
   "outputs": [
    {
     "data": {
      "text/html": [
       "<div>\n",
       "<style scoped>\n",
       "    .dataframe tbody tr th:only-of-type {\n",
       "        vertical-align: middle;\n",
       "    }\n",
       "\n",
       "    .dataframe tbody tr th {\n",
       "        vertical-align: top;\n",
       "    }\n",
       "\n",
       "    .dataframe thead th {\n",
       "        text-align: right;\n",
       "    }\n",
       "</style>\n",
       "<table border=\"1\" class=\"dataframe\">\n",
       "  <thead>\n",
       "    <tr style=\"text-align: right;\">\n",
       "      <th></th>\n",
       "      <th>Nutrient</th>\n",
       "      <th>Unit</th>\n",
       "      <th>Value</th>\n",
       "    </tr>\n",
       "  </thead>\n",
       "  <tbody>\n",
       "    <tr>\n",
       "      <th>0</th>\n",
       "      <td>sodiumContent</td>\n",
       "      <td>mg</td>\n",
       "      <td>772</td>\n",
       "    </tr>\n",
       "    <tr>\n",
       "      <th>1</th>\n",
       "      <td>carbohydrateContent</td>\n",
       "      <td>g</td>\n",
       "      <td>40.8</td>\n",
       "    </tr>\n",
       "    <tr>\n",
       "      <th>2</th>\n",
       "      <td>fatContent</td>\n",
       "      <td>g</td>\n",
       "      <td>15.9</td>\n",
       "    </tr>\n",
       "    <tr>\n",
       "      <th>3</th>\n",
       "      <td>proteinContent</td>\n",
       "      <td>g</td>\n",
       "      <td>6.4</td>\n",
       "    </tr>\n",
       "    <tr>\n",
       "      <th>4</th>\n",
       "      <td>calories</td>\n",
       "      <td>kcal</td>\n",
       "      <td>328</td>\n",
       "    </tr>\n",
       "    <tr>\n",
       "      <th>5</th>\n",
       "      <td>cholesterolContent</td>\n",
       "      <td>mg</td>\n",
       "      <td>39</td>\n",
       "    </tr>\n",
       "  </tbody>\n",
       "</table>\n",
       "</div>"
      ],
      "text/plain": [
       "              Nutrient  Unit Value\n",
       "0        sodiumContent    mg   772\n",
       "1  carbohydrateContent     g  40.8\n",
       "2           fatContent     g  15.9\n",
       "3       proteinContent     g   6.4\n",
       "4             calories  kcal   328\n",
       "5   cholesterolContent    mg    39"
      ]
     },
     "execution_count": 8,
     "metadata": {},
     "output_type": "execute_result"
    }
   ],
   "source": [
    "recipe_to_pd(6675)"
   ]
  },
  {
   "cell_type": "code",
   "execution_count": 9,
   "metadata": {},
   "outputs": [],
   "source": [
    "nutrients = ['fatContent',  'cholesterolContent', 'sodiumContent',  'carbohydrateContent', 'proteinContent']\n",
    "units = ['g',  'mg', 'mg', 'g', 'g']\n",
    "values = [65, 300, 2400, 300, 50]"
   ]
  },
  {
   "cell_type": "code",
   "execution_count": 10,
   "metadata": {},
   "outputs": [
    {
     "name": "stdout",
     "output_type": "stream",
     "text": [
      "There are 5 nutrients defining the daily reference.\n"
     ]
    },
    {
     "data": {
      "text/html": [
       "<div>\n",
       "<style scoped>\n",
       "    .dataframe tbody tr th:only-of-type {\n",
       "        vertical-align: middle;\n",
       "    }\n",
       "\n",
       "    .dataframe tbody tr th {\n",
       "        vertical-align: top;\n",
       "    }\n",
       "\n",
       "    .dataframe thead th {\n",
       "        text-align: right;\n",
       "    }\n",
       "</style>\n",
       "<table border=\"1\" class=\"dataframe\">\n",
       "  <thead>\n",
       "    <tr style=\"text-align: right;\">\n",
       "      <th></th>\n",
       "      <th>Nutrient</th>\n",
       "      <th>Unit</th>\n",
       "      <th>Value</th>\n",
       "    </tr>\n",
       "  </thead>\n",
       "  <tbody>\n",
       "    <tr>\n",
       "      <th>0</th>\n",
       "      <td>fatContent</td>\n",
       "      <td>g</td>\n",
       "      <td>65</td>\n",
       "    </tr>\n",
       "    <tr>\n",
       "      <th>1</th>\n",
       "      <td>cholesterolContent</td>\n",
       "      <td>mg</td>\n",
       "      <td>300</td>\n",
       "    </tr>\n",
       "    <tr>\n",
       "      <th>2</th>\n",
       "      <td>sodiumContent</td>\n",
       "      <td>mg</td>\n",
       "      <td>2400</td>\n",
       "    </tr>\n",
       "    <tr>\n",
       "      <th>3</th>\n",
       "      <td>carbohydrateContent</td>\n",
       "      <td>g</td>\n",
       "      <td>300</td>\n",
       "    </tr>\n",
       "    <tr>\n",
       "      <th>4</th>\n",
       "      <td>proteinContent</td>\n",
       "      <td>g</td>\n",
       "      <td>50</td>\n",
       "    </tr>\n",
       "  </tbody>\n",
       "</table>\n",
       "</div>"
      ],
      "text/plain": [
       "              Nutrient Unit  Value\n",
       "0           fatContent    g     65\n",
       "1   cholesterolContent   mg    300\n",
       "2        sodiumContent   mg   2400\n",
       "3  carbohydrateContent    g    300\n",
       "4       proteinContent    g     50"
      ]
     },
     "execution_count": 10,
     "metadata": {},
     "output_type": "execute_result"
    }
   ],
   "source": [
    "dvr = pd.DataFrame(data={'Nutrient': nutrients, 'Unit': units, 'Value': values})\n",
    "print('There are {} nutrients defining the daily reference.'.format(len(dvr)))\n",
    "dvr.head()"
   ]
  },
  {
   "cell_type": "code",
   "execution_count": 11,
   "metadata": {
    "scrolled": true
   },
   "outputs": [],
   "source": [
    "raw_ingredients = [ingredient['text'] for ingredient in recipe_data['ingredients']]"
   ]
  },
  {
   "cell_type": "code",
   "execution_count": 12,
   "metadata": {},
   "outputs": [
    {
     "data": {
      "text/plain": [
       "['1 egg',\n",
       " '1 1/3 cups milk',\n",
       " '1/4 cup vegetable oil',\n",
       " '2 cups self-rising corn meal mix',\n",
       " '1 (8 ounce) can cream-style corn',\n",
       " '1 cup sour cream']"
      ]
     },
     "execution_count": 12,
     "metadata": {},
     "output_type": "execute_result"
    }
   ],
   "source": [
    "raw_ingredients"
   ]
  },
  {
   "cell_type": "markdown",
   "metadata": {},
   "source": [
    "# Recipe similarity"
   ]
  },
  {
   "cell_type": "code",
   "execution_count": 15,
   "metadata": {},
   "outputs": [],
   "source": [
    "from nltk.stem import PorterStemmer, WordNetLemmatizer\n",
    "\n",
    "stemmer = PorterStemmer()\n",
    "lemmatiser = WordNetLemmatizer()"
   ]
  },
  {
   "cell_type": "code",
   "execution_count": 16,
   "metadata": {},
   "outputs": [],
   "source": [
    "for index, ingredient in enumerate(raw_ingredients):\n",
    "    raw_ingredients[index] = \" \".join([lemmatiser.lemmatize(item) for item in nltk.word_tokenize(ingredient)])\n"
   ]
  },
  {
   "cell_type": "code",
   "execution_count": 17,
   "metadata": {},
   "outputs": [],
   "source": [
    "from __future__ import division\n",
    "from fractions import Fraction\n",
    "\n",
    "def convert_fraction(measurement):\n",
    "    return sum([float(Fraction(unit)) for unit in measurement.split()])"
   ]
  },
  {
   "cell_type": "code",
   "execution_count": 18,
   "metadata": {},
   "outputs": [],
   "source": [
    "nutrition = pd.read_json('../data/recipe_data/6676/nutrition.json')"
   ]
  },
  {
   "cell_type": "code",
   "execution_count": 19,
   "metadata": {},
   "outputs": [],
   "source": [
    "with open ('../data/recipe_data/6676/nutrition.json') as json_file:\n",
    "    nutrition_json = json.load(json_file)"
   ]
  },
  {
   "cell_type": "code",
   "execution_count": 20,
   "metadata": {},
   "outputs": [
    {
     "data": {
      "text/plain": [
       "['calcium',\n",
       " 'calories',\n",
       " 'caloriesFromFat',\n",
       " 'carbohydrates',\n",
       " 'cholesterol',\n",
       " 'fat',\n",
       " 'fiber',\n",
       " 'folate',\n",
       " 'iron',\n",
       " 'magnesium',\n",
       " 'niacin',\n",
       " 'potassium',\n",
       " 'protein',\n",
       " 'saturatedFat',\n",
       " 'sodium',\n",
       " 'sugars',\n",
       " 'thiamin',\n",
       " 'vitaminA',\n",
       " 'vitaminB6',\n",
       " 'vitaminC']"
      ]
     },
     "execution_count": 20,
     "metadata": {},
     "output_type": "execute_result"
    }
   ],
   "source": [
    "sorted(nutrition_json['nutrition'].keys())"
   ]
  },
  {
   "cell_type": "code",
   "execution_count": 21,
   "metadata": {},
   "outputs": [
    {
     "data": {
      "text/html": [
       "<div>\n",
       "<style scoped>\n",
       "    .dataframe tbody tr th:only-of-type {\n",
       "        vertical-align: middle;\n",
       "    }\n",
       "\n",
       "    .dataframe tbody tr th {\n",
       "        vertical-align: top;\n",
       "    }\n",
       "\n",
       "    .dataframe thead th {\n",
       "        text-align: right;\n",
       "    }\n",
       "</style>\n",
       "<table border=\"1\" class=\"dataframe\">\n",
       "  <thead>\n",
       "    <tr style=\"text-align: right;\">\n",
       "      <th></th>\n",
       "      <th>total_time</th>\n",
       "      <th>ingredients</th>\n",
       "      <th>instructions</th>\n",
       "      <th>health_score</th>\n",
       "      <th>calcium</th>\n",
       "      <th>calories</th>\n",
       "      <th>caloriesFromFat</th>\n",
       "      <th>carbohydrates</th>\n",
       "      <th>cholesterol</th>\n",
       "      <th>fat</th>\n",
       "      <th>...</th>\n",
       "      <th>niacin</th>\n",
       "      <th>potassium</th>\n",
       "      <th>protein</th>\n",
       "      <th>saturatedFat</th>\n",
       "      <th>sodium</th>\n",
       "      <th>sugars</th>\n",
       "      <th>thiamin</th>\n",
       "      <th>vitaminA</th>\n",
       "      <th>vitaminB6</th>\n",
       "      <th>vitaminC</th>\n",
       "    </tr>\n",
       "    <tr>\n",
       "      <th>id</th>\n",
       "      <th></th>\n",
       "      <th></th>\n",
       "      <th></th>\n",
       "      <th></th>\n",
       "      <th></th>\n",
       "      <th></th>\n",
       "      <th></th>\n",
       "      <th></th>\n",
       "      <th></th>\n",
       "      <th></th>\n",
       "      <th></th>\n",
       "      <th></th>\n",
       "      <th></th>\n",
       "      <th></th>\n",
       "      <th></th>\n",
       "      <th></th>\n",
       "      <th></th>\n",
       "      <th></th>\n",
       "      <th></th>\n",
       "      <th></th>\n",
       "      <th></th>\n",
       "    </tr>\n",
       "  </thead>\n",
       "  <tbody>\n",
       "    <tr>\n",
       "      <th>100008</th>\n",
       "      <td>45 m</td>\n",
       "      <td>[{'text': '8 ounces fresh young ginger root, p...</td>\n",
       "      <td>[Cut the ginger into chunks and place them int...</td>\n",
       "      <td>4</td>\n",
       "      <td>{'amount': 1.171771, 'hasCompleteData': True, ...</td>\n",
       "      <td>{'amount': 13.6625, 'hasCompleteData': True, '...</td>\n",
       "      <td>{'amount': 0.47250000000000003, 'hasCompleteDa...</td>\n",
       "      <td>{'amount': 3.326817, 'hasCompleteData': True, ...</td>\n",
       "      <td>{'amount': 0.0, 'hasCompleteData': True, 'disp...</td>\n",
       "      <td>{'amount': 0.052500000000000005, 'hasCompleteD...</td>\n",
       "      <td>...</td>\n",
       "      <td>{'amount': 0.0665, 'hasCompleteData': False, '...</td>\n",
       "      <td>{'amount': 29.76198, 'hasCompleteData': False,...</td>\n",
       "      <td>{'amount': 0.1274, 'hasCompleteData': True, 'd...</td>\n",
       "      <td>{'amount': 0.01421, 'hasCompleteData': True, '...</td>\n",
       "      <td>{'amount': 83.41, 'hasCompleteData': True, 'di...</td>\n",
       "      <td>{'amount': 2.200458, 'hasCompleteData': True, ...</td>\n",
       "      <td>{'amount': 0.00161, 'hasCompleteData': False, ...</td>\n",
       "      <td>{'amount': 0.0, 'hasCompleteData': True, 'disp...</td>\n",
       "      <td>{'amount': 0.0112, 'hasCompleteData': False, '...</td>\n",
       "      <td>{'amount': 0.35000000000000003, 'hasCompleteDa...</td>\n",
       "    </tr>\n",
       "    <tr>\n",
       "      <th>10001</th>\n",
       "      <td>None</td>\n",
       "      <td>[{'id': '16317', 'text': '4 eggs'}, {'id': '14...</td>\n",
       "      <td>[Whisk the eggs with the sugar and salt until ...</td>\n",
       "      <td>8</td>\n",
       "      <td>{'amount': 96.83675, 'hasCompleteData': True, ...</td>\n",
       "      <td>{'amount': 357.6104, 'hasCompleteData': True, ...</td>\n",
       "      <td>{'amount': 203.0924, 'hasCompleteData': True, ...</td>\n",
       "      <td>{'amount': 35.48761, 'hasCompleteData': True, ...</td>\n",
       "      <td>{'amount': 102.6708, 'hasCompleteData': True, ...</td>\n",
       "      <td>{'amount': 22.56582, 'hasCompleteData': True, ...</td>\n",
       "      <td>...</td>\n",
       "      <td>{'amount': 2.7157400000000003, 'hasCompleteDat...</td>\n",
       "      <td>{'amount': 152.4793, 'hasCompleteData': True, ...</td>\n",
       "      <td>{'amount': 5.999063, 'hasCompleteData': True, ...</td>\n",
       "      <td>{'amount': 10.78192, 'hasCompleteData': True, ...</td>\n",
       "      <td>{'amount': 196.5283, 'hasCompleteData': True, ...</td>\n",
       "      <td>{'amount': 17.2474, 'hasCompleteData': True, '...</td>\n",
       "      <td>{'amount': 0.2310342, 'hasCompleteData': True,...</td>\n",
       "      <td>{'amount': 555.8644, 'hasCompleteData': True, ...</td>\n",
       "      <td>{'amount': 0.08333621000000001, 'hasCompleteDa...</td>\n",
       "      <td>{'amount': 0.5352042, 'hasCompleteData': True,...</td>\n",
       "    </tr>\n",
       "    <tr>\n",
       "      <th>100011</th>\n",
       "      <td>1 h</td>\n",
       "      <td>[{'text': '2 tablespoons vegetable oil', 'id':...</td>\n",
       "      <td>[Heat 1 tablespoon vegetable oil in a skillet ...</td>\n",
       "      <td>7</td>\n",
       "      <td>{'percentDailyValue': '8', 'hasCompleteData': ...</td>\n",
       "      <td>{'percentDailyValue': '24', 'hasCompleteData':...</td>\n",
       "      <td>{'percentDailyValue': '-', 'hasCompleteData': ...</td>\n",
       "      <td>{'percentDailyValue': '9', 'hasCompleteData': ...</td>\n",
       "      <td>{'percentDailyValue': '26', 'hasCompleteData':...</td>\n",
       "      <td>{'percentDailyValue': '41', 'hasCompleteData':...</td>\n",
       "      <td>...</td>\n",
       "      <td>{'percentDailyValue': '99', 'hasCompleteData':...</td>\n",
       "      <td>{'percentDailyValue': '24', 'hasCompleteData':...</td>\n",
       "      <td>{'percentDailyValue': '66', 'hasCompleteData':...</td>\n",
       "      <td>{'percentDailyValue': '42', 'hasCompleteData':...</td>\n",
       "      <td>{'percentDailyValue': '54', 'hasCompleteData':...</td>\n",
       "      <td>{'percentDailyValue': '0', 'hasCompleteData': ...</td>\n",
       "      <td>{'percentDailyValue': '96', 'hasCompleteData':...</td>\n",
       "      <td>{'percentDailyValue': '&lt; 1', 'hasCompleteData'...</td>\n",
       "      <td>{'percentDailyValue': '46', 'hasCompleteData':...</td>\n",
       "      <td>{'percentDailyValue': '11', 'hasCompleteData':...</td>\n",
       "    </tr>\n",
       "    <tr>\n",
       "      <th>10002</th>\n",
       "      <td>None</td>\n",
       "      <td>[{'id': '16421', 'text': '1/2 teaspoon salt'},...</td>\n",
       "      <td>[Preheat oven to 325 degrees F (170 degrees C)...</td>\n",
       "      <td>6</td>\n",
       "      <td>{'amount': 13.48675, 'hasCompleteData': True, ...</td>\n",
       "      <td>{'amount': 199.9955, 'hasCompleteData': True, ...</td>\n",
       "      <td>{'amount': 104.309, 'hasCompleteData': True, '...</td>\n",
       "      <td>{'amount': 21.94938, 'hasCompleteData': True, ...</td>\n",
       "      <td>{'amount': 12.44067, 'hasCompleteData': True, ...</td>\n",
       "      <td>{'amount': 11.58989, 'hasCompleteData': True, ...</td>\n",
       "      <td>...</td>\n",
       "      <td>{'amount': 2.251066, 'hasCompleteData': True, ...</td>\n",
       "      <td>{'amount': 79.8545, 'hasCompleteData': True, '...</td>\n",
       "      <td>{'amount': 3.463482, 'hasCompleteData': True, ...</td>\n",
       "      <td>{'amount': 2.7348, 'hasCompleteData': True, 'd...</td>\n",
       "      <td>{'amount': 127.2791, 'hasCompleteData': True, ...</td>\n",
       "      <td>{'amount': 14.64034, 'hasCompleteData': True, ...</td>\n",
       "      <td>{'amount': 0.07540625000000001, 'hasCompleteDa...</td>\n",
       "      <td>{'amount': 17.19408, 'hasCompleteData': True, ...</td>\n",
       "      <td>{'amount': 0.05833117, 'hasCompleteData': True...</td>\n",
       "      <td>{'amount': 0.001016667, 'hasCompleteData': Tru...</td>\n",
       "    </tr>\n",
       "    <tr>\n",
       "      <th>10003</th>\n",
       "      <td>35 m</td>\n",
       "      <td>[{'text': '1 cup butter', 'id': '16157'}, {'te...</td>\n",
       "      <td>[Preheat oven to 350 degrees F (175 degrees C)...</td>\n",
       "      <td>6</td>\n",
       "      <td>{'percentDailyValue': '&lt; 1', 'hasCompleteData'...</td>\n",
       "      <td>{'percentDailyValue': '6', 'hasCompleteData': ...</td>\n",
       "      <td>{'percentDailyValue': '-', 'hasCompleteData': ...</td>\n",
       "      <td>{'percentDailyValue': '4', 'hasCompleteData': ...</td>\n",
       "      <td>{'percentDailyValue': '7', 'hasCompleteData': ...</td>\n",
       "      <td>{'percentDailyValue': '12', 'hasCompleteData':...</td>\n",
       "      <td>...</td>\n",
       "      <td>{'percentDailyValue': '5', 'hasCompleteData': ...</td>\n",
       "      <td>{'percentDailyValue': '&lt; 1', 'hasCompleteData'...</td>\n",
       "      <td>{'percentDailyValue': '2', 'hasCompleteData': ...</td>\n",
       "      <td>{'percentDailyValue': '24', 'hasCompleteData':...</td>\n",
       "      <td>{'percentDailyValue': '2', 'hasCompleteData': ...</td>\n",
       "      <td>{'percentDailyValue': '0', 'hasCompleteData': ...</td>\n",
       "      <td>{'percentDailyValue': '6', 'hasCompleteData': ...</td>\n",
       "      <td>{'percentDailyValue': '5', 'hasCompleteData': ...</td>\n",
       "      <td>{'percentDailyValue': '&lt; 1', 'hasCompleteData'...</td>\n",
       "      <td>{'percentDailyValue': '0', 'hasCompleteData': ...</td>\n",
       "    </tr>\n",
       "  </tbody>\n",
       "</table>\n",
       "<p>5 rows × 24 columns</p>\n",
       "</div>"
      ],
      "text/plain": [
       "       total_time                                        ingredients  \\\n",
       "id                                                                     \n",
       "100008       45 m  [{'text': '8 ounces fresh young ginger root, p...   \n",
       "10001        None  [{'id': '16317', 'text': '4 eggs'}, {'id': '14...   \n",
       "100011        1 h  [{'text': '2 tablespoons vegetable oil', 'id':...   \n",
       "10002        None  [{'id': '16421', 'text': '1/2 teaspoon salt'},...   \n",
       "10003        35 m  [{'text': '1 cup butter', 'id': '16157'}, {'te...   \n",
       "\n",
       "                                             instructions  health_score  \\\n",
       "id                                                                        \n",
       "100008  [Cut the ginger into chunks and place them int...             4   \n",
       "10001   [Whisk the eggs with the sugar and salt until ...             8   \n",
       "100011  [Heat 1 tablespoon vegetable oil in a skillet ...             7   \n",
       "10002   [Preheat oven to 325 degrees F (170 degrees C)...             6   \n",
       "10003   [Preheat oven to 350 degrees F (175 degrees C)...             6   \n",
       "\n",
       "                                                  calcium  \\\n",
       "id                                                          \n",
       "100008  {'amount': 1.171771, 'hasCompleteData': True, ...   \n",
       "10001   {'amount': 96.83675, 'hasCompleteData': True, ...   \n",
       "100011  {'percentDailyValue': '8', 'hasCompleteData': ...   \n",
       "10002   {'amount': 13.48675, 'hasCompleteData': True, ...   \n",
       "10003   {'percentDailyValue': '< 1', 'hasCompleteData'...   \n",
       "\n",
       "                                                 calories  \\\n",
       "id                                                          \n",
       "100008  {'amount': 13.6625, 'hasCompleteData': True, '...   \n",
       "10001   {'amount': 357.6104, 'hasCompleteData': True, ...   \n",
       "100011  {'percentDailyValue': '24', 'hasCompleteData':...   \n",
       "10002   {'amount': 199.9955, 'hasCompleteData': True, ...   \n",
       "10003   {'percentDailyValue': '6', 'hasCompleteData': ...   \n",
       "\n",
       "                                          caloriesFromFat  \\\n",
       "id                                                          \n",
       "100008  {'amount': 0.47250000000000003, 'hasCompleteDa...   \n",
       "10001   {'amount': 203.0924, 'hasCompleteData': True, ...   \n",
       "100011  {'percentDailyValue': '-', 'hasCompleteData': ...   \n",
       "10002   {'amount': 104.309, 'hasCompleteData': True, '...   \n",
       "10003   {'percentDailyValue': '-', 'hasCompleteData': ...   \n",
       "\n",
       "                                            carbohydrates  \\\n",
       "id                                                          \n",
       "100008  {'amount': 3.326817, 'hasCompleteData': True, ...   \n",
       "10001   {'amount': 35.48761, 'hasCompleteData': True, ...   \n",
       "100011  {'percentDailyValue': '9', 'hasCompleteData': ...   \n",
       "10002   {'amount': 21.94938, 'hasCompleteData': True, ...   \n",
       "10003   {'percentDailyValue': '4', 'hasCompleteData': ...   \n",
       "\n",
       "                                              cholesterol  \\\n",
       "id                                                          \n",
       "100008  {'amount': 0.0, 'hasCompleteData': True, 'disp...   \n",
       "10001   {'amount': 102.6708, 'hasCompleteData': True, ...   \n",
       "100011  {'percentDailyValue': '26', 'hasCompleteData':...   \n",
       "10002   {'amount': 12.44067, 'hasCompleteData': True, ...   \n",
       "10003   {'percentDailyValue': '7', 'hasCompleteData': ...   \n",
       "\n",
       "                                                      fat  \\\n",
       "id                                                          \n",
       "100008  {'amount': 0.052500000000000005, 'hasCompleteD...   \n",
       "10001   {'amount': 22.56582, 'hasCompleteData': True, ...   \n",
       "100011  {'percentDailyValue': '41', 'hasCompleteData':...   \n",
       "10002   {'amount': 11.58989, 'hasCompleteData': True, ...   \n",
       "10003   {'percentDailyValue': '12', 'hasCompleteData':...   \n",
       "\n",
       "                              ...                          \\\n",
       "id                            ...                           \n",
       "100008                        ...                           \n",
       "10001                         ...                           \n",
       "100011                        ...                           \n",
       "10002                         ...                           \n",
       "10003                         ...                           \n",
       "\n",
       "                                                   niacin  \\\n",
       "id                                                          \n",
       "100008  {'amount': 0.0665, 'hasCompleteData': False, '...   \n",
       "10001   {'amount': 2.7157400000000003, 'hasCompleteDat...   \n",
       "100011  {'percentDailyValue': '99', 'hasCompleteData':...   \n",
       "10002   {'amount': 2.251066, 'hasCompleteData': True, ...   \n",
       "10003   {'percentDailyValue': '5', 'hasCompleteData': ...   \n",
       "\n",
       "                                                potassium  \\\n",
       "id                                                          \n",
       "100008  {'amount': 29.76198, 'hasCompleteData': False,...   \n",
       "10001   {'amount': 152.4793, 'hasCompleteData': True, ...   \n",
       "100011  {'percentDailyValue': '24', 'hasCompleteData':...   \n",
       "10002   {'amount': 79.8545, 'hasCompleteData': True, '...   \n",
       "10003   {'percentDailyValue': '< 1', 'hasCompleteData'...   \n",
       "\n",
       "                                                  protein  \\\n",
       "id                                                          \n",
       "100008  {'amount': 0.1274, 'hasCompleteData': True, 'd...   \n",
       "10001   {'amount': 5.999063, 'hasCompleteData': True, ...   \n",
       "100011  {'percentDailyValue': '66', 'hasCompleteData':...   \n",
       "10002   {'amount': 3.463482, 'hasCompleteData': True, ...   \n",
       "10003   {'percentDailyValue': '2', 'hasCompleteData': ...   \n",
       "\n",
       "                                             saturatedFat  \\\n",
       "id                                                          \n",
       "100008  {'amount': 0.01421, 'hasCompleteData': True, '...   \n",
       "10001   {'amount': 10.78192, 'hasCompleteData': True, ...   \n",
       "100011  {'percentDailyValue': '42', 'hasCompleteData':...   \n",
       "10002   {'amount': 2.7348, 'hasCompleteData': True, 'd...   \n",
       "10003   {'percentDailyValue': '24', 'hasCompleteData':...   \n",
       "\n",
       "                                                   sodium  \\\n",
       "id                                                          \n",
       "100008  {'amount': 83.41, 'hasCompleteData': True, 'di...   \n",
       "10001   {'amount': 196.5283, 'hasCompleteData': True, ...   \n",
       "100011  {'percentDailyValue': '54', 'hasCompleteData':...   \n",
       "10002   {'amount': 127.2791, 'hasCompleteData': True, ...   \n",
       "10003   {'percentDailyValue': '2', 'hasCompleteData': ...   \n",
       "\n",
       "                                                   sugars  \\\n",
       "id                                                          \n",
       "100008  {'amount': 2.200458, 'hasCompleteData': True, ...   \n",
       "10001   {'amount': 17.2474, 'hasCompleteData': True, '...   \n",
       "100011  {'percentDailyValue': '0', 'hasCompleteData': ...   \n",
       "10002   {'amount': 14.64034, 'hasCompleteData': True, ...   \n",
       "10003   {'percentDailyValue': '0', 'hasCompleteData': ...   \n",
       "\n",
       "                                                  thiamin  \\\n",
       "id                                                          \n",
       "100008  {'amount': 0.00161, 'hasCompleteData': False, ...   \n",
       "10001   {'amount': 0.2310342, 'hasCompleteData': True,...   \n",
       "100011  {'percentDailyValue': '96', 'hasCompleteData':...   \n",
       "10002   {'amount': 0.07540625000000001, 'hasCompleteDa...   \n",
       "10003   {'percentDailyValue': '6', 'hasCompleteData': ...   \n",
       "\n",
       "                                                 vitaminA  \\\n",
       "id                                                          \n",
       "100008  {'amount': 0.0, 'hasCompleteData': True, 'disp...   \n",
       "10001   {'amount': 555.8644, 'hasCompleteData': True, ...   \n",
       "100011  {'percentDailyValue': '< 1', 'hasCompleteData'...   \n",
       "10002   {'amount': 17.19408, 'hasCompleteData': True, ...   \n",
       "10003   {'percentDailyValue': '5', 'hasCompleteData': ...   \n",
       "\n",
       "                                                vitaminB6  \\\n",
       "id                                                          \n",
       "100008  {'amount': 0.0112, 'hasCompleteData': False, '...   \n",
       "10001   {'amount': 0.08333621000000001, 'hasCompleteDa...   \n",
       "100011  {'percentDailyValue': '46', 'hasCompleteData':...   \n",
       "10002   {'amount': 0.05833117, 'hasCompleteData': True...   \n",
       "10003   {'percentDailyValue': '< 1', 'hasCompleteData'...   \n",
       "\n",
       "                                                 vitaminC  \n",
       "id                                                         \n",
       "100008  {'amount': 0.35000000000000003, 'hasCompleteDa...  \n",
       "10001   {'amount': 0.5352042, 'hasCompleteData': True,...  \n",
       "100011  {'percentDailyValue': '11', 'hasCompleteData':...  \n",
       "10002   {'amount': 0.001016667, 'hasCompleteData': Tru...  \n",
       "10003   {'percentDailyValue': '0', 'hasCompleteData': ...  \n",
       "\n",
       "[5 rows x 24 columns]"
      ]
     },
     "execution_count": 21,
     "metadata": {},
     "output_type": "execute_result"
    }
   ],
   "source": [
    "recipes_data = pd.read_json('../data/recipes.json')\n",
    "columns = ['id','total_time','ingredients', 'instructions', 'health_score'] + sorted(nutrition_json['nutrition'].keys())\n",
    "recipes_data = recipes_data[columns]\n",
    "recipes_data = recipes_data.set_index('id')\n",
    "recipes_data.head()"
   ]
  },
  {
   "cell_type": "code",
   "execution_count": 22,
   "metadata": {},
   "outputs": [],
   "source": [
    "unit_converter = {'gallon': 3785, 'bag':1, 'package':1, 'roll':1, 'quart':0.001,'count':1, 'bone':1, 'lb':453, 'ml':100,'g':1,'oz':28.3, 'millilit': 1,'no_unit':1, 'bunch':150, 'stalk':200, 'pinch':1, 'pint':500, 'inch':1, 'clove':1, 'cup': 340, 'tablespoon':14.3, 'pound':453, 'ounc':28.3,  'teaspoon':4.2, 'kg':1000, 'gram':1, 'liter':1000, 'deciliter':100, 'mL':1}\n"
   ]
  },
  {
   "cell_type": "code",
   "execution_count": 23,
   "metadata": {},
   "outputs": [],
   "source": [
    "units = unit_converter.keys()"
   ]
  },
  {
   "cell_type": "code",
   "execution_count": 25,
   "metadata": {},
   "outputs": [],
   "source": [
    "def get_quantity_unit(ingredient):\n",
    "    m = re.match('[-]?[0-9]+[,. ]?[0-9]*([\\/][0-9]+[,.]?[0-9]*)*', ingredient)\n",
    "    if m is not None:\n",
    "        o = re.match('\\([-]?[0-9]+[,. ]?[0-9]*([\\/][0-9]+[,.]?[0-9]*)* ?[a-z]*[A-Z]*\\)', ingredient[m.end():])\n",
    "        if o is not None:\n",
    "            b = re.match('[-]?[0-9]+[,. ]?[0-9]*([\\/][0-9]+[,.]?[0-9]*)*', o.group()[1:-1])\n",
    "            if stemmer.stem(o.group()[1:-1].split()[-1]) in units:\n",
    "                return convert_fraction(b.group()), stemmer.stem(o.group()[1:-1].split()[-1])\n",
    "            else:\n",
    "                return convert_fraction(o.group()[1:-1]),stemmer.stem(ingredient[len(o.group())+m.end():].split()[0])\n",
    "        else:\n",
    "            ing_parts = [stemmer.stem(word) for word in nltk.word_tokenize(ingredient)]\n",
    "            for part in ing_parts:\n",
    "                if part in units:\n",
    "                    return convert_fraction(m.group()), part\n",
    "            return convert_fraction(m.group()), 'no_unit'\n",
    "    \n",
    "    else:\n",
    "        return 1, 'no_unit'\n"
   ]
  },
  {
   "cell_type": "code",
   "execution_count": 28,
   "metadata": {},
   "outputs": [],
   "source": [
    "ings = [(recipe_ing['text'], recipe_ing['id']) for recipe_ings in recipes_data['ingredients'] for recipe_ing in recipe_ings]"
   ]
  },
  {
   "cell_type": "code",
   "execution_count": 64,
   "metadata": {},
   "outputs": [],
   "source": [
    "recipes_copy = pd.read_json('../data/recipes_clean.json')"
   ]
  },
  {
   "cell_type": "code",
   "execution_count": null,
   "metadata": {},
   "outputs": [],
   "source": [
    "recipes_data = pd.read_json('../data/recipes.json')\n",
    "columns = ['id','total_time','ingredients', 'instructions', 'health_score'] + sorted(nutrition_json['nutrition'].keys())\n",
    "recipes_data = recipes_data[columns]\n",
    "recipes_data = recipes_data.set_index('id')\n",
    "recipes_data.head()"
   ]
  },
  {
   "cell_type": "code",
   "execution_count": 108,
   "metadata": {},
   "outputs": [],
   "source": [
    "with open('../data/clean_recipes.csv', 'w') as f:\n",
    "    recipes_copy.to_csv(f, header=True, index=True)"
   ]
  },
  {
   "cell_type": "code",
   "execution_count": 55,
   "metadata": {},
   "outputs": [],
   "source": [
    "all_ingredients = set([ingredient['id'] for recipe in recipes_copy['ingredients'] for ingredient in recipe])"
   ]
  },
  {
   "cell_type": "markdown",
   "metadata": {},
   "source": [
    "## Recipes bitmap"
   ]
  },
  {
   "cell_type": "code",
   "execution_count": 164,
   "metadata": {},
   "outputs": [
    {
     "name": "stderr",
     "output_type": "stream",
     "text": [
      "100%|██████████| 44065/44065 [03:40<00:00, 199.47it/s]\n"
     ]
    }
   ],
   "source": [
    "columns = sorted(full_ingredients)\n",
    "\n",
    "with open('../data/ingredients_bitmap.csv', 'w') as f:\n",
    "    writer = csv.DictWriter(f, fieldnames=['id']+columns)\n",
    "    writer.writeheader()\n",
    "\n",
    "    recipe_bitmap_vector = {}\n",
    "\n",
    "    for ingredient in full_ingredients:\n",
    "        recipe_bitmap_vector.update({ingredient:0})\n",
    "    for recipe_id in tqdm(recipes_data.index):\n",
    "        recipe_bitmap_vector.update({'id':recipe_id})\n",
    "        for ingredient in (build_ingredients_vector(recipe_id)):\n",
    "            recipe_bitmap_vector.update({ingredient:1}) \n",
    "        \n",
    "        writer.writerow(recipe_bitmap_vector)\n",
    "        for ingredient in (build_ingredients_vector(recipe_id)):\n",
    "            recipe_bitmap_vector.update({ingredient:0})  "
   ]
  },
  {
   "cell_type": "markdown",
   "metadata": {},
   "source": [
    "## Recipes quantity map"
   ]
  },
  {
   "cell_type": "code",
   "execution_count": 127,
   "metadata": {},
   "outputs": [
    {
     "data": {
      "text/plain": [
       "6253"
      ]
     },
     "execution_count": 127,
     "metadata": {},
     "output_type": "execute_result"
    }
   ],
   "source": [
    "len(all_ingredients)"
   ]
  },
  {
   "cell_type": "code",
   "execution_count": null,
   "metadata": {},
   "outputs": [],
   "source": [
    "to_convert = []\n",
    "critical = []\n",
    "rows = []\n",
    "columns = sorted(all_ingredients)\n",
    "\n",
    "with open('ingredients_quantity_map.csv', 'w') as f:\n",
    "    writer = csv.DictWriter(f, fieldnames=['id']+columns)\n",
    "    writer.writeheader()\n",
    "\n",
    "    recipe_bitmap_vector = Counter()\n",
    "    for ingredient in all_ingredients:\n",
    "        recipe_bitmap_vector[ingredient]=0\n",
    "    \n",
    "    for recipe_id in tqdm(recipes_copy.index):\n",
    "        try:\n",
    "            recipe_bitmap_vector['id']=recipe_id\n",
    "            for ingredient in (recipes_copy.at[recipe_id, 'ingredients']):\n",
    "                quantity, unit = get_quantity_unit(ingredient['text'])    \n",
    "                recipe_bitmap_vector[ingredient['id']]+= quantity*unit_converter[unit]\n",
    "            writer.writerow(recipe_bitmap_vector)\n",
    "            \n",
    "            \n",
    "            for ingredient in (recipe_bitmap_vector):\n",
    "                recipe_bitmap_vector[ingredient]=0\n",
    "\n",
    "        except Exception as e:            \n",
    "            print(e, recipe_id, ingredient)\n"
   ]
  },
  {
   "cell_type": "code",
   "execution_count": 9,
   "metadata": {},
   "outputs": [],
   "source": [
    "import pandas as pd"
   ]
  },
  {
   "cell_type": "code",
   "execution_count": 47,
   "metadata": {},
   "outputs": [],
   "source": [
    "quantity_map = pd.read_csv('ingredients_quantity_map.csv', ',',  index_col='id')"
   ]
  },
  {
   "cell_type": "code",
   "execution_count": 49,
   "metadata": {},
   "outputs": [],
   "source": [
    "bitmap = pd.read_csv('../data/clean_ingredients_bitmap.csv', ',',  index_col='id')"
   ]
  },
  {
   "cell_type": "code",
   "execution_count": null,
   "metadata": {},
   "outputs": [],
   "source": []
  }
 ],
 "metadata": {
  "kernelspec": {
   "display_name": "Python [default]",
   "language": "python",
   "name": "python3"
  },
  "language_info": {
   "codemirror_mode": {
    "name": "ipython",
    "version": 3
   },
   "file_extension": ".py",
   "mimetype": "text/x-python",
   "name": "python",
   "nbconvert_exporter": "python",
   "pygments_lexer": "ipython3",
   "version": "3.6.5"
  }
 },
 "nbformat": 4,
 "nbformat_minor": 2
}
